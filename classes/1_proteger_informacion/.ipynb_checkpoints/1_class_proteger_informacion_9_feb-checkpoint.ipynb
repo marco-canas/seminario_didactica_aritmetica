{
 "cells": [
  {
   "cell_type": "markdown",
   "id": "41d690b0",
   "metadata": {
    "slideshow": {
     "slide_type": "slide"
    }
   },
   "source": [
    "<table align=\"left\">\n",
    "  <td>\n",
    "    <a href=\"https://colab.research.google.com/github/marco-canas/didactica_ciencia_datos/blob/main/propuesta/unidad_didac/1_statistic/1_Basic_Descriptive_Statistics/2_medidas_variabilidad/2_varianza.ipynb\" target=\"_parent\"><img src=\"https://colab.research.google.com/assets/colab-badge.svg\" alt=\"Open In Colab\"/></a>\n",
    "  </td>\n",
    "</table>"
   ]
  },
  {
   "cell_type": "markdown",
   "id": "c20599ab",
   "metadata": {
    "slideshow": {
     "slide_type": "slide"
    }
   },
   "source": [
    "## [Video de apoyo a la lectura interactiva y experimental de este cuaderno](https://www.youtube.com/watch?v=snyN_xwUgzY)"
   ]
  },
  {
   "cell_type": "markdown",
   "id": "d709e1ba",
   "metadata": {
    "slideshow": {
     "slide_type": "slide"
    }
   },
   "source": [
    "# Clase 1. Presentación del programa del curso. \n",
    "\n",
    "Fundamentos de la aritmética y [didáctica de la aritmética](https://drive.google.com/drive/folders/1dNHbB0Vd00qWRchty1TIRNQVvi7IzI21)  \n"
   ]
  },
  {
   "cell_type": "markdown",
   "id": "02452159",
   "metadata": {},
   "source": [
    "## introducción a la clase de aritmética"
   ]
  },
  {
   "cell_type": "markdown",
   "id": "1a7bf638",
   "metadata": {},
   "source": [
    "En los últimos veinte o treinta años se ha construido una amplia base crítica a la perspectiva currkular tradicional, fundamentada en los procesos de enseñanza y que toma como punto de partida el conocimiento matemático formal, para luego de ser enseñado por el profesor y, aprendido por el alumno, aplicarlo en la solución de diferentes tipos de problemas. Paralelo a estas críticas se han desarrollado propuestas curriculares alternativas que centran su atención no tanto en la enseñanza como en el aprendizaje. Una de ellas es el tratamiento currkular basado en las situaciones problema. Desde esta perspectiva se logra potenciar el trabajo autónomo del alumno, y por ende, desarrollar procesos de aprendizaje más significativos. Pero una perspectiva currkular en tal sentido implica transformar de las prácticas de maestros y alumnos, e incluso, la visión misma sobre el conocimiento matemático. En el presente artículo se muestran elementos teóricos del diseño de situaciones problema para la contextualización de la clase de matemáticas. (Obando, Gilberto 2009)."
   ]
  },
  {
   "cell_type": "markdown",
   "id": "b0bece7e",
   "metadata": {
    "slideshow": {
     "slide_type": "slide"
    }
   },
   "source": [
    "## [Objetivo de la clase 1](https://docs.google.com/document/d/189sr9HbEvo6vLK7ByTL-YCth3_gXddC4/edit)"
   ]
  },
  {
   "cell_type": "markdown",
   "id": "4cc1dec3",
   "metadata": {
    "slideshow": {
     "slide_type": "slide"
    }
   },
   "source": [
    "* Reconocer la utilidad y aplicabilidad de los números naturales en el proceso de protección de la información"
   ]
  },
  {
   "cell_type": "markdown",
   "id": "80333a9d",
   "metadata": {
    "slideshow": {
     "slide_type": "slide"
    }
   },
   "source": [
    "## Conceptos previos necesarios para alcanzar el objetivo de la clase"
   ]
  },
  {
   "cell_type": "markdown",
   "id": "947ed874",
   "metadata": {
    "slideshow": {
     "slide_type": "slide"
    }
   },
   "source": [
    "1. el operador `%` de python "
   ]
  },
  {
   "cell_type": "markdown",
   "id": "4beaa833",
   "metadata": {
    "slideshow": {
     "slide_type": "slide"
    }
   },
   "source": [
    "## Ejemplos de utilización del operador `%` de python"
   ]
  },
  {
   "cell_type": "code",
   "execution_count": 3,
   "id": "f5f66f2b",
   "metadata": {
    "slideshow": {
     "slide_type": "slide"
    }
   },
   "outputs": [
    {
     "data": {
      "text/plain": [
       "0"
      ]
     },
     "execution_count": 3,
     "metadata": {},
     "output_type": "execute_result"
    }
   ],
   "source": [
    "4%2"
   ]
  },
  {
   "cell_type": "markdown",
   "id": "8d1227fb",
   "metadata": {
    "slideshow": {
     "slide_type": "slide"
    }
   },
   "source": [
    "## Aplicación computacional de la función %"
   ]
  },
  {
   "cell_type": "code",
   "execution_count": 4,
   "id": "e7a10cb8",
   "metadata": {
    "slideshow": {
     "slide_type": "slide"
    }
   },
   "outputs": [],
   "source": [
    "# determinar si un número es par o \n",
    "\n",
    "def determinar_si_es_par_o_no(n):\n",
    "    if n%2==0:\n",
    "        print(f'el número {n} es par')\n",
    "    else:\n",
    "        print(f'el número {n} es impar') "
   ]
  },
  {
   "cell_type": "code",
   "execution_count": 6,
   "id": "543c66ef",
   "metadata": {
    "slideshow": {
     "slide_type": "slide"
    }
   },
   "outputs": [
    {
     "name": "stdout",
     "output_type": "stream",
     "text": [
      "el número 12 es par\n"
     ]
    }
   ],
   "source": [
    "determinar_si_es_par_o_no(12) "
   ]
  },
  {
   "cell_type": "markdown",
   "id": "081641f5",
   "metadata": {
    "slideshow": {
     "slide_type": "slide"
    }
   },
   "source": [
    "# CAPÍTULO 1  "
   ]
  },
  {
   "cell_type": "markdown",
   "id": "daa4751f",
   "metadata": {
    "slideshow": {
     "slide_type": "slide"
    }
   },
   "source": [
    "## Criptografía: más que secreto"
   ]
  },
  {
   "cell_type": "markdown",
   "id": "469bc2be",
   "metadata": {
    "slideshow": {
     "slide_type": "slide"
    }
   },
   "source": [
    "¡Bienvenido al mundo de la criptografía práctica!"
   ]
  },
  {
   "cell_type": "markdown",
   "id": "27351e4f",
   "metadata": {
    "slideshow": {
     "slide_type": "slide"
    }
   },
   "source": [
    "## Objetivo general:   \n",
    "\n",
    "enseñarle lo suficiente sobre criptografía para que \n",
    "* pueda razonar sobre lo que hace, \n",
    "* cuándo se pueden aplicar ciertos tipos de manera efectiva y \n",
    "* cómo elegir buenas estrategias y algoritmos."
   ]
  },
  {
   "cell_type": "markdown",
   "id": "9c2741e4",
   "metadata": {
    "slideshow": {
     "slide_type": "slide"
    }
   },
   "source": [
    "Estos ejemplos a menudo van acompañados de un escenario ficticio para agregar algo de contexto."
   ]
  },
  {
   "cell_type": "markdown",
   "id": "5c4e2581",
   "metadata": {
    "slideshow": {
     "slide_type": "slide"
    }
   },
   "source": []
  },
  {
   "cell_type": "code",
   "execution_count": null,
   "id": "4b57da62",
   "metadata": {
    "slideshow": {
     "slide_type": "slide"
    }
   },
   "outputs": [],
   "source": []
  },
  {
   "cell_type": "code",
   "execution_count": null,
   "id": "bc3f287d",
   "metadata": {
    "slideshow": {
     "slide_type": "slide"
    }
   },
   "outputs": [],
   "source": []
  },
  {
   "cell_type": "code",
   "execution_count": null,
   "id": "2322c62b",
   "metadata": {},
   "outputs": [],
   "source": []
  },
  {
   "cell_type": "markdown",
   "id": "a29bc0a5",
   "metadata": {
    "slideshow": {
     "slide_type": "slide"
    }
   },
   "source": [
    "## Tareas de fijación de conceptos y adquisición de habilidades"
   ]
  },
  {
   "cell_type": "markdown",
   "id": "73596410",
   "metadata": {
    "slideshow": {
     "slide_type": "slide"
    }
   },
   "source": [
    "1. Escribe un mensaje y codificalo con una distancia de N = dada por usted.  "
   ]
  },
  {
   "cell_type": "markdown",
   "id": "a9839fd8",
   "metadata": {
    "slideshow": {
     "slide_type": "slide"
    }
   },
   "source": [
    "## Actividades de evaluación de aprendizajes y de adquisición de habilidades"
   ]
  },
  {
   "cell_type": "markdown",
   "id": "a2424d03",
   "metadata": {
    "slideshow": {
     "slide_type": "slide"
    }
   },
   "source": [
    "Determine a mano, realizando varias divisiones, cuales son todos los posibles residuos al dividir un número natural por 3. "
   ]
  },
  {
   "cell_type": "markdown",
   "id": "51715d3f",
   "metadata": {
    "slideshow": {
     "slide_type": "slide"
    }
   },
   "source": [
    "## Referentes"
   ]
  },
  {
   "cell_type": "markdown",
   "id": "5c9d679b",
   "metadata": {
    "slideshow": {
     "slide_type": "slide"
    }
   },
   "source": [
    "* OBANDO Z, Gilberto; MUNERA, John Jairo. Las situaciones problema como estrategia para la conceptualización matemática. Revista educación y pedagogía. Medellín: Universidad de Antioquia, Facultad de Educación. Vol. XV, no. 35, (enero- abril), 2003 pp 183-200. Recuperado de: https://revistas.udea.edu.co/index.php/revistaeyp/article/view/5952\n",
    "\n",
    "* el operador module (`%`) en Python: https://www.freecodecamp.org/news/the-python-modulo-operator-what-does-the-symbol-mean-in-python-solved/\n",
    "\n"
   ]
  },
  {
   "cell_type": "code",
   "execution_count": null,
   "id": "c64d3148",
   "metadata": {},
   "outputs": [],
   "source": []
  }
 ],
 "metadata": {
  "celltoolbar": "Slideshow",
  "kernelspec": {
   "display_name": "Python 3 (ipykernel)",
   "language": "python",
   "name": "python3"
  },
  "language_info": {
   "codemirror_mode": {
    "name": "ipython",
    "version": 3
   },
   "file_extension": ".py",
   "mimetype": "text/x-python",
   "name": "python",
   "nbconvert_exporter": "python",
   "pygments_lexer": "ipython3",
   "version": "3.9.13"
  }
 },
 "nbformat": 4,
 "nbformat_minor": 5
}
