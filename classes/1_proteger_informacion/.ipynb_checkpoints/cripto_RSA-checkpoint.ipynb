{
 "cells": [
  {
   "cell_type": "markdown",
   "id": "e9e92f97",
   "metadata": {
    "slideshow": {
     "slide_type": "slide"
    }
   },
   "source": [
    "<table align=\"left\">\n",
    "  <td>\n",
    "    <a href=\"https://colab.research.google.com/github/marco-canas/edo/blob/main/banco_preguntas/parcial_4/p_4_13.ipynb\" target=\"_parent\"><img src=\"https://colab.research.google.com/assets/colab-badge.svg\" alt=\"Open In Colab\"/></a>\n",
    "  </td>\n",
    "</table>"
   ]
  },
  {
   "cell_type": "markdown",
   "id": "91569d6e",
   "metadata": {
    "slideshow": {
     "slide_type": "slide"
    }
   },
   "source": [
    "## [Video de apoyo a la lectura de este cuaderno Jupyter]()"
   ]
  },
  {
   "cell_type": "markdown",
   "id": "52ff5499",
   "metadata": {
    "slideshow": {
     "slide_type": "slide"
    }
   },
   "source": [
    "# [Criptografía en Python RSA](https://pythondiario.com/2020/07/criptografia-en-python-rsa.html)"
   ]
  },
  {
   "cell_type": "markdown",
   "id": "0d8fe4bd",
   "metadata": {
    "slideshow": {
     "slide_type": "slide"
    }
   },
   "source": [
    "# ¿Qué es RSA? "
   ]
  },
  {
   "cell_type": "markdown",
   "id": "ef6ba33d",
   "metadata": {
    "slideshow": {
     "slide_type": "slide"
    }
   },
   "source": [
    "<img src = 'https://upload.wikimedia.org/wikipedia/commons/0/06/Adi_Shamir_2009_crop.jpg'>"
   ]
  },
  {
   "cell_type": "markdown",
   "id": "4d5da691",
   "metadata": {
    "slideshow": {
     "slide_type": "slide"
    }
   },
   "source": [
    "En criptografía, RSA (siglás de Rivest, Shamir y Adleman) es un sistema criptográfico de clave pública desarrollado en 1979, siendo el primer y el más utilizado algoritmo de esta índole registrado hasta la fecha."
   ]
  },
  {
   "cell_type": "markdown",
   "id": "d59f3377",
   "metadata": {},
   "source": [
    "Es capaz incluso\n",
    "de cifrar y firmar digitalmente.\n",
    "Como en todo sistema de clave pública, el emisor requiere la clave pública del\n",
    "receptor para cifrar los datos a enviar, a posteriori, el receptor deberá usar\n",
    "su clave privada para descifrarlos. Una cosa peculiar es que para el caso de\n",
    "firmar los datos, el emisor usa su propia clave privada para firmarlos y luego\n",
    "el receptor usar la clave pública del emisor para verificarlos. "
   ]
  },
  {
   "cell_type": "markdown",
   "id": "9e36541f",
   "metadata": {
    "slideshow": {
     "slide_type": "slide"
    }
   },
   "source": [
    "## La Librería pycryptodome"
   ]
  },
  {
   "cell_type": "markdown",
   "id": "f96da643",
   "metadata": {
    "slideshow": {
     "slide_type": "slide"
    }
   },
   "source": [
    "python no es solamente conocido por tener una sintaxis legible por humanos, también se le conoce por la cantidad excesivas (aunque útiles) de librerías, módulos y demás. "
   ]
  },
  {
   "cell_type": "markdown",
   "id": "65104457",
   "metadata": {
    "slideshow": {
     "slide_type": "slide"
    }
   },
   "source": [
    "pycryptodome es una librería que utiliza primitivas criptográficas de bajo-nivel, está escrita mayormente en python, pero para\n",
    "uso crítico (como el rendimiento) se utilizan algunas extensiones escritas en C."
   ]
  },
  {
   "cell_type": "markdown",
   "id": "644d5bca",
   "metadata": {
    "slideshow": {
     "slide_type": "slide"
    }
   },
   "source": [
    "pycryptodome en una bifurcación de la vieja librería pycrypto, que trae con\n",
    "sí, las siguientes mejoras:"
   ]
  },
  {
   "cell_type": "markdown",
   "id": "a2a97256",
   "metadata": {
    "slideshow": {
     "slide_type": "slide"
    }
   },
   "source": [
    "* Modos de cifrado autenticados (GCM, CCM, EAX, SIV, OCB)\n",
    "    AES acelerado en plataformas Intel a través de AES-NI\n",
    "    Soporte de primera clase para PyPy\n",
    "    Criptografía de curvas elípticas (solo curvas NIST P-256, P-384 y P-521)\n",
    "    API mejor y más compacta (atributos nonce y\n",
    "    iv para cifrados, generación automática de nonces e IVs\n",
    "    aleatorios, modo de cifrado CTR simplificado y más)\n",
    "    SHA-3 (incluidos los XOF SHAKE), algoritmos hash SHA-512 y BLAKE2\n",
    "    truncados\n",
    "    Cifrados de flujo Salsa20 y ChaCha20/XChaCha20\n",
    "    Poly1305 MAC\n",
    "    Cifrados autenticados ChaCha20-Poly1305 y XChaCha20-Poly1305\n",
    "    funciones de derivación scrypt, bcrypt y HKDF\n",
    "    Deterministic (EC)DSA\n",
    "    Contenedores de claves PKCS-8 protegidos con contraseña\n",
    "    Esquema de intercambio secreto de Shamir\n",
    "    Los números aleatorios consiguen originados directamente del sistema\n",
    "    operativo (y no de un CSPRNG [Generador de Números Criptográficamente\n",
    "    Seguros, en español] en el espacio de usuario)\n",
    "    Proceso de instalación simplificado, que incluye un mejor soporte para\n",
    "    Windows\n",
    "    Generación de claves RSA y DSA más limpia (basada en gran medida en FIPS\n",
    "    186-4)\n",
    "    Limpieza importante y simplificación de la base de código"
   ]
  },
  {
   "cell_type": "code",
   "execution_count": null,
   "id": "98c2e9c2",
   "metadata": {
    "slideshow": {
     "slide_type": "slide"
    }
   },
   "outputs": [],
   "source": []
  },
  {
   "cell_type": "code",
   "execution_count": null,
   "id": "94017d8c",
   "metadata": {},
   "outputs": [],
   "source": []
  },
  {
   "cell_type": "code",
   "execution_count": null,
   "id": "e084120a",
   "metadata": {},
   "outputs": [],
   "source": []
  },
  {
   "cell_type": "code",
   "execution_count": null,
   "id": "87470cb5",
   "metadata": {},
   "outputs": [],
   "source": []
  },
  {
   "cell_type": "code",
   "execution_count": null,
   "id": "82260adc",
   "metadata": {},
   "outputs": [],
   "source": []
  }
 ],
 "metadata": {
  "celltoolbar": "Slideshow",
  "kernelspec": {
   "display_name": "Python 3 (ipykernel)",
   "language": "python",
   "name": "python3"
  },
  "language_info": {
   "codemirror_mode": {
    "name": "ipython",
    "version": 3
   },
   "file_extension": ".py",
   "mimetype": "text/x-python",
   "name": "python",
   "nbconvert_exporter": "python",
   "pygments_lexer": "ipython3",
   "version": "3.9.13"
  }
 },
 "nbformat": 4,
 "nbformat_minor": 5
}
