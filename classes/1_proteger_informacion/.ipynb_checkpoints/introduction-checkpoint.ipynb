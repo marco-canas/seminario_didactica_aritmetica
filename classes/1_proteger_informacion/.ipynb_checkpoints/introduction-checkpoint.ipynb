{
 "cells": [
  {
   "cell_type": "markdown",
   "id": "e76d897d",
   "metadata": {
    "slideshow": {
     "slide_type": "slide"
    }
   },
   "source": [
    "<table align=\"left\">\n",
    "  <td>\n",
    "    <a href=\"https://colab.research.google.com/github/marco-canas/edo/blob/main/banco_preguntas/parcial_4/p_4_13.ipynb\" target=\"_parent\"><img src=\"https://colab.research.google.com/assets/colab-badge.svg\" alt=\"Open In Colab\"/></a>\n",
    "  </td>\n",
    "</table>"
   ]
  },
  {
   "cell_type": "markdown",
   "id": "7cb3b150",
   "metadata": {
    "slideshow": {
     "slide_type": "slide"
    }
   },
   "source": [
    "### [Video de repaso a la introducción al curso de aritmética]()"
   ]
  },
  {
   "cell_type": "markdown",
   "id": "a8d88174",
   "metadata": {
    "slideshow": {
     "slide_type": "slide"
    }
   },
   "source": [
    "# Introduction"
   ]
  },
  {
   "cell_type": "markdown",
   "id": "abb5bf7b",
   "metadata": {
    "slideshow": {
     "slide_type": "slide"
    }
   },
   "source": [
    "The interconnected world of the current era has drastically changed everything, including banking, entertainment, and even statecraft. "
   ]
  },
  {
   "cell_type": "markdown",
   "id": "c0e198b9",
   "metadata": {
    "slideshow": {
     "slide_type": "slide"
    }
   },
   "source": [
    "Despite differences in users, purposes, and security profiles, these digital applications have at least one thing in common: they all require properly applied cryptography to work correctly."
   ]
  },
  {
   "cell_type": "markdown",
   "id": "dcfa80f9",
   "metadata": {
    "slideshow": {
     "slide_type": "slide"
    }
   },
   "source": [
    "Informally, cryptography is the mathematics of secrets. "
   ]
  },
  {
   "cell_type": "markdown",
   "id": "8869e114",
   "metadata": {
    "slideshow": {
     "slide_type": "slide"
    }
   },
   "source": [
    "We need secret codes to make messages unreadable to unauthorized eyes, to make messages unchangeable, and to know who sent the message. "
   ]
  },
  {
   "cell_type": "markdown",
   "id": "be5d59cb",
   "metadata": {
    "slideshow": {
     "slide_type": "slide"
    }
   },
   "source": [
    "Practical cryptography is the design and use of these codes in real systems."
   ]
  },
  {
   "cell_type": "markdown",
   "id": "dfc03cbe",
   "metadata": {
    "slideshow": {
     "slide_type": "slide"
    }
   },
   "source": [
    "This book is primarily for computer programmers with little or no previous background with cryptography. "
   ]
  },
  {
   "cell_type": "markdown",
   "id": "b7093eaf",
   "metadata": {
    "slideshow": {
     "slide_type": "slide"
    }
   },
   "source": [
    "Although mathematics makes brief appearances in the book, the overall approach is to teach introductory cryptography concepts by example."
   ]
  },
  {
   "cell_type": "markdown",
   "id": "1bbfb9a1",
   "metadata": {
    "slideshow": {
     "slide_type": "slide"
    }
   },
   "source": [
    "Our journey begins with some introductory components, including hashing algorithms, symmetric encryption, and asymmetric encryption. "
   ]
  },
  {
   "cell_type": "markdown",
   "id": "1f69b3c5",
   "metadata": {
    "slideshow": {
     "slide_type": "slide"
    }
   },
   "source": [
    "Next, we go beyond encryption and into the realm of digital certificates, signatures, and message \n",
    "authentication codes. The final chapters show how these various elements come \n",
    "together in interesting and useful combinations, such as Kerberos and TLS."
   ]
  },
  {
   "cell_type": "markdown",
   "id": "463b8551",
   "metadata": {
    "slideshow": {
     "slide_type": "slide"
    }
   },
   "source": [
    "Another important part of cryptography by example is cryptography by bad example! "
   ]
  },
  {
   "cell_type": "markdown",
   "id": "56ce8a97",
   "metadata": {
    "slideshow": {
     "slide_type": "slide"
    }
   },
   "source": [
    "In this book we will break things on purpose to help the reader appreciate what motivates accepted best practices. "
   ]
  },
  {
   "cell_type": "markdown",
   "id": "774dd33e",
   "metadata": {
    "slideshow": {
     "slide_type": "slide"
    }
   },
   "source": [
    "Exercises and examples include walk-throughs of real vulnerabilities that have afflicted the Internet. "
   ]
  },
  {
   "cell_type": "markdown",
   "id": "16169e5a",
   "metadata": {
    "slideshow": {
     "slide_type": "slide"
    }
   },
   "source": [
    "The bad examples will help the reader gain a greater intuition of what goes wrong in cryptography and why"
   ]
  },
  {
   "cell_type": "code",
   "execution_count": null,
   "id": "08e52f05",
   "metadata": {
    "slideshow": {
     "slide_type": "slide"
    }
   },
   "outputs": [],
   "source": []
  },
  {
   "cell_type": "markdown",
   "id": "363fa511",
   "metadata": {
    "slideshow": {
     "slide_type": "slide"
    }
   },
   "source": [
    "# Introducción"
   ]
  },
  {
   "cell_type": "markdown",
   "id": "e4ea0e16",
   "metadata": {
    "slideshow": {
     "slide_type": "slide"
    }
   },
   "source": [
    "El mundo interconectado de la era actual ha cambiado drásticamente todo, incluida la banca, el entretenimiento e incluso el arte de gobernar."
   ]
  },
  {
   "cell_type": "markdown",
   "id": "fa5d1115",
   "metadata": {
    "slideshow": {
     "slide_type": "slide"
    }
   },
   "source": [
    "A pesar de las diferencias en usuarios, propósitos y perfiles de seguridad, estas aplicaciones digitales tienen al menos una cosa en común: todas requieren criptografía aplicada correctamente para funcionar correctamente."
   ]
  },
  {
   "cell_type": "markdown",
   "id": "2d49487a",
   "metadata": {
    "slideshow": {
     "slide_type": "slide"
    }
   },
   "source": [
    "Informalmente, la criptografía es la matemática de los secretos."
   ]
  },
  {
   "cell_type": "markdown",
   "id": "533345a1",
   "metadata": {
    "slideshow": {
     "slide_type": "slide"
    }
   },
   "source": [
    "Necesitamos códigos secretos para que los mensajes sean ilegibles para ojos no autorizados, para que los mensajes no se puedan modificar y para saber quién envió el mensaje."
   ]
  },
  {
   "cell_type": "markdown",
   "id": "733ed649",
   "metadata": {
    "slideshow": {
     "slide_type": "slide"
    }
   },
   "source": [
    "La criptografía práctica es el diseño y uso de estos códigos en sistemas reales."
   ]
  },
  {
   "cell_type": "markdown",
   "id": "661831b5",
   "metadata": {
    "slideshow": {
     "slide_type": "slide"
    }
   },
   "source": [
    "Este libro es principalmente para programadores informáticos con poca o ninguna experiencia previa en criptografía."
   ]
  },
  {
   "cell_type": "markdown",
   "id": "a26d216c",
   "metadata": {
    "slideshow": {
     "slide_type": "slide"
    }
   },
   "source": [
    "Aunque las matemáticas aparecen brevemente en el libro, el enfoque general es enseñar conceptos introductorios de criptografía con ejemplos."
   ]
  },
  {
   "cell_type": "markdown",
   "id": "1cd4a0fa",
   "metadata": {
    "slideshow": {
     "slide_type": "slide"
    }
   },
   "source": [
    "Nuestro viaje comienza con algunos componentes introductorios, que incluyen algoritmos hash, cifrado simétrico y cifrado asimétrico."
   ]
  },
  {
   "cell_type": "markdown",
   "id": "c1ec643a",
   "metadata": {
    "slideshow": {
     "slide_type": "slide"
    }
   },
   "source": [
    "A continuación, vamos más allá del cifrado y nos adentramos en el ámbito de los certificados digitales, las firmas y los códigos de autenticación de mensajes."
   ]
  },
  {
   "cell_type": "markdown",
   "id": "cd0ea1a9",
   "metadata": {
    "slideshow": {
     "slide_type": "slide"
    }
   },
   "source": [
    "Los capítulos finales muestran cómo estos diversos elementos se unen en combinaciones interesantes y útiles, como Kerberos y TLS."
   ]
  },
  {
   "cell_type": "markdown",
   "id": "354e8623",
   "metadata": {
    "slideshow": {
     "slide_type": "slide"
    }
   },
   "source": [
    "¡Otra parte importante de la criptografía por ejemplo es la criptografía por mal ejemplo!"
   ]
  },
  {
   "cell_type": "markdown",
   "id": "c85dd572",
   "metadata": {
    "slideshow": {
     "slide_type": "slide"
    }
   },
   "source": [
    "En este libro romperemos cosas a propósito para ayudar al lector a apreciar lo que motiva las mejores prácticas aceptadas."
   ]
  },
  {
   "cell_type": "markdown",
   "id": "35069945",
   "metadata": {
    "slideshow": {
     "slide_type": "slide"
    }
   },
   "source": [
    "Los ejercicios y ejemplos incluyen recorridos de vulnerabilidades reales que han afectado a Internet.\n",
    "\n",
    "Los malos ejemplos ayudarán al lector a obtener una mayor intuición de lo que falla en la criptografía y por qué."
   ]
  },
  {
   "cell_type": "code",
   "execution_count": null,
   "id": "200b6029",
   "metadata": {
    "slideshow": {
     "slide_type": "slide"
    }
   },
   "outputs": [],
   "source": []
  },
  {
   "cell_type": "code",
   "execution_count": null,
   "id": "8a8c612d",
   "metadata": {
    "slideshow": {
     "slide_type": "slide"
    }
   },
   "outputs": [],
   "source": []
  },
  {
   "cell_type": "code",
   "execution_count": null,
   "id": "b8d464fe",
   "metadata": {},
   "outputs": [],
   "source": []
  },
  {
   "cell_type": "code",
   "execution_count": null,
   "id": "814ec26e",
   "metadata": {},
   "outputs": [],
   "source": []
  },
  {
   "cell_type": "code",
   "execution_count": null,
   "id": "874b947c",
   "metadata": {},
   "outputs": [],
   "source": []
  },
  {
   "cell_type": "code",
   "execution_count": null,
   "id": "3f40f75e",
   "metadata": {},
   "outputs": [],
   "source": []
  }
 ],
 "metadata": {
  "celltoolbar": "Slideshow",
  "kernelspec": {
   "display_name": "Python 3 (ipykernel)",
   "language": "python",
   "name": "python3"
  },
  "language_info": {
   "codemirror_mode": {
    "name": "ipython",
    "version": 3
   },
   "file_extension": ".py",
   "mimetype": "text/x-python",
   "name": "python",
   "nbconvert_exporter": "python",
   "pygments_lexer": "ipython3",
   "version": "3.9.13"
  },
  "rise": {
   "enable_chalkboard": true,
   "theme": "sky"
  }
 },
 "nbformat": 4,
 "nbformat_minor": 5
}
