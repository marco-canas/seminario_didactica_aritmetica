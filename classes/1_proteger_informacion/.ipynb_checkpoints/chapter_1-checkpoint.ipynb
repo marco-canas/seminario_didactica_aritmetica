{
 "cells": [
  {
   "cell_type": "markdown",
   "id": "6186b73d",
   "metadata": {
    "slideshow": {
     "slide_type": "slide"
    }
   },
   "source": [
    "<table align=\"left\">\n",
    "  <td>\n",
    "    <a href=\"https://colab.research.google.com/github/marco-canas/didactica_ciencia_datos/blob/main/propuesta/unidad_didac/1_statistic/1_Basic_Descriptive_Statistics/1_medidas_tendencia_central/1_media.ipynb\" target=\"_parent\"><img src=\"https://colab.research.google.com/assets/colab-badge.svg\" alt=\"Open In Colab\"/></a>\n",
    "  </td>\n",
    "</table>"
   ]
  },
  {
   "cell_type": "markdown",
   "id": "76374ef7",
   "metadata": {
    "slideshow": {
     "slide_type": "slide"
    }
   },
   "source": [
    "## [Video de apoyo a la lectura interactiva y experimental de este cuaderno](https://www.youtube.com/watch?v=m_pzXcLrHFA)"
   ]
  },
  {
   "cell_type": "markdown",
   "id": "0ede6092",
   "metadata": {
    "slideshow": {
     "slide_type": "slide"
    }
   },
   "source": [
    "# Clase 1 Aritmética"
   ]
  },
  {
   "cell_type": "markdown",
   "id": "ecce53df",
   "metadata": {
    "slideshow": {
     "slide_type": "slide"
    }
   },
   "source": [
    "# CAPÍTULO 1  "
   ]
  },
  {
   "cell_type": "markdown",
   "id": "e8e64bef",
   "metadata": {
    "slideshow": {
     "slide_type": "fragment"
    }
   },
   "source": [
    "Criptografía: más que secreto"
   ]
  },
  {
   "cell_type": "markdown",
   "id": "729edeed",
   "metadata": {
    "slideshow": {
     "slide_type": "fragment"
    }
   },
   "source": [
    "¡Bienvenido al mundo de la criptografía práctica!"
   ]
  },
  {
   "cell_type": "markdown",
   "id": "3c86d138",
   "metadata": {
    "slideshow": {
     "slide_type": "slide"
    }
   },
   "source": [
    "## Objetivo general:   \n",
    "\n",
    "enseñarle lo suficiente sobre criptografía para que \n",
    "* pueda razonar sobre lo que hace, \n",
    "* cuándo se pueden aplicar ciertos tipos de manera efectiva y \n",
    "* cómo elegir buenas estrategias y algoritmos."
   ]
  },
  {
   "cell_type": "markdown",
   "id": "56aeebb0",
   "metadata": {
    "slideshow": {
     "slide_type": "subslide"
    }
   },
   "source": [
    "Estos ejemplos a menudo van acompañados de un escenario ficticio para agregar algo de contexto."
   ]
  },
  {
   "cell_type": "markdown",
   "id": "dae38320",
   "metadata": {
    "slideshow": {
     "slide_type": "subslide"
    }
   },
   "source": [
    "Después de haber tenido algo de exposición y experiencia, los términos técnicos que siguen a esos ejemplos deberían tener más sentido y ser más fáciles de recordar. Esperamos que os guste."
   ]
  },
  {
   "cell_type": "markdown",
   "id": "db49da87",
   "metadata": {
    "slideshow": {
     "slide_type": "slide"
    }
   },
   "source": [
    "## Conceptos teóricos para la práctica"
   ]
  },
  {
   "cell_type": "markdown",
   "id": "1c2f2bad",
   "metadata": {
    "slideshow": {
     "slide_type": "slide"
    }
   },
   "source": [
    "1.  el modulo string de python\n",
    "2. Las funciones personalizadas de python\n",
    "3. diccionario de python\n",
    "4. Ciclo for\n",
    "5. métodos y atributos de Python"
   ]
  },
  {
   "cell_type": "markdown",
   "id": "d0b9cd59",
   "metadata": {
    "slideshow": {
     "slide_type": "subslide"
    }
   },
   "source": [
    "# Cifrado astuto de César"
   ]
  },
  {
   "cell_type": "markdown",
   "id": "967472e8",
   "metadata": {
    "slideshow": {
     "slide_type": "subslide"
    }
   },
   "source": [
    "Los dos países (inventados) de la Antártida Oriental (EA) y la Antártida Occidental (WA) no se gustan mucho y se espían incesantemente."
   ]
  },
  {
   "cell_type": "markdown",
   "id": "da6eafe0",
   "metadata": {
    "slideshow": {
     "slide_type": "subslide"
    }
   },
   "source": [
    "En este escenario, dos espías de EA, con nombres en clave \"Alice\" y \"Bob\", se han infiltrado en sus vecinos occidentales y están enviando mensajes de un lado a otro a través de canales encubiertos."
   ]
  },
  {
   "cell_type": "markdown",
   "id": "35dc64fe",
   "metadata": {
    "slideshow": {
     "slide_type": "subslide"
    }
   },
   "source": [
    "No les gusta que sus adversarios en la Antártida Occidental lean sus mensajes, por lo que se comunican mediante un código secreto."
   ]
  },
  {
   "cell_type": "markdown",
   "id": "66bc3f0a",
   "metadata": {
    "slideshow": {
     "slide_type": "subslide"
    }
   },
   "source": [
    "Desafortunadamente, la Antártida Oriental no está particularmente avanzada en el ámbito de la criptografía."
   ]
  },
  {
   "cell_type": "markdown",
   "id": "2064ddaf",
   "metadata": {
    "slideshow": {
     "slide_type": "subslide"
    }
   },
   "source": [
    "Para un código, la Agencia de Espionaje de la Verdad de la Antártida Oriental (EATSA) crea una sustitución simple reemplazando cada letra con otra letra más adelante en el alfabeto."
   ]
  },
  {
   "cell_type": "markdown",
   "id": "a118709a",
   "metadata": {
    "slideshow": {
     "slide_type": "subslide"
    }
   },
   "source": [
    "Ambos países utilizan el alfabeto ASCII estándar con las letras de la \"A\" a la \"Z\"."
   ]
  },
  {
   "cell_type": "markdown",
   "id": "92e71b19",
   "metadata": {
    "slideshow": {
     "slide_type": "subslide"
    }
   },
   "source": [
    "Supongamos por un momento que eligen codificar sus mensajes utilizando esta técnica de sustitución con la distancia de cambio establecida en $n = 1$. "
   ]
  },
  {
   "cell_type": "markdown",
   "id": "26c9c6d3",
   "metadata": {
    "slideshow": {
     "slide_type": "fragment"
    }
   },
   "source": [
    "En ese caso, la letra \"A\" se reemplazaría con \"B\", la letra \"B\" se reemplazaría con \"C\", y así sucesivamente."
   ]
  },
  {
   "cell_type": "markdown",
   "id": "7838122e",
   "metadata": {
    "slideshow": {
     "slide_type": "fragment"
    }
   },
   "source": [
    "La última letra del alfabeto, \"Z\", se ajustaría al principio y se reemplazaría por \"A\"."
   ]
  },
  {
   "cell_type": "markdown",
   "id": "178b9e6a",
   "metadata": {
    "slideshow": {
     "slide_type": "fragment"
    }
   },
   "source": [
    "Esta tabla muestra el mapeo completo (en mayúsculas) de letras de texto simple (original, intacto) a letras de texto cifrado (codificadas). "
   ]
  },
  {
   "cell_type": "markdown",
   "id": "83d246b8",
   "metadata": {
    "slideshow": {
     "slide_type": "subslide"
    }
   },
   "source": [
    "Las letras que son como espacios y puntuación se dejan intactas."
   ]
  },
  {
   "cell_type": "markdown",
   "id": "351c520a",
   "metadata": {
    "slideshow": {
     "slide_type": "slide"
    }
   },
   "source": [
    "<img src = 'https://github.com/marco-canas/4_didactica_aritmetica/blob/main/classes/1_class_9_feb_proteger_informacion/fig_1.png?raw=true'>"
   ]
  },
  {
   "cell_type": "markdown",
   "id": "c9e5951f",
   "metadata": {
    "slideshow": {
     "slide_type": "subslide"
    }
   },
   "source": [
    "Usando esta tabla, HELLO WORLD codifica a IFMMP XPSME."
   ]
  },
  {
   "cell_type": "markdown",
   "id": "3a9a0311",
   "metadata": {
    "slideshow": {
     "slide_type": "subslide"
    }
   },
   "source": [
    "Ahora inténtelo con la distancia $n = 2$, donde \"A\" va a \"C\", \"B\" va a \"D\", y así sucesivamente hasta \"Y\", que se asigna a \"A\" y \"Z\", que se asigna a \" B.\""
   ]
  },
  {
   "cell_type": "markdown",
   "id": "ad05d615",
   "metadata": {
    "slideshow": {
     "slide_type": "slide"
    }
   },
   "source": [
    "<img src = 'https://github.com/marco-canas/4_didactica_aritmetica/blob/main/classes/1_class_9_feb_proteger_informacion/fig_2.png?raw=true'>"
   ]
  },
  {
   "cell_type": "markdown",
   "id": "f57fd128",
   "metadata": {
    "slideshow": {
     "slide_type": "fragment"
    }
   },
   "source": [
    "Ahora, el mensaje 'HELL0 WORLD' está codificado como JGNNQ YQTNF."
   ]
  },
  {
   "cell_type": "markdown",
   "id": "67b2d19c",
   "metadata": {
    "slideshow": {
     "slide_type": "subslide"
    }
   },
   "source": [
    "Contentos con su cifrado de cambio simple, la Agencia de Espionaje de la Verdad de la Antártida Oriental (EATSA) decide crear un programa Python para manejar la codificación y decodificación de mensajes."
   ]
  },
  {
   "cell_type": "markdown",
   "id": "377abc02",
   "metadata": {
    "slideshow": {
     "slide_type": "subslide"
    }
   },
   "source": [
    "## Sugerencia: escribir código"
   ]
  },
  {
   "cell_type": "markdown",
   "id": "25e8cec6",
   "metadata": {
    "slideshow": {
     "slide_type": "subslide"
    }
   },
   "source": [
    "Este libro recorre una gran cantidad de programas Python de muestra."
   ]
  },
  {
   "cell_type": "markdown",
   "id": "1e5e4ad7",
   "metadata": {
    "slideshow": {
     "slide_type": "subslide"
    }
   },
   "source": [
    "Al comienzo de cada uno, enumeraremos los requisitos y tal vez una pista o una descripción general de una API criptográfica."
   ]
  },
  {
   "cell_type": "markdown",
   "id": "66f39b0b",
   "metadata": {
    "slideshow": {
     "slide_type": "subslide"
    }
   },
   "source": [
    "Debe continuar y tratar de escribir el programa usted mismo primero."
   ]
  },
  {
   "cell_type": "markdown",
   "id": "c7bc5a1f",
   "metadata": {
    "slideshow": {
     "slide_type": "subslide"
    }
   },
   "source": [
    "Está bien si te quedas atascado o cometes errores."
   ]
  },
  {
   "cell_type": "markdown",
   "id": "75249ef9",
   "metadata": {
    "slideshow": {
     "slide_type": "subslide"
    }
   },
   "source": [
    "Incluso si no puede resolver todo por su cuenta, su experiencia al tratar de escribir el programa lo ayudará a comprender mucho mejor las muestras proporcionadas."
   ]
  },
  {
   "cell_type": "markdown",
   "id": "e6f7c6ec",
   "metadata": {
    "slideshow": {
     "slide_type": "subslide"
    }
   },
   "source": [
    "## EJERCICIO 1.1. CODIFICADOR DE CIFRADO DE CAMBIO"
   ]
  },
  {
   "cell_type": "markdown",
   "id": "db7af6af",
   "metadata": {
    "slideshow": {
     "slide_type": "slide"
    }
   },
   "source": [
    "Cree un programa de Python que codifique y decodifique mensajes usando el cifrado de desplazamiento descrito en esta sección. "
   ]
  },
  {
   "cell_type": "markdown",
   "id": "c75079fc",
   "metadata": {
    "slideshow": {
     "slide_type": "slide"
    }
   },
   "source": [
    "La cantidad de turno debe ser configurable."
   ]
  },
  {
   "cell_type": "markdown",
   "id": "a47f7fbc",
   "metadata": {
    "slideshow": {
     "slide_type": "subslide"
    }
   },
   "source": [
    "Repasemos este ejercicio juntos. "
   ]
  },
  {
   "cell_type": "markdown",
   "id": "c187e614",
   "metadata": {
    "slideshow": {
     "slide_type": "subslide"
    }
   },
   "source": [
    "Usamos Python 3 para todos los ejercicios."
   ]
  },
  {
   "cell_type": "markdown",
   "id": "cfbd121e",
   "metadata": {
    "slideshow": {
     "slide_type": "subslide"
    }
   },
   "source": [
    "Primero, creemos una función simple para crear nuestras tablas de sustitución. "
   ]
  },
  {
   "cell_type": "markdown",
   "id": "ed947926",
   "metadata": {
    "slideshow": {
     "slide_type": "subslide"
    }
   },
   "source": [
    "Para simplificar, crearemos dos diccionarios de Python: uno que contenga la tabla de codificación y otro que cree la tabla de decodificación. "
   ]
  },
  {
   "cell_type": "markdown",
   "id": "d51d922b",
   "metadata": {
    "slideshow": {
     "slide_type": "subslide"
    }
   },
   "source": [
    "También codificaremos y decodificaremos letras mayúsculas ASCII, como se muestra en el Listado 1-1."
   ]
  },
  {
   "cell_type": "markdown",
   "id": "e74cbca4",
   "metadata": {
    "slideshow": {
     "slide_type": "slide"
    }
   },
   "source": [
    "## Pregunta de la red YouTube\n",
    "\n",
    " esa declaración `ascii_uppercase` es el alfabeto?\n"
   ]
  },
  {
   "cell_type": "code",
   "execution_count": 1,
   "id": "d74bdbdf",
   "metadata": {
    "slideshow": {
     "slide_type": "slide"
    }
   },
   "outputs": [],
   "source": [
    "import string # string es un modulo de python experto en la maniputación de mensajes"
   ]
  },
  {
   "cell_type": "code",
   "execution_count": 2,
   "id": "c0fddbf8",
   "metadata": {
    "slideshow": {
     "slide_type": "slide"
    }
   },
   "outputs": [
    {
     "data": {
      "text/plain": [
       "'ABCDEFGHIJKLMNOPQRSTUVWXYZ'"
      ]
     },
     "execution_count": 2,
     "metadata": {},
     "output_type": "execute_result"
    }
   ],
   "source": [
    "ALFABETO_EN_MAYUSCULAS = string.ascii_uppercase\n",
    "\n",
    "ALFABETO_EN_MAYUSCULAS"
   ]
  },
  {
   "cell_type": "code",
   "execution_count": 4,
   "id": "d1166454",
   "metadata": {
    "slideshow": {
     "slide_type": "slide"
    }
   },
   "outputs": [
    {
     "data": {
      "text/plain": [
       "'abcdefghijklmnopqrstuvwxyz'"
      ]
     },
     "execution_count": 4,
     "metadata": {},
     "output_type": "execute_result"
    }
   ],
   "source": [
    "alfabeto_en_minusculas = string.ascii_lowercase\n",
    "alfabeto_en_minusculas"
   ]
  },
  {
   "cell_type": "code",
   "execution_count": 8,
   "id": "70462b59",
   "metadata": {
    "slideshow": {
     "slide_type": "slide"
    }
   },
   "outputs": [
    {
     "data": {
      "text/plain": [
       "'Z'"
      ]
     },
     "execution_count": 8,
     "metadata": {},
     "output_type": "execute_result"
    }
   ],
   "source": [
    "ALFABETO_EN_MAYUSCULAS[25] \n",
    "# ASÍ, GRACIAS A PYTHON HEMOS ASIGNADO NÚMEROS ENTEROS NO NEGATIVOS A CADA LETRA DEL ALFABETO"
   ]
  },
  {
   "cell_type": "code",
   "execution_count": 17,
   "id": "8d1f1862",
   "metadata": {
    "slideshow": {
     "slide_type": "slide"
    }
   },
   "outputs": [
    {
     "data": {
      "text/plain": [
       "'b'"
      ]
     },
     "execution_count": 17,
     "metadata": {},
     "output_type": "execute_result"
    }
   ],
   "source": [
    "alfabeto[1]"
   ]
  },
  {
   "cell_type": "code",
   "execution_count": 18,
   "id": "7afea6a1",
   "metadata": {},
   "outputs": [
    {
     "data": {
      "text/plain": [
       "26"
      ]
     },
     "execution_count": 18,
     "metadata": {},
     "output_type": "execute_result"
    }
   ],
   "source": [
    "len(alfabeto)"
   ]
  },
  {
   "cell_type": "code",
   "execution_count": 1,
   "id": "d267b6db",
   "metadata": {
    "slideshow": {
     "slide_type": "slide"
    }
   },
   "outputs": [
    {
     "data": {
      "text/plain": [
       "'ABCDEFGHIJKLMNOPQRSTUVWXYZ'"
      ]
     },
     "execution_count": 1,
     "metadata": {},
     "output_type": "execute_result"
    }
   ],
   "source": [
    "import string \n",
    "\n",
    "string.ascii_uppercase"
   ]
  },
  {
   "cell_type": "code",
   "execution_count": 2,
   "id": "c8594b2b",
   "metadata": {
    "slideshow": {
     "slide_type": "slide"
    }
   },
   "outputs": [
    {
     "data": {
      "text/plain": [
       "'C'"
      ]
     },
     "execution_count": 2,
     "metadata": {},
     "output_type": "execute_result"
    }
   ],
   "source": [
    "string.ascii_uppercase[2]"
   ]
  },
  {
   "cell_type": "code",
   "execution_count": 3,
   "id": "a891649d",
   "metadata": {
    "slideshow": {
     "slide_type": "slide"
    }
   },
   "outputs": [
    {
     "data": {
      "text/plain": [
       "'c'"
      ]
     },
     "execution_count": 3,
     "metadata": {},
     "output_type": "execute_result"
    }
   ],
   "source": [
    "string.ascii_lowercase[2]"
   ]
  },
  {
   "cell_type": "markdown",
   "id": "6637bbeb",
   "metadata": {
    "slideshow": {
     "slide_type": "slide"
    }
   },
   "source": [
    "# Listing 1-1. Creating Substitution Tables"
   ]
  },
  {
   "cell_type": "code",
   "execution_count": 21,
   "id": "c1c76e5b",
   "metadata": {
    "slideshow": {
     "slide_type": "slide"
    }
   },
   "outputs": [],
   "source": [
    "# Partial Listing: Some Assembly Required\n",
    "import string\n",
    "def funcion_que_entrega_lo_que_codifica_y_decodifica(n):\n",
    "    '''\n",
    "    INPUT: n es la distancia de cambio.\n",
    "    OUTPUT: dos diccionarios, encoding, decoding que \n",
    "    definen las funciones de codificación y decodificación\n",
    "    '''\n",
    "    encoding = {}\n",
    "    decoding = {}\n",
    "    alphabet_size = len(string.ascii_uppercase)\n",
    "    for i in range(alphabet_size):\n",
    "        letter = string.ascii_uppercase[i]\n",
    "        subst_letter = string.ascii_uppercase[(i+n)%alphabet_size]\n",
    "\n",
    "        encoding[letter] = subst_letter\n",
    "        decoding[subst_letter] = letter\n",
    "    return encoding, decoding"
   ]
  },
  {
   "cell_type": "code",
   "execution_count": 24,
   "id": "03581980",
   "metadata": {
    "scrolled": true
   },
   "outputs": [
    {
     "data": {
      "text/plain": [
       "({'A': 'E',\n",
       "  'B': 'F',\n",
       "  'C': 'G',\n",
       "  'D': 'H',\n",
       "  'E': 'I',\n",
       "  'F': 'J',\n",
       "  'G': 'K',\n",
       "  'H': 'L',\n",
       "  'I': 'M',\n",
       "  'J': 'N',\n",
       "  'K': 'O',\n",
       "  'L': 'P',\n",
       "  'M': 'Q',\n",
       "  'N': 'R',\n",
       "  'O': 'S',\n",
       "  'P': 'T',\n",
       "  'Q': 'U',\n",
       "  'R': 'V',\n",
       "  'S': 'W',\n",
       "  'T': 'X',\n",
       "  'U': 'Y',\n",
       "  'V': 'Z',\n",
       "  'W': 'A',\n",
       "  'X': 'B',\n",
       "  'Y': 'C',\n",
       "  'Z': 'D'},\n",
       " {'E': 'A',\n",
       "  'F': 'B',\n",
       "  'G': 'C',\n",
       "  'H': 'D',\n",
       "  'I': 'E',\n",
       "  'J': 'F',\n",
       "  'K': 'G',\n",
       "  'L': 'H',\n",
       "  'M': 'I',\n",
       "  'N': 'J',\n",
       "  'O': 'K',\n",
       "  'P': 'L',\n",
       "  'Q': 'M',\n",
       "  'R': 'N',\n",
       "  'S': 'O',\n",
       "  'T': 'P',\n",
       "  'U': 'Q',\n",
       "  'V': 'R',\n",
       "  'W': 'S',\n",
       "  'X': 'T',\n",
       "  'Y': 'U',\n",
       "  'Z': 'V',\n",
       "  'A': 'W',\n",
       "  'B': 'X',\n",
       "  'C': 'Y',\n",
       "  'D': 'Z'})"
      ]
     },
     "execution_count": 24,
     "metadata": {},
     "output_type": "execute_result"
    }
   ],
   "source": [
    "funcion_que_entrega_lo_que_codifica_y_decodifica(n=4)"
   ]
  },
  {
   "cell_type": "code",
   "execution_count": 26,
   "id": "7fab9623",
   "metadata": {},
   "outputs": [],
   "source": [
    "import numpy as np\n",
    "\n",
    "a = np.array([0,1,2,3,4,5,6,7,8,9,10,11,12,13,14,15,16, 17, 18,19, 20, 21, 22, 23, 24, 25])"
   ]
  },
  {
   "cell_type": "code",
   "execution_count": 27,
   "id": "ebf7895f",
   "metadata": {},
   "outputs": [
    {
     "data": {
      "text/plain": [
       "26"
      ]
     },
     "execution_count": 27,
     "metadata": {},
     "output_type": "execute_result"
    }
   ],
   "source": [
    "len(a)"
   ]
  },
  {
   "cell_type": "code",
   "execution_count": 30,
   "id": "89d42660",
   "metadata": {},
   "outputs": [
    {
     "data": {
      "text/plain": [
       "array([ 0,  1,  2,  3,  4,  5,  6,  7,  8,  9, 10, 11, 12, 13, 14, 15, 16,\n",
       "       17, 18, 19, 20, 21, 22, 23, 24,  0], dtype=int32)"
      ]
     },
     "execution_count": 30,
     "metadata": {},
     "output_type": "execute_result"
    }
   ],
   "source": [
    "a%25"
   ]
  },
  {
   "cell_type": "code",
   "execution_count": null,
   "id": "1fddd5b2",
   "metadata": {},
   "outputs": [],
   "source": []
  },
  {
   "cell_type": "code",
   "execution_count": 5,
   "id": "f80b4b61",
   "metadata": {
    "slideshow": {
     "slide_type": "slide"
    }
   },
   "outputs": [],
   "source": [
    "dict_que_codifica, dict_que_decodifica = create_shift_substitutions(n = 1)"
   ]
  },
  {
   "cell_type": "code",
   "execution_count": 6,
   "id": "877e223f",
   "metadata": {
    "scrolled": true,
    "slideshow": {
     "slide_type": "slide"
    }
   },
   "outputs": [
    {
     "data": {
      "text/plain": [
       "({'A': 'B',\n",
       "  'B': 'C',\n",
       "  'C': 'D',\n",
       "  'D': 'E',\n",
       "  'E': 'F',\n",
       "  'F': 'G',\n",
       "  'G': 'H',\n",
       "  'H': 'I',\n",
       "  'I': 'J',\n",
       "  'J': 'K',\n",
       "  'K': 'L',\n",
       "  'L': 'M',\n",
       "  'M': 'N',\n",
       "  'N': 'O',\n",
       "  'O': 'P',\n",
       "  'P': 'Q',\n",
       "  'Q': 'R',\n",
       "  'R': 'S',\n",
       "  'S': 'T',\n",
       "  'T': 'U',\n",
       "  'U': 'V',\n",
       "  'V': 'W',\n",
       "  'W': 'X',\n",
       "  'X': 'Y',\n",
       "  'Y': 'Z',\n",
       "  'Z': 'A'},)"
      ]
     },
     "execution_count": 6,
     "metadata": {},
     "output_type": "execute_result"
    }
   ],
   "source": [
    "dict_que_codifica,"
   ]
  },
  {
   "cell_type": "code",
   "execution_count": 7,
   "id": "732b8dec",
   "metadata": {
    "slideshow": {
     "slide_type": "slide"
    }
   },
   "outputs": [
    {
     "data": {
      "text/plain": [
       "{'B': 'A',\n",
       " 'C': 'B',\n",
       " 'D': 'C',\n",
       " 'E': 'D',\n",
       " 'F': 'E',\n",
       " 'G': 'F',\n",
       " 'H': 'G',\n",
       " 'I': 'H',\n",
       " 'J': 'I',\n",
       " 'K': 'J',\n",
       " 'L': 'K',\n",
       " 'M': 'L',\n",
       " 'N': 'M',\n",
       " 'O': 'N',\n",
       " 'P': 'O',\n",
       " 'Q': 'P',\n",
       " 'R': 'Q',\n",
       " 'S': 'R',\n",
       " 'T': 'S',\n",
       " 'U': 'T',\n",
       " 'V': 'U',\n",
       " 'W': 'V',\n",
       " 'X': 'W',\n",
       " 'Y': 'X',\n",
       " 'Z': 'Y',\n",
       " 'A': 'Z'}"
      ]
     },
     "execution_count": 7,
     "metadata": {},
     "output_type": "execute_result"
    }
   ],
   "source": [
    "dict_que_decodifica "
   ]
  },
  {
   "cell_type": "markdown",
   "id": "845d5ad7",
   "metadata": {
    "slideshow": {
     "slide_type": "slide"
    }
   },
   "source": [
    "create_shift_substitutions: crear sustituciones de turno. "
   ]
  },
  {
   "cell_type": "markdown",
   "id": "73a7564f",
   "metadata": {
    "slideshow": {
     "slide_type": "slide"
    }
   },
   "source": [
    "Observe that this function is parameterized on n, the shift parameter. "
   ]
  },
  {
   "cell_type": "markdown",
   "id": "83d6d7ac",
   "metadata": {
    "slideshow": {
     "slide_type": "subslide"
    }
   },
   "source": [
    "Observe que esta función está parametrizada por $n$, el parámetro de desplazamiento."
   ]
  },
  {
   "cell_type": "markdown",
   "id": "c7192a8b",
   "metadata": {
    "slideshow": {
     "slide_type": "slide"
    }
   },
   "source": [
    "We don’t have any error checking in this function; we will check parameters elsewhere. "
   ]
  },
  {
   "cell_type": "markdown",
   "id": "ac32f656",
   "metadata": {
    "slideshow": {
     "slide_type": "subslide"
    }
   },
   "source": [
    "No tenemos ningún error al verificar esta función; comprobaremos los parámetros en otro lugar."
   ]
  },
  {
   "cell_type": "markdown",
   "id": "bd4bd698",
   "metadata": {
    "slideshow": {
     "slide_type": "slide"
    }
   },
   "source": [
    "Note, though, that any integer value of n is valid because Python handles negative modulus in a reasonable way. "
   ]
  },
  {
   "cell_type": "markdown",
   "id": "6b12bce1",
   "metadata": {
    "slideshow": {
     "slide_type": "slide"
    }
   },
   "source": [
    "Tenga en cuenta, sin embargo, que cualquier valor entero de $n$ es válido porque Python maneja el módulo negativo de una manera razonable."
   ]
  },
  {
   "cell_type": "markdown",
   "id": "85e49a5a",
   "metadata": {
    "slideshow": {
     "slide_type": "slide"
    }
   },
   "source": [
    "Even the value 0 is okay: it just produces a mapping from each character to itself! "
   ]
  },
  {
   "cell_type": "markdown",
   "id": "400f8256",
   "metadata": {
    "slideshow": {
     "slide_type": "subslide"
    }
   },
   "source": [
    "Incluso el valor 0 está bien: ¡simplemente produce una asignación de cada carácter a sí mismo!"
   ]
  },
  {
   "cell_type": "markdown",
   "id": "43a8002f",
   "metadata": {
    "slideshow": {
     "slide_type": "slide"
    }
   },
   "source": [
    "Values larger than 26 also work fine because we apply a final modulus of alphabet_size before indexing into the alphabet."
   ]
  },
  {
   "cell_type": "markdown",
   "id": "0cf4a8fa",
   "metadata": {
    "slideshow": {
     "slide_type": "subslide"
    }
   },
   "source": [
    "Los valores superiores a 26 también funcionan bien porque aplicamos un módulo final de alphabet_size antes de indexar en el alfabeto."
   ]
  },
  {
   "cell_type": "markdown",
   "id": "0390b01f",
   "metadata": {
    "slideshow": {
     "slide_type": "slide"
    }
   },
   "source": [
    "Now, for encoding and decoding, we simply substitute each letter in a message for one in the corresponding dictionary, shown in Listing 1-2"
   ]
  },
  {
   "cell_type": "markdown",
   "id": "d44dc904",
   "metadata": {
    "slideshow": {
     "slide_type": "subslide"
    }
   },
   "source": [
    "Ahora, para codificar y decodificar, simplemente sustituimos cada letra en un mensaje por una en el diccionario correspondiente, que se muestra en el Listado 1-2"
   ]
  },
  {
   "cell_type": "markdown",
   "id": "54b80901",
   "metadata": {
    "slideshow": {
     "slide_type": "slide"
    }
   },
   "source": [
    "### Listing 1-2. Shift Encoder  \n",
    "### Listado 1-2. Codificador de cambio"
   ]
  },
  {
   "cell_type": "markdown",
   "id": "0c7034df",
   "metadata": {
    "slideshow": {
     "slide_type": "slide"
    }
   },
   "source": [
    "Partial Listing: Some Assembly Required"
   ]
  },
  {
   "cell_type": "markdown",
   "id": "3fa61a83",
   "metadata": {
    "slideshow": {
     "slide_type": "subslide"
    }
   },
   "source": [
    "Listado parcial: se requiere algo de ensamblaje"
   ]
  },
  {
   "cell_type": "code",
   "execution_count": 7,
   "id": "6ff362c2",
   "metadata": {
    "slideshow": {
     "slide_type": "slide"
    }
   },
   "outputs": [],
   "source": [
    "def encode(message, dict_que_codifica):\n",
    "    \"\"\"\n",
    "    INPUT: un string para codificar y \n",
    "    subst: es el diccionario que realiza la codificación. \n",
    "    OUTPUT: \n",
    "    \"\"\"\n",
    "    cipher = \"\"\n",
    "    for letter in message:\n",
    "        if letter in dict_que_codifica:\n",
    "            cipher +=  dict_que_codifica[letter]\n",
    "        else:\n",
    "            cipher += letter\n",
    "    return cipher"
   ]
  },
  {
   "cell_type": "code",
   "execution_count": 10,
   "id": "4e46b9af",
   "metadata": {
    "slideshow": {
     "slide_type": "slide"
    }
   },
   "outputs": [
    {
     "data": {
      "text/plain": [
       "'IPMB'"
      ]
     },
     "execution_count": 10,
     "metadata": {},
     "output_type": "execute_result"
    }
   ],
   "source": [
    "encode('HOLA', dict_que_codifica) "
   ]
  },
  {
   "cell_type": "code",
   "execution_count": 11,
   "id": "2b927551",
   "metadata": {
    "slideshow": {
     "slide_type": "slide"
    }
   },
   "outputs": [],
   "source": [
    "def decode(message, dict_que_decodifica):\n",
    "    return encode(message, dict_que_decodifica)"
   ]
  },
  {
   "cell_type": "code",
   "execution_count": 12,
   "id": "965bdc36",
   "metadata": {
    "slideshow": {
     "slide_type": "slide"
    }
   },
   "outputs": [
    {
     "data": {
      "text/plain": [
       "'HOLA'"
      ]
     },
     "execution_count": 12,
     "metadata": {},
     "output_type": "execute_result"
    }
   ],
   "source": [
    "decode(encode('HOLA', dict_que_codifica), dict_que_decodifica)"
   ]
  },
  {
   "cell_type": "markdown",
   "id": "9606e4d7",
   "metadata": {
    "slideshow": {
     "slide_type": "slide"
    }
   },
   "source": [
    "## Note: Compactness vs. Clarity  \n",
    "## Nota: compacidad frente a claridad"
   ]
  },
  {
   "cell_type": "markdown",
   "id": "43441a7c",
   "metadata": {
    "slideshow": {
     "slide_type": "slide"
    }
   },
   "source": [
    "We tend to favor universal clarity over compactness when there is a conflict between them. "
   ]
  },
  {
   "cell_type": "markdown",
   "id": "400087d7",
   "metadata": {
    "slideshow": {
     "slide_type": "fragment"
    }
   },
   "source": [
    "Tendemos a favorecer la claridad universal sobre la compacidad cuando hay un conflicto entre ellos."
   ]
  },
  {
   "cell_type": "markdown",
   "id": "28915995",
   "metadata": {
    "slideshow": {
     "slide_type": "slide"
    }
   },
   "source": [
    "We will even write things in ways that might not be widely considered idiomatic if it helps to illustrate what is happening."
   ]
  },
  {
   "cell_type": "markdown",
   "id": "92442881",
   "metadata": {
    "slideshow": {
     "slide_type": "slide"
    }
   },
   "source": [
    "Incluso escribiremos cosas de maneras que podrían no ser consideradas idiomáticas si ayudan a ilustrar lo que está sucediendo."
   ]
  },
  {
   "cell_type": "markdown",
   "id": "0d986214",
   "metadata": {
    "slideshow": {
     "slide_type": "slide"
    }
   },
   "source": [
    "The code in Listing 1-2 has a nice example of favoring clarity over common idioms. "
   ]
  },
  {
   "cell_type": "markdown",
   "id": "b676646a",
   "metadata": {
    "slideshow": {
     "slide_type": "slide"
    }
   },
   "source": [
    "El código del Listado 1-2 tiene un buen ejemplo de favorecer la claridad sobre los modismos comunes."
   ]
  },
  {
   "cell_type": "markdown",
   "id": "3c947bce",
   "metadata": {
    "slideshow": {
     "slide_type": "slide"
    }
   },
   "source": [
    "An idiomatic function body would probably be a one-liner:"
   ]
  },
  {
   "cell_type": "markdown",
   "id": "8ed9b1e3",
   "metadata": {
    "slideshow": {
     "slide_type": "slide"
    }
   },
   "source": [
    "Un cuerpo de función idiomática probablemente sería de una sola línea:"
   ]
  },
  {
   "cell_type": "code",
   "execution_count": 13,
   "id": "6feba31f",
   "metadata": {
    "slideshow": {
     "slide_type": "slide"
    }
   },
   "outputs": [],
   "source": [
    "def encode(message, subst):\n",
    "    return \"\".join(subst.get(x, x) for x in message)"
   ]
  },
  {
   "cell_type": "markdown",
   "id": "fad8fa71",
   "metadata": {
    "slideshow": {
     "slide_type": "slide"
    }
   },
   "source": [
    "That’s a lovely bit of Python if you’re used to it, but we’re trying not to make too many assumptions here."
   ]
  },
  {
   "cell_type": "markdown",
   "id": "7f0278b4",
   "metadata": {
    "slideshow": {
     "slide_type": "slide"
    }
   },
   "source": [
    "In our implementation, the encode function takes an incoming message and a substitution dictionary. "
   ]
  },
  {
   "cell_type": "markdown",
   "id": "ee9e379a",
   "metadata": {
    "slideshow": {
     "slide_type": "slide"
    }
   },
   "source": [
    "For each letter in the message, we replace it if a substitution is available. Otherwise, we just include the character itself with no transformation (preserving spaces and punctuation)."
   ]
  },
  {
   "cell_type": "markdown",
   "id": "3ae06fd3",
   "metadata": {
    "slideshow": {
     "slide_type": "subslide"
    }
   },
   "source": [
    "Para cada letra del mensaje, la reemplazamos si hay una sustitución disponible. De lo contrario, simplemente incluimos el carácter en sí sin transformación (preservando los espacios y la puntuación)."
   ]
  },
  {
   "cell_type": "markdown",
   "id": "7d706408",
   "metadata": {
    "slideshow": {
     "slide_type": "slide"
    }
   },
   "source": [
    "Obviously, the decode operation in this listing is completely unnecessary, but we have included it to emphasize that encoding and decoding in a substitution cipher work exactly the same. "
   ]
  },
  {
   "cell_type": "markdown",
   "id": "8fc135b1",
   "metadata": {
    "slideshow": {
     "slide_type": "slide"
    }
   },
   "source": [
    "Only the dictionary needs to change."
   ]
  },
  {
   "cell_type": "markdown",
   "id": "66be9976",
   "metadata": {
    "slideshow": {
     "slide_type": "slide"
    }
   },
   "source": [
    "These functions are sufficient to build an application, but for fun we will add in another function in Listing 1-3 to take a substitution dictionary and create a string that shows the mapping. "
   ]
  },
  {
   "cell_type": "markdown",
   "id": "feac4044",
   "metadata": {
    "slideshow": {
     "slide_type": "subslide"
    }
   },
   "source": [
    "Estas funciones son suficientes para construir una aplicación, pero por diversión agregaremos otra función en el Listado 1-3 para tomar un diccionario de sustitución y crear una cadena que muestre el mapeo."
   ]
  },
  {
   "cell_type": "markdown",
   "id": "8a00ef1d",
   "metadata": {
    "slideshow": {
     "slide_type": "slide"
    }
   },
   "source": [
    "This will allow us to print out our different tables created from different shift values."
   ]
  },
  {
   "cell_type": "markdown",
   "id": "23aac295",
   "metadata": {
    "slideshow": {
     "slide_type": "slide"
    }
   },
   "source": [
    "Listing 1-3. Printable Substitutions"
   ]
  },
  {
   "cell_type": "code",
   "execution_count": 8,
   "id": "57273231",
   "metadata": {
    "slideshow": {
     "slide_type": "slide"
    }
   },
   "outputs": [],
   "source": [
    " # Partial Listing: Some Assembly Required"
   ]
  },
  {
   "cell_type": "markdown",
   "id": "b8188f3a",
   "metadata": {
    "slideshow": {
     "slide_type": "slide"
    }
   },
   "source": [
    "Partial Listing: Some Assembly Required"
   ]
  },
  {
   "cell_type": "code",
   "execution_count": 14,
   "id": "62452388",
   "metadata": {
    "slideshow": {
     "slide_type": "slide"
    }
   },
   "outputs": [],
   "source": [
    "def printable_substitution(subst):\n",
    "    # Sort by source character so things are alphabetized.\n",
    "    mapping = sorted(subst.items())\n",
    " \n",
    "  # Then create two lines: source above, target beneath.\n",
    "    alphabet_line = \" \".join(letter for letter, _ in mapping)\n",
    "    cipher_line = \" \".join(subst_letter for _, subst_letter in mapping)\n",
    "    return \"{}\\n{}\".format(alphabet_line, cipher_line)"
   ]
  },
  {
   "cell_type": "markdown",
   "id": "a9979688",
   "metadata": {
    "slideshow": {
     "slide_type": "slide"
    }
   },
   "source": [
    "Using these functions, we can build a simple application for encoding and decoding messages, shown in Listing 1-4."
   ]
  },
  {
   "cell_type": "markdown",
   "id": "9e890257",
   "metadata": {
    "slideshow": {
     "slide_type": "slide"
    }
   },
   "source": [
    "Listing 1-4. Shift Cipher Application"
   ]
  },
  {
   "cell_type": "code",
   "execution_count": null,
   "id": "cf9ed753",
   "metadata": {
    "slideshow": {
     "slide_type": "slide"
    }
   },
   "outputs": [],
   "source": [
    " # Partial Listing: Some Assembly Required"
   ]
  },
  {
   "cell_type": "code",
   "execution_count": 17,
   "id": "17d35240",
   "metadata": {
    "slideshow": {
     "slide_type": "slide"
    }
   },
   "outputs": [
    {
     "name": "stdout",
     "output_type": "stream",
     "text": [
      "\n",
      "Shift Encoder Decoder\n",
      "--------------------\n",
      "\tCurrent Shift: 1\n",
      "\n",
      "\t1. Print Encoding/Decoding Tables.\n",
      "\t2. Encode Message.\n",
      "\t3. Decode Message.\n",
      "\t4. Change Shift\n",
      "\t5. Quit.\n",
      "\n",
      ">> MARCO\n",
      "\n",
      "Unknown option MARCO.\n",
      "\n",
      "Shift Encoder Decoder\n",
      "--------------------\n",
      "\tCurrent Shift: 1\n",
      "\n",
      "\t1. Print Encoding/Decoding Tables.\n",
      "\t2. Encode Message.\n",
      "\t3. Decode Message.\n",
      "\t4. Change Shift\n",
      "\t5. Quit.\n",
      "\n",
      ">> 1\n",
      "\n",
      "Encoding Table:\n",
      "A B C D E F G H I J K L M N O P Q R S T U V W X Y Z\n",
      "B C D E F G H I J K L M N O P Q R S T U V W X Y Z A\n",
      "Decoding Table:\n",
      "A B C D E F G H I J K L M N O P Q R S T U V W X Y Z\n",
      "Z A B C D E F G H I J K L M N O P Q R S T U V W X Y\n",
      "\n",
      "Shift Encoder Decoder\n",
      "--------------------\n",
      "\tCurrent Shift: 1\n",
      "\n",
      "\t1. Print Encoding/Decoding Tables.\n",
      "\t2. Encode Message.\n",
      "\t3. Decode Message.\n",
      "\t4. Change Shift\n",
      "\t5. Quit.\n",
      "\n"
     ]
    },
    {
     "ename": "KeyboardInterrupt",
     "evalue": "Interrupted by user",
     "output_type": "error",
     "traceback": [
      "\u001b[1;31m---------------------------------------------------------------------------\u001b[0m",
      "\u001b[1;31mKeyboardInterrupt\u001b[0m                         Traceback (most recent call last)",
      "\u001b[1;32m~\\AppData\\Local\\Temp\\ipykernel_12716\\3335598770.py\u001b[0m in \u001b[0;36m<module>\u001b[1;34m\u001b[0m\n\u001b[0;32m     11\u001b[0m         \u001b[0mprint\u001b[0m\u001b[1;33m(\u001b[0m\u001b[1;34m\"\\t4. Change Shift\"\u001b[0m\u001b[1;33m)\u001b[0m\u001b[1;33m\u001b[0m\u001b[1;33m\u001b[0m\u001b[0m\n\u001b[0;32m     12\u001b[0m         \u001b[0mprint\u001b[0m\u001b[1;33m(\u001b[0m\u001b[1;34m\"\\t5. Quit.\\n\"\u001b[0m\u001b[1;33m)\u001b[0m\u001b[1;33m\u001b[0m\u001b[1;33m\u001b[0m\u001b[0m\n\u001b[1;32m---> 13\u001b[1;33m         \u001b[0mchoice\u001b[0m \u001b[1;33m=\u001b[0m \u001b[0minput\u001b[0m\u001b[1;33m(\u001b[0m\u001b[1;34m\">> \"\u001b[0m\u001b[1;33m)\u001b[0m\u001b[1;33m\u001b[0m\u001b[1;33m\u001b[0m\u001b[0m\n\u001b[0m\u001b[0;32m     14\u001b[0m         \u001b[0mprint\u001b[0m\u001b[1;33m(\u001b[0m\u001b[1;33m)\u001b[0m\u001b[1;33m\u001b[0m\u001b[1;33m\u001b[0m\u001b[0m\n\u001b[0;32m     15\u001b[0m \u001b[1;33m\u001b[0m\u001b[0m\n",
      "\u001b[1;32m~\\anaconda3\\lib\\site-packages\\ipykernel\\kernelbase.py\u001b[0m in \u001b[0;36mraw_input\u001b[1;34m(self, prompt)\u001b[0m\n\u001b[0;32m   1175\u001b[0m                 \u001b[1;34m\"raw_input was called, but this frontend does not support input requests.\"\u001b[0m\u001b[1;33m\u001b[0m\u001b[1;33m\u001b[0m\u001b[0m\n\u001b[0;32m   1176\u001b[0m             )\n\u001b[1;32m-> 1177\u001b[1;33m         return self._input_request(\n\u001b[0m\u001b[0;32m   1178\u001b[0m             \u001b[0mstr\u001b[0m\u001b[1;33m(\u001b[0m\u001b[0mprompt\u001b[0m\u001b[1;33m)\u001b[0m\u001b[1;33m,\u001b[0m\u001b[1;33m\u001b[0m\u001b[1;33m\u001b[0m\u001b[0m\n\u001b[0;32m   1179\u001b[0m             \u001b[0mself\u001b[0m\u001b[1;33m.\u001b[0m\u001b[0m_parent_ident\u001b[0m\u001b[1;33m[\u001b[0m\u001b[1;34m\"shell\"\u001b[0m\u001b[1;33m]\u001b[0m\u001b[1;33m,\u001b[0m\u001b[1;33m\u001b[0m\u001b[1;33m\u001b[0m\u001b[0m\n",
      "\u001b[1;32m~\\anaconda3\\lib\\site-packages\\ipykernel\\kernelbase.py\u001b[0m in \u001b[0;36m_input_request\u001b[1;34m(self, prompt, ident, parent, password)\u001b[0m\n\u001b[0;32m   1217\u001b[0m             \u001b[1;32mexcept\u001b[0m \u001b[0mKeyboardInterrupt\u001b[0m\u001b[1;33m:\u001b[0m\u001b[1;33m\u001b[0m\u001b[1;33m\u001b[0m\u001b[0m\n\u001b[0;32m   1218\u001b[0m                 \u001b[1;31m# re-raise KeyboardInterrupt, to truncate traceback\u001b[0m\u001b[1;33m\u001b[0m\u001b[1;33m\u001b[0m\u001b[0m\n\u001b[1;32m-> 1219\u001b[1;33m                 \u001b[1;32mraise\u001b[0m \u001b[0mKeyboardInterrupt\u001b[0m\u001b[1;33m(\u001b[0m\u001b[1;34m\"Interrupted by user\"\u001b[0m\u001b[1;33m)\u001b[0m \u001b[1;32mfrom\u001b[0m \u001b[1;32mNone\u001b[0m\u001b[1;33m\u001b[0m\u001b[1;33m\u001b[0m\u001b[0m\n\u001b[0m\u001b[0;32m   1220\u001b[0m             \u001b[1;32mexcept\u001b[0m \u001b[0mException\u001b[0m\u001b[1;33m:\u001b[0m\u001b[1;33m\u001b[0m\u001b[1;33m\u001b[0m\u001b[0m\n\u001b[0;32m   1221\u001b[0m                 \u001b[0mself\u001b[0m\u001b[1;33m.\u001b[0m\u001b[0mlog\u001b[0m\u001b[1;33m.\u001b[0m\u001b[0mwarning\u001b[0m\u001b[1;33m(\u001b[0m\u001b[1;34m\"Invalid Message:\"\u001b[0m\u001b[1;33m,\u001b[0m \u001b[0mexc_info\u001b[0m\u001b[1;33m=\u001b[0m\u001b[1;32mTrue\u001b[0m\u001b[1;33m)\u001b[0m\u001b[1;33m\u001b[0m\u001b[1;33m\u001b[0m\u001b[0m\n",
      "\u001b[1;31mKeyboardInterrupt\u001b[0m: Interrupted by user"
     ]
    }
   ],
   "source": [
    "if __name__ == \"__main__\":\n",
    "    n = 1\n",
    "    encoding, decoding = create_shift_substitutions(n)\n",
    "    while True:\n",
    "        print(\"\\nShift Encoder Decoder\")\n",
    "        print(\"--------------------\")\n",
    "        print(\"\\tCurrent Shift: {}\\n\".format(n))\n",
    "        print(\"\\t1. Print Encoding/Decoding Tables.\")\n",
    "        print(\"\\t2. Encode Message.\")\n",
    "        print(\"\\t3. Decode Message.\")\n",
    "        print(\"\\t4. Change Shift\")\n",
    "        print(\"\\t5. Quit.\\n\")\n",
    "        choice = input(\">> \")\n",
    "        print()\n",
    "\n",
    "        if choice == '1':\n",
    "            print(\"Encoding Table:\")\n",
    "            print(printable_substitution(encoding))\n",
    "            print(\"Decoding Table:\")\n",
    "            print(printable_substitution(decoding))\n",
    "\n",
    "        elif choice == '2':\n",
    "            message = input(\"\\nMessage to encode: \")\n",
    "            print(\"Encoded Message: {}\".format(\n",
    "            encode(message.upper(), encoding)))\n",
    "\n",
    "        elif choice == '3':\n",
    "            message = input(\"\\nMessage to decode: \")\n",
    "            print(\"Decoded Message: {}\".format(\n",
    "                  decode(message.upper(), decoding)))\n",
    "\n",
    "        elif choice == '4':\n",
    "            new_shift = input(\"\\nNew shift (currently {}): \".format(n))\n",
    "            try:\n",
    "                new_shift = int(new_shift)\n",
    "                if new_shift < 1:\n",
    "                    raise Exception(\"Shift must be greater than 0\")\n",
    "            except ValueError:\n",
    "                    print(\"Shift {} is not a valid number.\".format(new_shift))\n",
    "            else:\n",
    "                n = new_shift\n",
    "                encoding, decoding = create_shift_substitutions(n)\n",
    "\n",
    "         \n",
    "        elif choice == '5':\n",
    "            print(\"Terminating. This program will self destruct in 5 seconds .\\n\")\n",
    "            break\n",
    "\n",
    "        else:\n",
    "            print(\"Unknown option {}.\".format(choice))"
   ]
  },
  {
   "cell_type": "raw",
   "id": "51be7b38",
   "metadata": {
    "slideshow": {
     "slide_type": "slide"
    }
   },
   "source": [
    "The encoding and decoding program completed, the East Antarctica Truth-Spying Agency (EATSA ) sends Alice and Bob off to their covert destinations hopeful that their communications, if intercepted, will not be readable by the West Antarctica Central \n",
    "Knights Office (WACKO)."
   ]
  },
  {
   "cell_type": "markdown",
   "id": "cefd71cd",
   "metadata": {
    "slideshow": {
     "slide_type": "slide"
    }
   },
   "source": [
    "Una vez completado el programa de codificación y decodificación, la Agencia de Espionaje de la Verdad de la Antártida Oriental (EATSA) envía a Alice y Bob a sus destinos encubiertos con la esperanza de que sus comunicaciones, si son interceptadas, no sean legibles por la Oficina Central de Caballeros de la Antártida Occidental (WACKO)."
   ]
  },
  {
   "cell_type": "raw",
   "id": "4f87ecb9",
   "metadata": {
    "slideshow": {
     "slide_type": "slide"
    }
   },
   "source": [
    "The problem is this code is quite easy to break. "
   ]
  },
  {
   "cell_type": "markdown",
   "id": "1c626eeb",
   "metadata": {
    "slideshow": {
     "slide_type": "slide"
    }
   },
   "source": []
  },
  {
   "cell_type": "raw",
   "id": "a300af22",
   "metadata": {
    "slideshow": {
     "slide_type": "slide"
    }
   },
   "source": [
    "Can you see why? There are all kinds of ways to figure it out by clever guessing. For example, try to break this:\n",
    "FA NQ AD ZAF FA NQ FTMF UE FTQ CGQEFUAZ"
   ]
  },
  {
   "cell_type": "raw",
   "id": "a8f6461a",
   "metadata": {
    "slideshow": {
     "slide_type": "slide"
    }
   },
   "source": [
    "Using a couple of simple two-letter words such as “if,” “or,” “in,” “to,” and so forth, it \n",
    "quickly becomes obvious that this phrase is\n",
    "TO BE OR NOT TO BE THAT IS THE QUESTION"
   ]
  },
  {
   "cell_type": "raw",
   "id": "05fd833e",
   "metadata": {
    "slideshow": {
     "slide_type": "slide"
    }
   },
   "source": [
    "The preserved spaces make it easy to figure out. For this reason, real spies before  modern cryptography would typically remove all of the spaces in their messages, like this:  \n",
    "\n",
    "FANQADZAFFANQFTMFUEFTQCGQEFUAZ"
   ]
  },
  {
   "cell_type": "raw",
   "id": "d73d5bcf",
   "metadata": {
    "slideshow": {
     "slide_type": "slide"
    }
   },
   "source": [
    "With this change, at least it isn’t obvious where to try easy word substitutions. But even if Alice and Bob remove all spaces and punctuation, it is still trivial to break their codes. "
   ]
  },
  {
   "cell_type": "raw",
   "id": "3115a67a",
   "metadata": {
    "slideshow": {
     "slide_type": "slide"
    }
   },
   "source": [
    "Although this code is so trivial it can be broken with pen and paper, we are going to write a Python program to crack it. Do you already see how? If so, go ahead and do it yourself. If not, keep reading!"
   ]
  },
  {
   "cell_type": "raw",
   "id": "2019fe3b",
   "metadata": {
    "slideshow": {
     "slide_type": "slide"
    }
   },
   "source": [
    "The problem with the substitution cipher used by EATSA is that there are only 25 unique and effective shifts. "
   ]
  },
  {
   "cell_type": "raw",
   "id": "8c873daa",
   "metadata": {
    "slideshow": {
     "slide_type": "slide"
    }
   },
   "source": [
    "You can easily construct a Python program to try all possible 25 combinations."
   ]
  },
  {
   "cell_type": "raw",
   "id": "ca80f356",
   "metadata": {
    "slideshow": {
     "slide_type": "slide"
    }
   },
   "source": [
    "How do we know when we are using the same shift as Alice and Bob? We’ll know it when we see it because it will be readable."
   ]
  },
  {
   "cell_type": "raw",
   "id": "a4234b38",
   "metadata": {
    "slideshow": {
     "slide_type": "slide"
    }
   },
   "source": [
    "Let’s switch sides in this Antarctic cold war and work for the West Antarctica Central Knights Office (WACKO). "
   ]
  },
  {
   "cell_type": "raw",
   "id": "4e42b2ea",
   "metadata": {
    "slideshow": {
     "slide_type": "slide"
    }
   },
   "source": [
    "They know that spies have infiltrated their country, and they are monitoring for communications between those spies and EATSA. One of their counter-intelligence agents, code named “Eve,” has just come across the following message:  \n",
    "\n",
    "FANQADZAFFANQFTMFUEFTQCGQEFUAZ"
   ]
  },
  {
   "cell_type": "markdown",
   "id": "240e3775",
   "metadata": {
    "slideshow": {
     "slide_type": "slide"
    }
   },
   "source": [
    "With this message, Eve also has intel that EA agents are using substitution ciphers. \n",
    "She decides to construct a program for encoding and decoding such messages. In an \n",
    "amazing coincidence, she constructs a Python program just like EATSA!\n",
    "Running the program, she tries decoding the message with a shift of 1, producing this:\n",
    "EZMPZCYZEEZMPESLETDESPBFPDETZY\n",
    "That doesn’t look right. So Eve tries again with shifts 2, 3, and so forth.\n",
    "1: EZMPZCYZEEZMPESLETDESPBFPDETZY\n",
    "2: DYLOYBXYDDYLODRKDSCDROAEOCDSYX\n",
    "3: CXKNXAWXCCXKNCQJCRBCQNZDNBCRXW\n",
    "4: BWJMWZVWBBWJMBPIBQABPMYCMABQWV\n",
    "5: AVILVYUVAAVILAOHAPZAOLXBLZAPVU\n",
    "6: ZUHKUXTUZZUHKZNGZOYZNKWAKYZOUT\n",
    "7: YTGJTWSTYYTGJYMFYNXYMJVZJXYNTS\n",
    "8: XSFISVRSXXSFIXLEXMWXLIUYIWXMSR\n",
    "9: WREHRUQRWWREHWKDWLVWKHTXHVWLRQ\n",
    "10: VQDGQTPQVVQDGVJCVKUVJGSWGUVKQP\n",
    "11: UPCFPSOPUUPCFUIBUJTUIFRVFTUJPO\n",
    "12: TOBEORNOTTOBETHATISTHEQUESTION\n",
    "Using a shift of 12, Eve sees a string of obviously English text. This is clearly the message.\n",
    "This type of substitution cipher is often called a Caesar cipher because Julius Caesar \n",
    "used it for his secret messages [3]. This cipher is more than 2000 years old. Obviously, \n",
    "we’ve come a long way since then. This technology is quite obsolete.\n",
    "Even so, there are a lot of principles of modern cryptography that can be discussed \n",
    "using the Caesar cipher, including\n",
    "1. Key size\n",
    "2. Block size\n",
    "3. Preserved structure (structure that survives encoding)\n",
    "4. Brute-force attacks\n",
    "We will be learning about all of these concepts in this book in the context of modern \n",
    "cryptography. Mathematical advances have enabled new ciphers that are almost \n",
    "impossible to break if used correctly. Before we go on, though, here are a few additional \n",
    "exercises for the intellectually curious."
   ]
  },
  {
   "cell_type": "markdown",
   "id": "1be20f16",
   "metadata": {
    "slideshow": {
     "slide_type": "slide"
    }
   },
   "source": [
    "## EXERCISE 1.2. AUTOMATED DECODING"
   ]
  },
  {
   "cell_type": "markdown",
   "id": "f4011dac",
   "metadata": {
    "slideshow": {
     "slide_type": "slide"
    }
   },
   "source": [
    "In our example, Eve tried decoding various messages until she saw something that looked like English.  \n",
    "\n",
    "Try automating this."
   ]
  },
  {
   "cell_type": "markdown",
   "id": "5fe25a49",
   "metadata": {
    "slideshow": {
     "slide_type": "slide"
    }
   },
   "source": [
    "* Get a data structure containing a few thousand English words.1\n",
    "* Create a program that takes in an encoded string, then try decoding it with all 25 shift values.\n",
    "* Use the dictionary to try to automatically determine which shift is most likely."
   ]
  },
  {
   "cell_type": "markdown",
   "id": "3162f146",
   "metadata": {
    "slideshow": {
     "slide_type": "slide"
    }
   },
   "source": [
    "Because you have to deal with messages with no spaces, you can simply keep a count of how many dictionary words show up in the decoded output. "
   ]
  },
  {
   "cell_type": "markdown",
   "id": "58ea9acf",
   "metadata": {
    "slideshow": {
     "slide_type": "slide"
    }
   },
   "source": [
    "Occasionally, one or two words might appear by accident, but the correct decoding should have significantly more hits."
   ]
  },
  {
   "cell_type": "markdown",
   "id": "23926d10",
   "metadata": {
    "slideshow": {
     "slide_type": "slide"
    }
   },
   "source": [
    "# EXERCISE 1.3. A STRONG SUBSTITUTION CIPHER"
   ]
  },
  {
   "cell_type": "markdown",
   "id": "f0ebe28d",
   "metadata": {
    "slideshow": {
     "slide_type": "slide"
    }
   },
   "source": [
    "What if instead of shifting the alphabet, you randomly jumbled the letters? Create a program \n",
    "that encodes and decodes messages using this kind of substitution.\n",
    "Some newspapers publish puzzles like this called cryptograms.\n",
    "EXERCISE 1.4. COUNT THE DICTIONARIES\n",
    "How many substitution dictionaries are possible for the cryptogram-style substitution in the \n",
    "previous exercise?"
   ]
  },
  {
   "cell_type": "code",
   "execution_count": null,
   "id": "c63c8283",
   "metadata": {
    "slideshow": {
     "slide_type": "slide"
    }
   },
   "outputs": [],
   "source": []
  },
  {
   "cell_type": "code",
   "execution_count": null,
   "id": "05b15bb1",
   "metadata": {
    "slideshow": {
     "slide_type": "slide"
    }
   },
   "outputs": [],
   "source": []
  },
  {
   "cell_type": "code",
   "execution_count": 10,
   "id": "c41cf9b5",
   "metadata": {
    "slideshow": {
     "slide_type": "slide"
    }
   },
   "outputs": [
    {
     "name": "stdout",
     "output_type": "stream",
     "text": [
      "entre un numero natural: 0\n",
      "el numero es par\n"
     ]
    }
   ],
   "source": [
    "n = int(input('entre un numero natural: ')) \n",
    "if n%2 ==1:\n",
    "    print('el numero es impar')\n",
    "    \n",
    "if n%2 ==0:\n",
    "    print('el numero es par')    \n",
    "    "
   ]
  },
  {
   "cell_type": "markdown",
   "id": "1bf0ed35",
   "metadata": {
    "slideshow": {
     "slide_type": "slide"
    }
   },
   "source": [
    "## Tareas para fijar conceptos e ideas y para adquirir habilidades "
   ]
  },
  {
   "cell_type": "code",
   "execution_count": null,
   "id": "1c72898d",
   "metadata": {},
   "outputs": [],
   "source": []
  },
  {
   "cell_type": "markdown",
   "id": "0b82af8d",
   "metadata": {},
   "source": []
  },
  {
   "cell_type": "markdown",
   "id": "547ab3e6",
   "metadata": {
    "slideshow": {
     "slide_type": "slide"
    }
   },
   "source": [
    "## Evaluación (LAS POSIBLES PREGUNTAS DE PARCIAL O QUIZ)"
   ]
  },
  {
   "cell_type": "markdown",
   "id": "be4cf21e",
   "metadata": {},
   "source": [
    "¿$1.1 \\in \\mathbb{Q}$?"
   ]
  },
  {
   "cell_type": "markdown",
   "id": "df268bc3",
   "metadata": {
    "slideshow": {
     "slide_type": "slide"
    }
   },
   "source": [
    "1.1 es racional porque existen al menos dos enteros cuyo cociente da 1.1. Ellos son $11$ y $10$. Más precisamente\n",
    "\n",
    "$$ 1.1 = \\frac{11}{10} $$\n"
   ]
  },
  {
   "cell_type": "markdown",
   "id": "f06e8543",
   "metadata": {
    "slideshow": {
     "slide_type": "slide"
    }
   },
   "source": [
    "¿Cuáles SON TODOS LOS POSIBLES RESIDUOS AL DIVIDIR POR 4?\n",
    "\n",
    "SON 0, 1, 2, 3. "
   ]
  },
  {
   "cell_type": "markdown",
   "id": "a1817056",
   "metadata": {
    "slideshow": {
     "slide_type": "slide"
    }
   },
   "source": [
    "Describa el proceso de codificación de los mensajes cuando la diatancia es n = 3"
   ]
  },
  {
   "cell_type": "markdown",
   "id": "e0f90290",
   "metadata": {
    "slideshow": {
     "slide_type": "slide"
    }
   },
   "source": [
    "## Referentes  \n",
    "\n",
    "* Sobre el módulo string de python: https://www.digitalocean.com/community/tutorials/python-string-module"
   ]
  },
  {
   "cell_type": "markdown",
   "id": "88832390",
   "metadata": {
    "slideshow": {
     "slide_type": "slide"
    }
   },
   "source": [
    "### [Continue la secuencia de enseñanza a través de este vínculo](https://github.com/marco-canas/didactica_ciencia_datos/blob/main/propuesta/unidad_didac/1_statistic/1_Basic_Descriptive_Statistics/1_medidas_tendencia_central/2_mediana.ipynb)"
   ]
  }
 ],
 "metadata": {
  "celltoolbar": "Slideshow",
  "kernelspec": {
   "display_name": "Python 3 (ipykernel)",
   "language": "python",
   "name": "python3"
  },
  "language_info": {
   "codemirror_mode": {
    "name": "ipython",
    "version": 3
   },
   "file_extension": ".py",
   "mimetype": "text/x-python",
   "name": "python",
   "nbconvert_exporter": "python",
   "pygments_lexer": "ipython3",
   "version": "3.9.13"
  },
  "rise": {
   "enable_chalkboard": true,
   "theme": "sky"
  }
 },
 "nbformat": 4,
 "nbformat_minor": 5
}
