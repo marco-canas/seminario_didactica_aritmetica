{
 "cells": [
  {
   "cell_type": "markdown",
   "metadata": {},
   "source": [
    "<table align=\"left\">\n",
    "  <td>\n",
    "    <a href=\"https://colab.research.google.com/github/marco-canas/seminario_didactica_aritmetica/blob/main/classes/esquema_aditivo/esquema_aditivo.ipynb\" target=\"_parent\"><img src=\"https://colab.research.google.com/assets/colab-badge.svg\" alt=\"Open In Colab\"/></a>\n",
    "  </td>\n",
    "</table>"
   ]
  },
  {
   "cell_type": "markdown",
   "metadata": {},
   "source": [
    "[Video de apoyo](https://www.youtube.com/watch?v=pt4IpsSiJ94)"
   ]
  },
  {
   "cell_type": "markdown",
   "metadata": {},
   "source": [
    "# Esquema aditivo"
   ]
  },
  {
   "cell_type": "markdown",
   "metadata": {},
   "source": [
    "# Esquema aditivo en primaria"
   ]
  },
  {
   "cell_type": "markdown",
   "metadata": {},
   "source": [
    "¡Por supuesto! Aquí tienes tres problemas matemáticos que pueden ayudar al desarrollo del esquema aditivo en estudiantes de primaria:\n"
   ]
  },
  {
   "cell_type": "markdown",
   "metadata": {},
   "source": [
    "\n",
    "**Problema 1: Suma de dos números:**\n",
    "Juan tiene 5 lápices y su amiga Ana le da 3 lápices más. ¿Cuántos lápices tiene Juan en total?\n"
   ]
  },
  {
   "cell_type": "markdown",
   "metadata": {},
   "source": [
    "\n",
    "**Problema 2: Suma de tres números:**\n",
    "En la tienda de juguetes, Marta compró un muñeco por 12 dólares, una pelota por 5 dólares y un libro por 8 dólares. ¿Cuánto gastó en total?\n",
    "\n",
    "**Problema 3: Suma con objetos cotidianos:**\n",
    "María tiene 2 manzanas en su bolsa y su hermano le da 4 manzanas más. Si luego come 3 manzanas, ¿cuántas manzanas le quedan?\n",
    "\n",
    "Estos problemas involucran situaciones cotidianas y utilizan números pequeños para ayudar a los estudiantes a comprender la idea de sumar cantidades. Puedes adaptar los problemas según el nivel y las habilidades matemáticas de tu hijo."
   ]
  },
  {
   "cell_type": "markdown",
   "metadata": {},
   "source": [
    "## Prerrequisitos conceptuales\n",
    "\n",
    "1. [Teoría de conjuntos]() De Lina Grajales. Matemáticas I para ciencias económicas. (Está en la página 34)\n",
    "   [Biografía de John Venn](https://es.wikipedia.org/wiki/John_Venn)\n",
    "2. [Diagramas de Venn](https://es.wikipedia.org/wiki/Diagrama_de_Venn) \n",
    "3. [Introducción axiomática de los números reales según Bartle]()"
   ]
  },
  {
   "cell_type": "code",
   "execution_count": 2,
   "metadata": {},
   "outputs": [],
   "source": [
    "import numpy as np "
   ]
  },
  {
   "cell_type": "code",
   "execution_count": 3,
   "metadata": {},
   "outputs": [
    {
     "data": {
      "text/plain": [
       "array([   54,    55,    56, ...,  9998,  9999, 10000])"
      ]
     },
     "execution_count": 3,
     "metadata": {},
     "output_type": "execute_result"
    }
   ],
   "source": [
    "S = np.arange(54, 10_001)\n",
    "S "
   ]
  },
  {
   "cell_type": "code",
   "execution_count": 4,
   "metadata": {},
   "outputs": [
    {
     "data": {
      "text/plain": [
       "9947"
      ]
     },
     "execution_count": 4,
     "metadata": {},
     "output_type": "execute_result"
    }
   ],
   "source": [
    "len(S)"
   ]
  },
  {
   "cell_type": "code",
   "execution_count": 6,
   "metadata": {},
   "outputs": [
    {
     "data": {
      "text/plain": [
       "9947"
      ]
     },
     "execution_count": 6,
     "metadata": {},
     "output_type": "execute_result"
    }
   ],
   "source": [
    "10_000-54 + 1"
   ]
  },
  {
   "cell_type": "markdown",
   "metadata": {},
   "source": [
    "En una segmento de números naturales, su cardinalidad es igual a la diferencia entre el extremo derecho y el extremo izquierdo más uno.. "
   ]
  },
  {
   "cell_type": "markdown",
   "metadata": {},
   "source": [
    "# Esquema aditivo en secundaria"
   ]
  },
  {
   "cell_type": "markdown",
   "metadata": {},
   "source": []
  }
 ],
 "metadata": {
  "kernelspec": {
   "display_name": ".venv",
   "language": "python",
   "name": "python3"
  },
  "language_info": {
   "codemirror_mode": {
    "name": "ipython",
    "version": 3
   },
   "file_extension": ".py",
   "mimetype": "text/x-python",
   "name": "python",
   "nbconvert_exporter": "python",
   "pygments_lexer": "ipython3",
   "version": "3.10.12"
  },
  "orig_nbformat": 4
 },
 "nbformat": 4,
 "nbformat_minor": 2
}
