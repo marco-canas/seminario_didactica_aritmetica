{
 "cells": [
  {
   "cell_type": "markdown",
   "metadata": {},
   "source": [
    "# ¿Qué es pedagogía activa y un ejemplo de aplicación de ella? "
   ]
  },
  {
   "cell_type": "markdown",
   "metadata": {},
   "source": [
    "La pedagogía activa es un enfoque educativo que pone énfasis en la participación activa y la responsabilidad del estudiante en su propio proceso de aprendizaje. En este enfoque, los estudiantes no son meros receptores pasivos de información, sino que se convierten en protagonistas de su aprendizaje, involucrándose en actividades que promueven la exploración, el descubrimiento y la construcción de conocimiento.\n",
    "\n",
    "Ejemplo de aplicación de la pedagogía activa en la enseñanza de la multiplicación de fracciones:\n",
    "\n",
    "En lugar de enseñar directamente el algoritmo de multiplicación de fracciones y sus reglas, un enfoque pedagógico activo podría involucrar a los estudiantes en una serie de actividades diseñadas para que descubran y comprendan el concepto de multiplicación de fracciones por sí mismos. Aquí hay un ejemplo de cómo podría ser:\n",
    "\n",
    "1. **Introducción visual:** Comienza mostrando visualmente el concepto de multiplicación de fracciones utilizando objetos tangibles o imágenes. Proporciona a los estudiantes piezas de papel o círculos divididos en sectores para representar las fracciones. Por ejemplo, puedes usar un círculo dividido en cuatro partes iguales y otro círculo dividido en tres partes iguales para representar las fracciones 1/4 y 1/3 respectivamente.\n",
    "\n",
    "2. **Exploración de la fracción de una fracción:** Pide a los estudiantes que representen visualmente la fracción 1/4 de 1/3. Esto los llevará a dividir el círculo de 1/3 en cuartos y a sombrear uno de esos cuartos.\n",
    "\n",
    "3. **Descubrimiento de patrones:** Guiados por preguntas, pide a los estudiantes que comparen sus representaciones visuales y discutan los patrones que están emergiendo. ¿Cómo se relaciona la multiplicación de fracciones con la división de las partes en los círculos?\n",
    "\n",
    "4. **Conexiones con experiencias cotidianas:** Plantea situaciones cotidianas en las que la multiplicación de fracciones podría ser relevante, como cocinar recetas, dividir terrenos o repartir objetos entre amigos.\n",
    "\n",
    "5. **Resolución de problemas:** Presenta problemas que involucren la multiplicación de fracciones y pide a los estudiantes que trabajen juntos para encontrar soluciones utilizando sus representaciones visuales y los patrones que han descubierto.\n",
    "\n",
    "6. **Comparación con reglas convencionales:** Después de que los estudiantes hayan explorado y comprendido el concepto de multiplicación de fracciones, puedes introducir las reglas convencionales y los algoritmos, y discutir cómo se relacionan con lo que han descubierto.\n",
    "\n",
    "7. **Aplicación práctica:** Proporciona a los estudiantes problemas más complejos que requieran el uso de la multiplicación de fracciones en contextos diversos, fomentando el pensamiento crítico y la aplicación real del concepto.\n",
    "\n",
    "Este enfoque activo permite que los estudiantes construyan un entendimiento profundo de la multiplicación de fracciones a través de la exploración, el razonamiento y la conexión con sus experiencias cotidianas, en lugar de simplemente memorizar reglas abstractas."
   ]
  },
  {
   "cell_type": "markdown",
   "metadata": {},
   "source": [
    "# 1 Lineamientos cuirriculares\n",
    "## Concepciones sobre las matemáticas "
   ]
  },
  {
   "cell_type": "markdown",
   "metadata": {},
   "source": [
    "### Platonismo\n",
    "\n",
    "¿Cuál sería, para la corriente del Platonismo, un concepto de pedagogía activa coherente con su posición filosófica? entendiendo la corriente platonista así: Éste considera las matemáticas como un sistema de verdades que han existido desde siempre e independientemente del hombre. La tarea del matemático es descubrir esas verdades matemáticas, ya que en cierto sentido está “sometido” a ellas y las tiene que obedecer. Por ejemplo, si construimos un triángulo de catetos $c, d$ y de hipotenusa $h$, entonces irremediablemente encontraremos que: $h^{2} = c^{ 2} + d^{2}$ .\n"
   ]
  },
  {
   "cell_type": "markdown",
   "metadata": {},
   "source": [
    "El Platonismo reconoce que las figuras geométricas, las operaciones y las relaciones aritméticas nos resultan en alguna forma misteriosas; que tienen propiedades que descubrimos sólo a costa de un gran esfuerzo; que tienen otras que nos esforzamos por descubrir pero no lo conseguimos, y que existen otras que ni siquiera sospechamos, ya que las matemáticas trascienden la mente humana, y existen fuera de ella como una “realidad ideal ” independiente de nuestra actividad creadora y de nuestros conocimientos previos.\n",
    "\n",
    "Dentro de la corriente del Platonismo, que considera las matemáticas como un sistema de verdades eternas e independientes del ser humano, una pedagogía activa coherente con esta posición filosófica podría enfocarse en guiar a los estudiantes hacia el descubrimiento y comprensión profunda de estas verdades matemáticas. Aquí hay algunos aspectos clave que podrían ser parte de esa pedagogía:\n",
    "\n",
    "1. **Estímulo del pensamiento crítico y la exploración:** En lugar de simplemente transmitir fórmulas y procedimientos, la pedagogía activa platonista fomentaría el cuestionamiento y la exploración profunda de conceptos matemáticos. Los estudiantes serían alentados a pensar en las propiedades y relaciones matemáticas por sí mismos, investigar patrones y plantear preguntas.\n",
    "\n",
    "2. **Resolución de problemas significativos:** La pedagogía platonista se centraría en problemas matemáticos que requieran un análisis exhaustivo y la aplicación de principios fundamentales. Los estudiantes deberían trabajar en problemas desafiantes que los lleven a descubrir por sí mismos las verdades matemáticas, en lugar de simplemente aprender a aplicar fórmulas preestablecidas.\n",
    "\n",
    "3. **Enfoque en la geometría y la aritmética:** Dado que el Platonismo matemático considera que las figuras geométricas y las relaciones aritméticas son realidades independientes y eternas, la pedagogía activa podría enfocarse en la exploración profunda de estos campos. Los estudiantes podrían trabajar en la construcción y visualización de figuras geométricas, así como en la comprensión profunda de las propiedades numéricas.\n",
    "\n",
    "4. **Uso de la dialéctica socrática:** La metodología de la dialéctica socrática sería adecuada para esta pedagogía, ya que se basa en hacer preguntas para guiar a los estudiantes hacia el descubrimiento y la comprensión. El maestro plantearía preguntas que llevarían a los estudiantes a razonar y descubrir las verdades matemáticas por sí mismos.\n",
    "\n",
    "5. **Enseñanza basada en la intuición:** Dado que se considera que las verdades matemáticas son realidades independientes que trascienden la mente humana, se podría enfatizar la intuición en la enseñanza. Los estudiantes podrían ser guiados a desarrollar un sentido intuitivo de las relaciones y propiedades matemáticas antes de formalizarlas.\n",
    "\n",
    "6. **Exploración de límites y conjeturas:** La pedagogía activa platonista podría fomentar la formulación y exploración de conjeturas matemáticas. Los estudiantes podrían experimentar con patrones y relaciones, y luego intentar demostrar o refutar sus conjeturas a través de la lógica y el razonamiento.\n",
    "\n",
    "7. **Énfasis en la belleza y la elegancia matemática:** Dado que el Platonismo también valora la belleza y la elegancia en las matemáticas, la pedagogía activa podría resaltar la apreciación estética de los conceptos matemáticos y cómo estas verdades eternas se manifiestan en patrones y estructuras elegantes.\n",
    "\n",
    "En resumen, una pedagogía activa platonista se centraría en guiar a los estudiantes hacia el descubrimiento y la comprensión profunda de las verdades matemáticas eternas, fomentando la exploración, el razonamiento crítico y la apreciación de la belleza matemática."
   ]
  },
  {
   "cell_type": "code",
   "execution_count": null,
   "metadata": {},
   "outputs": [],
   "source": []
  },
  {
   "cell_type": "code",
   "execution_count": null,
   "metadata": {},
   "outputs": [],
   "source": []
  }
 ],
 "metadata": {
  "language_info": {
   "name": "python"
  },
  "orig_nbformat": 4
 },
 "nbformat": 4,
 "nbformat_minor": 2
}
