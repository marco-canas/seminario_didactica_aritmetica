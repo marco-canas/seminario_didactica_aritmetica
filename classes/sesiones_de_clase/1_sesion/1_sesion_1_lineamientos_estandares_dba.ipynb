{
 "cells": [
  {
   "cell_type": "markdown",
   "id": "dc06dec7",
   "metadata": {
    "slideshow": {
     "slide_type": "slide"
    }
   },
   "source": [
    "<table align=\"left\">\n",
    "  <td>\n",
    "    <a href=\"https://colab.research.google.com/github/marco-canas/seminario_didactica_aritmetica/blob/main/classes/sesiones_de_clase/1_sesion/1_sesion_1_lineamientos_estandares_dba.ipynb\" target=\"_parent\"><img src=\"https://colab.research.google.com/assets/colab-badge.svg\" alt=\"Open In Colab\"/></a>\n",
    "  </td>\n",
    "</table>"
   ]
  },
  {
   "cell_type": "markdown",
   "id": "e0c5b198",
   "metadata": {
    "slideshow": {
     "slide_type": "slide"
    }
   },
   "source": [
    "### [Video de apoyo a la lectura interactiva y experimental de este cuaderno](https://studio.youtube.com/channel/UCtvEEx-ddekEo0i98ys3pIw/videos/upload?filter=%5B%5D&sort=%7B%22columnType%22%3A%22date%22%2C%22sortOrder%22%3A%22DESCENDING%22%7D)"
   ]
  },
  {
   "cell_type": "markdown",
   "id": "41e82203",
   "metadata": {
    "slideshow": {
     "slide_type": "slide"
    }
   },
   "source": [
    "## [Vínculo al programa del curso:](https://github.com/marco-canas/seminario_didactica_aritmetica/blob/main/plan%20del%20curso_seminario_didactica_aritmetica.docx)\n",
    "\n"
   ]
  },
  {
   "cell_type": "markdown",
   "id": "d11ab06d",
   "metadata": {
    "slideshow": {
     "slide_type": "slide"
    }
   },
   "source": [
    "Un reconocimiento a mis estudiantes que han construido conmigo este saber pedagógico:\n",
    "\n",
    "<img src = 'https://github.com/marco-canas/seminario_didactica_aritmetica/blob/main/images/IMG_20220825_104338.jpg?raw=true'> \n",
    "\n"
   ]
  },
  {
   "cell_type": "markdown",
   "id": "5e3936d8",
   "metadata": {
    "slideshow": {
     "slide_type": "slide"
    }
   },
   "source": [
    "# Llamar a lista o tomar asistencia con python o llamar el equipo para la tarea con video y cuaderno Jupyter sobre medición indirecta de grandes alturas con imágenes"
   ]
  },
  {
   "cell_type": "code",
   "execution_count": 1,
   "id": "7604880f",
   "metadata": {
    "slideshow": {
     "slide_type": "slide"
    }
   },
   "outputs": [
    {
     "name": "stdout",
     "output_type": "stream",
     "text": [
      "Llamando a TAMAYO DE LA OSSA SARA...\n"
     ]
    }
   ],
   "source": [
    "import pandas as pd\n",
    "import random\n",
    "\n",
    "# Cargar la lista de estudiantes desde la URL\n",
    "url = 'https://raw.githubusercontent.com/marco-canas/groups_list/main/seminario_didactica_aritmetica.csv'\n",
    "estudiantes = pd.read_csv(url, encoding = 'latin1')\n",
    "\n",
    "# Función para llamar a un estudiante aleatoriamente y registrar su nota de seguimiento\n",
    "def llamar_estudiante():\n",
    "    estudiante_aleatorio = random.choice(estudiantes['Nombre'])\n",
    "    print(f\"Llamando a {estudiante_aleatorio}...\")\n",
    "    \n",
    "    \n",
    "# Llamar a la función para realizar el proceso\n",
    "llamar_estudiante()\n"
   ]
  },
  {
   "cell_type": "markdown",
   "id": "4f9d8cf9",
   "metadata": {
    "slideshow": {
     "slide_type": "slide"
    }
   },
   "source": [
    "# Modelo general de clase: [aula invertida](https://www3.gobiernodecanarias.org/medusa/ecoescuela/pedagotic/aprendizaje-invertido-flipped-classroom/)"
   ]
  },
  {
   "cell_type": "markdown",
   "id": "eb6ed03a",
   "metadata": {},
   "source": [
    "![Definamos flipped learning de manera gráfica](https://resources.maneuveringthemiddle.com/wp-content/uploads/2020/07/04212706/1-5.png)"
   ]
  },
  {
   "cell_type": "markdown",
   "id": "8d97dc80",
   "metadata": {
    "slideshow": {
     "slide_type": "slide"
    }
   },
   "source": [
    "## Fomento de la lectura literaria asociada a Ingeniería agropecuaria y licenciatura en Matemáticas\n",
    "\n",
    "\n",
    "[MARSHALL ROSENBERG](https://udeaeduco-my.sharepoint.com/:b:/g/personal/marco_canas_udea_edu_co/Efb_5fC50D5JnA4BzTKzgsIB9UeMjgs1kCU-sROZDlWTGw?e=gjRMdZ)"
   ]
  },
  {
   "cell_type": "markdown",
   "id": "b39679b3",
   "metadata": {
    "slideshow": {
     "slide_type": "slide"
    }
   },
   "source": [
    "# Los juicios moralistas"
   ]
  },
  {
   "cell_type": "markdown",
   "id": "d4e8cd6b",
   "metadata": {
    "slideshow": {
     "slide_type": "slide"
    }
   },
   "source": [
    "Un tipo de comunicación que aliena de la vida es aquél en el que empleamos juicios moralistas que presuponen una actitud errónea o malvada por parte de aquellas personas que no actúan de acuerdo con nuestros valores. "
   ]
  },
  {
   "cell_type": "markdown",
   "id": "c1ea3dcc",
   "metadata": {
    "slideshow": {
     "slide_type": "slide"
    }
   },
   "source": [
    "Estos juicios se reflejan en comentarios como:   \n",
    "\n",
    "* «Tu problema es que eres muy egoísta», \n",
    "* «Es una perezosa», \n",
    "* «Están llenos de prejuicios», \n",
    "* «Esto es inapropiado».   \n",
    "  \n",
    "Echar la culpa a alguien, insultarlo, rebajarlo, ponerle etiquetas, criticarlo, establecer comparaciones y emitir diagnósticos son distintas maneras de formular juicios.\n"
   ]
  },
  {
   "cell_type": "markdown",
   "metadata": {},
   "source": [
    "Sin embargo, la comunicación que nos aliena de la vida nos atrapa en un mundo de ideas preconcebidas con respecto a lo que está bien y lo que está mal, un mundo hecho de juicios. "
   ]
  },
  {
   "cell_type": "markdown",
   "metadata": {},
   "source": [
    "Emplea un lenguaje en el que abundan las palabras que establecen clasificaciones y dicotomías con respecto a las personas y a sus formas de actuar.\n"
   ]
  },
  {
   "cell_type": "markdown",
   "metadata": {},
   "source": [
    "Cuando utilizamos este lenguaje juzgamos a los demás y su comportamiento y nos centramos en quién es bueno, malo, normal, anormal, responsable, irresponsable, inteligente, ignorante, etcétera. "
   ]
  },
  {
   "cell_type": "markdown",
   "metadata": {},
   "source": [
    "Estas formas de comunicación nos alienan de nuestro estado natural de compasión o solidaridad."
   ]
  },
  {
   "cell_type": "markdown",
   "id": "5fc493ad",
   "metadata": {
    "slideshow": {
     "slide_type": "slide"
    }
   },
   "source": [
    "En el mundo de los juicios\n",
    "nuestra preocupación se\n",
    "centra en quién “es” qué."
   ]
  },
  {
   "cell_type": "markdown",
   "id": "23d1cf0a",
   "metadata": {
    "slideshow": {
     "slide_type": "slide"
    }
   },
   "source": [
    "Mucho antes de llegar a la edad adulta, aprendí a comunicarme con los demás de una manera impersonal en la que no necesitaba revelar lo que me estaba pasando internamente. "
   ]
  },
  {
   "cell_type": "markdown",
   "id": "fe92600c",
   "metadata": {
    "slideshow": {
     "slide_type": "slide"
    }
   },
   "source": [
    "Cada vez que me encontraba con personas o hechos que no me gustaban o no comprendía, mi reacción consistía en dictaminar que los equivocados eran ellos. "
   ]
  },
  {
   "cell_type": "markdown",
   "id": "02abdd5f",
   "metadata": {
    "slideshow": {
     "slide_type": "slide"
    }
   },
   "source": [
    "Cuando mis maestros me encomendaban una tarea que yo no tenía ganas de hacer, se convertían a mis ojos en unos «pesados» o unos «imbéciles». "
   ]
  },
  {
   "cell_type": "markdown",
   "id": "9fc2f7f6",
   "metadata": {
    "slideshow": {
     "slide_type": "slide"
    }
   },
   "source": [
    "Cuando estaba manejando y alguien me pasaba por delante, yo reaccionaba llamándolo «idiota». "
   ]
  },
  {
   "cell_type": "markdown",
   "id": "c4231c7a",
   "metadata": {
    "slideshow": {
     "slide_type": "slide"
    }
   },
   "source": [
    "Siempre que empleamos este lenguaje, pensamos y nos comunicamos desde la perspectiva de que algo falla en los demás porque se comportan de una determinada manera o, a veces, de que algo falla en nosotros porque no comprendemos o no respondemos como nos gustaría. "
   ]
  },
  {
   "cell_type": "markdown",
   "id": "16ce4f69",
   "metadata": {
    "slideshow": {
     "slide_type": "slide"
    }
   },
   "source": [
    "Centramos nuestra atención en clasificar, analizar y determinar niveles de error más que en lo que necesitamos (nosotros y los demás) y no conseguimos. "
   ]
  },
  {
   "cell_type": "markdown",
   "id": "9715eef7",
   "metadata": {
    "slideshow": {
     "slide_type": "slide"
    }
   },
   "source": [
    "En consecuencia, si mi pareja quiere más cariño del que yo le ofrezco, es una persona «dependiente y desvalida». "
   ]
  },
  {
   "cell_type": "markdown",
   "metadata": {},
   "source": [
    "Pero si yo quiero más cariño que el que ella me da, es «distante e insensible». "
   ]
  },
  {
   "cell_type": "markdown",
   "metadata": {},
   "source": [
    "Si mi compañero de trabajo se preocupa más que yo por los detalles, es «quisquilloso y compulsivo». "
   ]
  },
  {
   "cell_type": "markdown",
   "metadata": {},
   "source": [
    "En cambio, si soy yo quien se preocupa más por los detalles, él es «descuidado y desorganizado».\n"
   ]
  },
  {
   "cell_type": "markdown",
   "metadata": {},
   "source": [
    "Creo que este tipo de análisis de otros seres humanos no es más que una trágica expresión de nuestros propios valores y necesidades. "
   ]
  },
  {
   "cell_type": "markdown",
   "metadata": {},
   "source": [
    "Trágica porque, cuando expresamos nuestros valores y necesidades de esta manera, lo único que conseguimos es potenciar una actitud defensiva y de resistencia en las mismas personas cuya conducta nos molesta. "
   ]
  },
  {
   "cell_type": "markdown",
   "metadata": {},
   "source": [
    "Y si aceptan actuar en consonancia con nuestra escala de valores porque coinciden en nuestro análisis de su ineptitud, es probable que sólo lo hagan por miedo, culpa o vergüenza.\n"
   ]
  },
  {
   "cell_type": "markdown",
   "metadata": {},
   "source": [
    "Sin embargo, cuando los demás acceden a actuar de acuerdo con nuestros valores y necesidades, no porque lo deseen de corazón, sino porque tienen miedo o se sienten culpables o avergonzados, el precio que nos toca pagar es realmente muy alto. "
   ]
  },
  {
   "cell_type": "markdown",
   "metadata": {},
   "source": [
    "Tarde o temprano vendrán las consecuencias bajo la forma de una falta de buena voluntad por parte de aquellos que responden a nuestros deseos por coerción externa o interna. "
   ]
  },
  {
   "cell_type": "markdown",
   "metadata": {},
   "source": [
    "Por otro lado, cuando alguien hace algo por miedo, culpa o vergüenza, también paga un precio de tipo emocional, ya que abrigará un resentimiento contra nosotros al quedar rebajada su autoestima. "
   ]
  },
  {
   "cell_type": "markdown",
   "metadata": {},
   "source": [
    "Además, cada\n",
    "vez que otras personas nos asocien con cualquiera de estos sentimientos, disminuirá la probabilidad de que en el futuro respondan de una manera solidaria a nuestras necesidades y nuestros valores."
   ]
  },
  {
   "cell_type": "markdown",
   "id": "96775931",
   "metadata": {
    "slideshow": {
     "slide_type": "slide"
    }
   },
   "source": [
    "## Título de la clase: Eje Problémico 1.  Fundamentos teóricos sobre el desarrollo del pensamiento numérico en el contexto colombiano\n"
   ]
  },
  {
   "cell_type": "markdown",
   "id": "38abaab3",
   "metadata": {},
   "source": [
    "\n",
    "Pregunta(s) orientadora(s):   \n",
    "\n",
    "* ¿Cuáles son los fundamentos del desarrollo de habilidades numéricas en el currículo de las matemáticas escolares en Colombia?\n",
    "\n",
    "* ¿Cómo se caracteriza el pensamiento numérico en la escuela desde las propuestas curriculares del Ministerio de Educación Nacional?\n",
    "\n",
    "No. de sesiones: 2 sesiones\n",
    "\n",
    "    *  Pensamiento numérico desde los documentos rectores emanados por el Ministerio de Educación Nacional (Lineamientos curriculares, estándares básicos de competencias, Derechos básicos de aprendizaje)\n",
    "    *  Reflexiones frente al aprendizaje del pensamiento numérico  \n",
    "    *  La enseñanza del pensamiento numérico en la educación obligatoria. \n",
    "\n"
   ]
  },
  {
   "cell_type": "markdown",
   "id": "1d38dd4e",
   "metadata": {
    "slideshow": {
     "slide_type": "slide"
    }
   },
   "source": [
    "### Objetivo de aprendizaje (Enunciar, de manera corta sencilla y clara para todos los asistentes)\n",
    "\n",
    "Para establecer un objetivo general de aprendizaje para dos sesiones de clase sobre los fundamentos del pensamiento numérico en Colombia, podemos integrar los principios y enfoques presentados en los Lineamientos Curriculares, los Estándares Básicos de Competencias y los Derechos Básicos de Aprendizaje. Aquí tienes un ejemplo de un objetivo general de aprendizaje para estas sesiones:\n"
   ]
  },
  {
   "cell_type": "markdown",
   "id": "be88abb4",
   "metadata": {},
   "source": [
    "\n",
    "**Objetivo General de Aprendizaje:**\n",
    "Los estudiantes serán capaces de desarrollar su pensamiento numérico mediante la comprensión de los conceptos básicos de aritmética y el uso de estrategias de resolución de problemas, demostrando habilidades para manipular números, identificar patrones y aplicar el razonamiento matemático en situaciones contextualizadas.\n",
    "\n",
    "**Sesión 1: Fundamentos del Pensamiento Numérico**\n",
    "- Comprender la importancia del pensamiento numérico en la resolución de problemas cotidianos y en el desarrollo de habilidades matemáticas.\n",
    "- Explorar los conceptos básicos de números enteros, fracciones, decimales y porcentajes.\n",
    "- Practicar la estimación y la aproximación de cantidades.\n",
    "- Identificar y analizar patrones numéricos y secuencias.\n",
    "\n",
    "**Sesión 2: Aplicación del Pensamiento Numérico en Situaciones Problemáticas**\n",
    "- Aplicar estrategias de resolución de problemas para abordar situaciones cotidianas que involucran números y operaciones aritméticas.\n",
    "- Utilizar el pensamiento algebraico para identificar y expresar relaciones numéricas.\n",
    "- Comunicar de manera clara y precisa el proceso de resolución de problemas, justificando los pasos dados y las soluciones obtenidas.\n",
    "- Desarrollar habilidades de razonamiento matemático al analizar y evaluar diferentes enfoques para resolver problemas numéricos.\n",
    "\n",
    "Este objetivo general y las sesiones de clase asociadas están diseñados para promover el desarrollo integral del pensamiento numérico en los estudiantes, integrando los principios y enfoques presentados en los lineamientos curriculares, los estándares básicos de competencias y los derechos básicos de aprendizaje en el contexto colombiano."
   ]
  },
  {
   "cell_type": "markdown",
   "id": "540f0ec1",
   "metadata": {
    "slideshow": {
     "slide_type": "slide"
    }
   },
   "source": [
    "## Cuestionario para realizar labores de memorización, observación y síntesis de la información (Además de diagnóstico)\n",
    "\n",
    "Aquí tienes un cuestionario diseñado para evaluar la memorización, observación y síntesis de la información, así como para realizar un diagnóstico de los conocimientos adquiridos en la clase sobre los fundamentos del pensamiento numérico en Colombia. Las respuestas proporcionadas incluyen una breve justificación para cada una:\n",
    "\n",
    "1. ¿Por qué es importante desarrollar el pensamiento numérico en la resolución de problemas cotidianos?\n",
    "\n",
    "Respuesta: Es importante desarrollar el pensamiento numérico en la resolución de problemas cotidianos porque nos permite comprender y manejar situaciones de la vida real que implican cantidades, medidas y operaciones matemáticas. Esto nos ayuda a tomar decisiones informadas y a resolver problemas de manera eficiente en diversos contextos, desde calcular gastos en un presupuesto hasta estimar tiempos de viaje.\n",
    "\n",
    "Justificación: La respuesta destaca la importancia del pensamiento numérico en la vida cotidiana y cómo nos permite aplicar habilidades matemáticas en situaciones prácticas para tomar decisiones y resolver problemas.\n",
    "\n",
    "2. ¿Cuáles son los conceptos básicos que se exploran en el pensamiento numérico?\n",
    "\n",
    "Respuesta: Los conceptos básicos explorados en el pensamiento numérico incluyen números enteros, fracciones, decimales y porcentajes. Estos conceptos nos permiten representar cantidades de diferentes maneras y realizar operaciones aritméticas fundamentales, como suma, resta, multiplicación y división.\n",
    "\n",
    "Justificación: La respuesta identifica correctamente los conceptos básicos del pensamiento numérico, demostrando comprensión de los elementos fundamentales que forman parte de este campo de estudio.\n",
    "\n",
    "3. ¿Qué estrategias pueden utilizarse para resolver problemas numéricos?\n",
    "\n",
    "Respuesta: Algunas estrategias que pueden utilizarse para resolver problemas numéricos incluyen la estimación y la aproximación de cantidades, la identificación de patrones y secuencias, el uso del pensamiento algebraico para expresar relaciones numéricas y la aplicación de diferentes métodos de resolución de problemas, como el uso de diagramas, modelos y cálculos mentales.\n",
    "\n",
    "Justificación: La respuesta menciona una variedad de estrategias que pueden aplicarse para resolver problemas numéricos, mostrando un entendimiento completo de las herramientas disponibles para abordar diferentes tipos de situaciones matemáticas.\n",
    "\n",
    "4. ¿Por qué es importante comunicar de manera clara y precisa el proceso de resolución de problemas matemáticos?\n",
    "\n",
    "Respuesta: Es importante comunicar de manera clara y precisa el proceso de resolución de problemas matemáticos porque permite a otros comprender nuestra metodología y verificar la validez de nuestros resultados. Además, al explicar nuestras estrategias y razonamientos, fortalecemos nuestra propia comprensión y habilidades matemáticas.\n",
    "\n",
    "Justificación: La respuesta resalta la importancia de la comunicación en el proceso de resolución de problemas matemáticos, tanto para validar nuestras soluciones como para fortalecer nuestro propio entendimiento de los conceptos involucrados.\n",
    "\n",
    "Este cuestionario proporciona una forma efectiva de evaluar la comprensión y el dominio de los conceptos fundamentales del pensamiento numérico, así como la capacidad de aplicar estrategias de resolución de problemas y comunicar los procesos matemáticos de manera clara y precisa. Las respuestas incluidas demuestran una comprensión sólida de los temas discutidos en la clase anterior."
   ]
  },
  {
   "cell_type": "markdown",
   "id": "ca7261b1",
   "metadata": {
    "slideshow": {
     "slide_type": "slide"
    }
   },
   "source": [
    "## Establecimiento de prerrequisitos conceptuales para alcanzar el objetivo de aprendizaje trazado.   \n",
    "\n",
    "(Elabore una lista de preguntas al rededor de los conceptos que consideres necesarios para empezar la clase).  \n"
   ]
  },
  {
   "cell_type": "markdown",
   "id": "28cfc2a0",
   "metadata": {},
   "source": [
    "\n",
    "Antes de abordar la clase sobre los fundamentos del pensamiento numérico en Colombia, es importante que los estudiantes tengan un conjunto de prerrequisitos conceptuales sólidos para comprender y asimilar el material de manera efectiva. Aquí hay una lista de prerrequisitos conceptuales:\n",
    "\n",
    "1. **Conocimiento básico de aritmética**: Los estudiantes deben estar familiarizados con los conceptos básicos de la aritmética, como la suma, la resta, la multiplicación y la división, así como la manipulación de números enteros, fracciones, decimales y porcentajes.\n",
    "\n",
    "2. **Comprensión de las propiedades de los números**: Deben comprender las propiedades de los números, como la asociatividad, la conmutatividad, la distributividad, y cómo estas propiedades se aplican en diferentes operaciones aritméticas.\n",
    "\n",
    "3. **Habilidades de resolución de problemas**: Deben tener habilidades para abordar problemas matemáticos y aplicar estrategias de resolución, como la estimación, la identificación de patrones, el pensamiento algebraico y el uso de modelos o diagramas.\n",
    "\n",
    "4. **Capacidad para comunicar ideas matemáticas**: Deben poder expresar y comunicar sus ideas matemáticas de manera clara y precisa, tanto de forma oral como escrita, utilizando el lenguaje matemático de manera adecuada.\n",
    "\n",
    "5. **Conocimiento de la aplicación de las matemáticas en la vida cotidiana**: Deben comprender cómo se aplican los conceptos matemáticos en situaciones cotidianas, como calcular presupuestos, interpretar gráficos y tablas, y resolver problemas prácticos relacionados con el dinero, el tiempo, las medidas, etc.\n",
    "\n",
    "6. **Conciencia de la importancia del pensamiento crítico y la resolución de problemas**: Deben entender la importancia del pensamiento crítico en la resolución de problemas matemáticos, incluida la capacidad de analizar información, tomar decisiones informadas y justificar los razonamientos.\n",
    "\n",
    "7. **Actitud positiva hacia las matemáticas**: Es fundamental que los estudiantes tengan una actitud positiva hacia las matemáticas y estén dispuestos a participar activamente en el proceso de aprendizaje, mostrando curiosidad, perseverancia y disposición para enfrentar desafíos.\n",
    "\n",
    "Estos prerrequisitos conceptuales proporcionan la base necesaria para que los estudiantes puedan comprender y aprovechar al máximo la clase sobre los fundamentos del pensamiento numérico en Colombia. Es importante que los educadores revisen estos prerrequisitos y proporcionen apoyo adicional a aquellos estudiantes que puedan necesitar refuerzo en alguna de estas áreas antes de la clase."
   ]
  },
  {
   "cell_type": "markdown",
   "id": "2298e976",
   "metadata": {
    "slideshow": {
     "slide_type": "slide"
    }
   },
   "source": [
    "# Para el diseño de la clase tenga en cuenta algunos problemas de aprendizaje"
   ]
  },
  {
   "cell_type": "markdown",
   "id": "523d3acf",
   "metadata": {
    "slideshow": {
     "slide_type": "slide"
    }
   },
   "source": [
    "Aquí tienes una lista de problemas de aprendizaje asociados a la clase anterior sobre los fundamentos del pensamiento numérico en Colombia. Estos problemas están diseñados para ayudar a los estudiantes a aplicar los conceptos y habilidades enseñados en la clase, así como a desarrollar su capacidad para resolver problemas numéricos de manera efectiva:\n",
    "\n",
    "1. Problema de presupuesto: Juan tiene un salario mensual de $1,500,000 COP. Gasta el 30% en alimentos, el 20% en transporte, el 15% en entretenimiento y el resto lo ahorra. ¿Cuánto dinero ahorra Juan cada mes?\n",
    "\n",
    "2. Problema de porcentajes: En un grupo de 120 estudiantes, el 65% son mujeres. ¿Cuántos estudiantes son hombres?\n",
    "\n",
    "3. Problema de proporciones: Un pastel requiere 2 tazas de harina y 1 taza de azúcar. Si quiero hacer la mitad de la receta, ¿cuántas tazas de azúcar necesito?\n",
    "\n",
    "4. Problema de estimación: Si un litro de leche cuesta $2000 COP, ¿cuánto costarán 3.5 litros de leche aproximadamente?\n",
    "\n",
    "5. Problema de secuencias numéricas: Encuentra el próximo número en la secuencia: 2, 5, 10, 17, ...\n",
    "\n",
    "6. Problema de proporciones inversas: Si 4 obreros pueden construir un muro en 6 días, ¿cuántos días tomaría a 6 obreros construir el mismo muro?\n",
    "\n",
    "7. Problema de razonamiento algebraico: Si el doble de un número es 18, ¿cuál es el número?\n",
    "\n",
    "8. Problema de interpretación de gráficos: Juan tiene un gráfico de barras que muestra cuántos libros ha leído cada mes durante el último año. ¿Cuál fue el mes en el que Juan leyó más libros?\n",
    "\n",
    "9. Problema de geometría: Calcula el área de un triángulo con base 8 cm y altura 12 cm.\n",
    "\n",
    "10. Problema de tiempo y velocidad: Si conduzco a una velocidad promedio de 60 km/h, ¿cuánto tiempo tomará llegar a mi destino si la distancia es de 180 km?\n",
    "\n",
    "Estos problemas de aprendizaje cubren una variedad de conceptos y habilidades relacionadas con el pensamiento numérico, desde operaciones básicas hasta razonamiento algebraico y resolución de problemas prácticos. Al enfrentarse a estos problemas, los estudiantes tienen la oportunidad de aplicar lo que han aprendido en clase y desarrollar su capacidad para pensar de manera crítica y resolver problemas matemáticos en diversos contextos."
   ]
  },
  {
   "cell_type": "markdown",
   "id": "a40a4704",
   "metadata": {
    "slideshow": {
     "slide_type": "slide"
    }
   },
   "source": [
    "## Secuencia conceptual introductoria a la clase"
   ]
  },
  {
   "cell_type": "code",
   "execution_count": null,
   "id": "0eb7e338",
   "metadata": {},
   "outputs": [],
   "source": [
    "# mapa conceptual sobre los lineamientos curriculares\n",
    "from graphviz import Digraph\n",
    "\n",
    "# Crear un nuevo grafo dirigido\n",
    "dot = Digraph()\n",
    "\n",
    "# Añadir nodos y relaciones al grafo\n",
    "dot.node('A', 'date time data types')\n",
    "dot.node('B', '')\n",
    "dot.node('C', '')\n",
    "dot.node('D', 'Metodología STEAM')\n",
    "dot.node('E', 'Algoritmos')\n",
    "dot.node('F', 'Diagramas de Flujo')\n",
    "dot.node('G', 'Micro:Bit')\n",
    "dot.node('H', 'MakeCode')\n",
    "dot.node('I', 'Flowgorithm')\n",
    "dot.node('J', 'Conceptos Matemáticos')\n",
    "\n",
    "dot.edges(['AB'])\n",
    "dot.edges(['BC'])\n",
    "dot.edges(['CD'])\n",
    "dot.edges(['DJ'])\n",
    "dot.edges(['EF'])\n",
    "dot.edges(['FG', 'FH'])\n",
    "dot.edges(['GH'])\n",
    "dot.edges(['HI'])\n",
    "dot.edges(['IJ'])\n",
    "\n",
    "# Guardar el grafo como un archivo de imagen\n",
    "dot.render('mapa_conceptual', format='png', cleanup=True)"
   ]
  },
  {
   "cell_type": "markdown",
   "id": "51db4a8a",
   "metadata": {},
   "source": [
    "\n",
    "Para la consolidación de los programas de curso, es indispensable considerar los perfiles de egreso de la Licenciatura en Matemáticas y los resultados de aprendizaje que se han construido hasta el momento. "
   ]
  },
  {
   "cell_type": "markdown",
   "id": "b335417f",
   "metadata": {},
   "source": [
    "# Perfil de egreso (PEP): del Licenciado en matemáticas\n",
    "\n",
    "* Sólida formación académica resultado de la imbricación entre los saberes disciplinares, didácticos y pedagógicos.\n",
    "* Apropiación de epistemologías, teorías y metodologías de investigación en Educación Matemática, que le posibiliten desempeñarse de manera asertiva, prospectiva y crítica en los procesos de enseñanza de las matemáticas en los diversos contextos educativos (escolares y no escolares).\n",
    "* Reconocimiento de sí mismo como un ser ético, estético y político para contribuir a las transformaciones sociales.\n",
    "* Reconocimiento del papel de la Educación Matemática en la formación de seres humanos críticos y reflexivos.\n",
    "* Convicción de que su formación como profesor es un proceso continuo. Proceso que se fortalece a través de la reflexión antes, durante y después de su práctica pedagógica; proceso que se fortalece también desde su aproximación constante a fuentes epistemológicas, teóricas y metodológicas, y desde el trabajo colaborativo con pares académicos.\n",
    "* Compromiso con los procesos de reflexión y de investigación sobre la enseñanza y el aprendizaje de las matemáticas, en diversos contextos escolares y no escolares.\n",
    "* Profesional de la educación matemática que se desempeñe como consultor y asesor capaz de diseñar, gestionar y evaluar propuestas, programas, planes y proyectos educativos, pedagógicos, didácticos y curriculares, disciplinares e interdisciplinares en diversos contextos escolares y no escolares.\n",
    "* Profesional de la educación matemática capaz de participar en redes y comunidades académicas e investigativas (nacionales o internacionales) de producción científica abierta.\n"
   ]
  },
  {
   "cell_type": "markdown",
   "id": "82e1b347",
   "metadata": {},
   "source": [
    "\n",
    "\n",
    "## Resultados de aprendizaje:\n",
    "\n",
    "* Comprender los fundamentos teóricos y metodológicos de las matemáticas, su historia y su didáctica, para diseñar propuestas educativas que promuevan el pensamiento matemático de los estudiantes en la educación básica, media y terciaria.  \n"
   ]
  },
  {
   "cell_type": "markdown",
   "id": "6220f4fb",
   "metadata": {},
   "source": [
    "* Interpretar los diferentes marcos epistemológicos, metodológicos, políticos, éticos y estéticos relativos a la educación matemática como campo de saberes y prácticas, a partir de los cuales desarrolla una discusión situada sobre problemas de la profesión y la toma de decisiones en su práctica profesional.\n",
    "* Conocer los problemas y paradigmas de investigación en educación matemática, para informar sus actuaciones en el ejercicio profesional.\n",
    "* Analizar críticamente elementos curriculares, sociales y políticos que configuran las prácticas en educación matemática en Colombia para la toma de decisiones en su práctica profesional. \n"
   ]
  },
  {
   "cell_type": "markdown",
   "id": "5c1c7774",
   "metadata": {},
   "source": [
    "* Investigar sobre las problemáticas de la enseñanza o el aprendizaje de las matemáticas en contextos específicos de práctica, y proponer soluciones innovadoras para promover el desarrollo del pensamiento matemático de los estudiantes.\n"
   ]
  },
  {
   "cell_type": "markdown",
   "id": "9189ddd4",
   "metadata": {},
   "source": [
    "* Utilizar en su práctica profesional los conocimientos teóricos y metodológicos relacionados con las matemáticas, su historia, filosofía y epistemología de la educación.\n"
   ]
  },
  {
   "cell_type": "markdown",
   "id": "6bb06621",
   "metadata": {},
   "source": [
    "* Se posiciona críticamente frente a la política educativa nacional en educación matemática para analizar los problemas profesionales de las instituciones educativas y los sujetos.\n"
   ]
  },
  {
   "cell_type": "markdown",
   "id": "c77b3ed8",
   "metadata": {},
   "source": [
    "* Identificar en la pluralidad de saberes la diversidad de los estudiantes para diseñar propuestas educativas inclusivas.\n",
    "\n",
    "\n"
   ]
  },
  {
   "cell_type": "markdown",
   "id": "aa517ef5",
   "metadata": {},
   "source": [
    "# Lineamientos curriculares de Colombia y desarrollo del pensamiento numérico en el contexto colombiano\n",
    "\n",
    "[Video de apoyo a la lectura de los lineamientos curriculares](https://www.youtube.com/watch?v=Oriah9JwRfM)\n"
   ]
  },
  {
   "cell_type": "code",
   "execution_count": 5,
   "id": "88d7af99",
   "metadata": {},
   "outputs": [
    {
     "data": {
      "text/plain": [
       "'lineamientos_curriculares.pdf'"
      ]
     },
     "execution_count": 5,
     "metadata": {},
     "output_type": "execute_result"
    },
    {
     "name": "stderr",
     "output_type": "stream",
     "text": [
      "/snap/core20/current/lib/x86_64-linux-gnu/libstdc++.so.6: version `GLIBCXX_3.4.29' not found (required by /lib/x86_64-linux-gnu/libproxy.so.1)\n",
      "Failed to load module: /home/marco/snap/code/common/.cache/gio-modules/libgiolibproxy.so\n",
      "\n",
      "(process:28560): Gtk-WARNING **: 15:00:21.412: Locale not supported by C library.\n",
      "\tUsing the fallback 'C' locale.\n",
      "/home/marco/snap/code/common/.cache/gio-modules/libgiolibproxy.so: cannot open shared object file: Permission denied\n",
      "Failed to load module: /home/marco/snap/code/common/.cache/gio-modules/libgiolibproxy.so\n",
      "\n",
      "(evince:28560): Gtk-WARNING **: 15:00:21.448: Theme parsing error: gtk-keys.css:1:0: Failed to import: Error opening file /snap/code/152/usr/share/themes/Default/gtk-3.0/gtk-keys.css: Permission denied\n",
      "Gtk-Message: 15:00:21.449: Failed to load module \"canberra-gtk-module\"\n",
      "Gtk-Message: 15:00:21.454: Failed to load module \"canberra-gtk-module\"\n"
     ]
    },
    {
     "name": "stderr",
     "output_type": "stream",
     "text": [
      "/home/marco/snap/code/common/.cache/gio-modules/libdconfsettings.so: cannot open shared object file: Permission denied\n",
      "Failed to load module: /home/marco/snap/code/common/.cache/gio-modules/libdconfsettings.so\n",
      "\n",
      "(evince:28560): Gtk-WARNING **: 15:00:21.619: Could not load a pixbuf from icon theme.\n",
      "This may indicate that pixbuf loaders or the mime database could not be found.\n"
     ]
    }
   ],
   "source": [
    "#mapa conceptual de los lineamientos curriculares\n",
    "\n",
    "from graphviz import Digraph\n",
    "\n",
    "# Crear un nuevo grafo dirigido\n",
    "dot = Digraph()\n",
    "\n",
    "# Definir los nodos y relaciones\n",
    "dot.node('A', 'Lineamientos\\nCurriculares')\n",
    "dot.node('B', 'Objetivos')\n",
    "dot.node('C', 'Contenidos')\n",
    "dot.node('D', 'Orientaciones\\nPedagógicas')\n",
    "\n",
    "dot.edges(['AB', 'AC', 'AD'])\n",
    "\n",
    "# Definir atributos del grafo\n",
    "dot.attr(rankdir='LR')  # Orientación de izquierda a derecha\n",
    "\n",
    "# Guardar y visualizar el grafo\n",
    "dot.render('lineamientos_curriculares', format='png', cleanup=True)\n",
    "dot.view()\n"
   ]
  },
  {
   "cell_type": "markdown",
   "id": "299b526b",
   "metadata": {},
   "source": [
    "\n",
    "Los lineamientos curriculares de matemáticas pueden variar según el país o la región. Sin embargo, en el contexto de Colombia, los lineamientos curriculares de matemáticas fueron publicados en el año 1998 por el Ministerio de Educación Nacional. Estos lineamientos establecen los objetivos, contenidos y orientaciones pedagógicas para la enseñanza de las matemáticas en los diferentes niveles educativos del país. Es importante verificar la información específica según el país o la jurisdicción de interés."
   ]
  },
  {
   "cell_type": "markdown",
   "id": "6933dd1b",
   "metadata": {},
   "source": [
    "\n",
    "Los Lineamientos Curriculares del Ministerio de Educación Nacional de Colombia proporcionan una base teórica sólida para el desarrollo del pensamiento numérico en el contexto colombiano. Aquí están algunos de los fundamentos teóricos clave:\n"
   ]
  },
  {
   "cell_type": "markdown",
   "id": "8ee76ef0",
   "metadata": {},
   "source": [
    "\n",
    "1. **Constructivismo**: Los lineamientos curriculares están fundamentados en el enfoque constructivista, que sostiene que el aprendizaje es un proceso activo en el cual los estudiantes construyen su propio conocimiento a través de la interacción con su entorno y la manipulación de objetos concretos. En el contexto del pensamiento numérico, esto implica que los estudiantes deben participar en actividades que les permitan explorar, experimentar y reflexionar sobre conceptos numéricos.\n",
    "\n",
    "2. **Resolución de Problemas**: Se enfatiza la importancia de enseñar matemáticas a través de la resolución de problemas. Esto implica presentar a los estudiantes situaciones contextualizadas que requieran el uso de habilidades numéricas para encontrar soluciones. La resolución de problemas promueve el desarrollo del pensamiento crítico y la capacidad de aplicar conceptos matemáticos en diversas situaciones.\n",
    "\n",
    "3. **Sentido Numérico**: Los lineamientos curriculares reconocen la importancia de desarrollar el sentido numérico en los estudiantes. Esto incluye la comprensión del valor relativo de los números, la capacidad de estimar y aproximar cantidades, y la comprensión de las relaciones entre las operaciones numéricas. El sentido numérico es fundamental para la fluidez matemática y la resolución de problemas.\n",
    "\n",
    "4. **Conexiones Matemáticas**: Se promueve la integración de diferentes áreas de las matemáticas, como la aritmética, la geometría y la estadística, para desarrollar una comprensión más profunda de los conceptos numéricos. Los estudiantes deben ser capaces de hacer conexiones entre diferentes conceptos matemáticos y aplicarlos de manera integrada en diversas situaciones.\n",
    "\n",
    "5. **Manipulativos y Representaciones**: Se reconoce la importancia de utilizar manipulativos y representaciones visuales para apoyar el aprendizaje del pensamiento numérico. Esto incluye el uso de materiales concretos, como bloques de base diez, fichas y gráficos, así como representaciones visuales, como diagramas y modelos geométricos. Estos recursos ayudan a los estudiantes a visualizar y comprender conceptos abstractos de manera más concreta.\n",
    "\n",
    "En resumen, los lineamientos curriculares del Ministerio de Educación Nacional de Colombia enfatizan la importancia de desarrollar el pensamiento numérico a través de enfoques constructivistas, centrados en la resolución de problemas, el sentido numérico, las conexiones matemáticas y el uso de manipulativos y representaciones visuales. Estos fundamentos teóricos proporcionan una base sólida para el diseño e implementación de estrategias efectivas de enseñanza de las matemáticas en el contexto colombiano."
   ]
  },
  {
   "cell_type": "markdown",
   "id": "d5dbe0e1",
   "metadata": {},
   "source": [
    "## Actividades de grupo de acuerdo a estos fundamentos teóricos dados por los lineamientos curriculares  \n"
   ]
  },
  {
   "cell_type": "markdown",
   "id": "eedac0a5",
   "metadata": {},
   "source": [
    "\n",
    "Por supuesto, aquí tienes una actividad matemática apropiada para un grupo de 18 estudiantes de licenciatura en matemáticas que se alinea con cada uno de los fundamentos teóricos mencionados:\n"
   ]
  },
  {
   "cell_type": "markdown",
   "id": "361d9db8",
   "metadata": {},
   "source": [
    "\n",
    "1. **Constructivismo**: Actividad de Construcción de Fracciones\n",
    "   - Los estudiantes trabajan en parejas o grupos pequeños para crear fracciones utilizando materiales manipulativos, como fichas o bloques de base diez.\n",
    "   - Se les pide que representen diferentes fracciones y que las comparen entre sí, discutiendo las relaciones numéricas y visuales que observan.\n",
    "   - Los estudiantes reflexionan sobre sus descubrimientos y discuten cómo la manipulación de objetos concretos les ayudó a comprender mejor el concepto de fracción.\n",
    "\n",
    "2. **Resolución de Problemas**: Problemas Contextualizados de Proporciones\n",
    "   - Se presentan a los estudiantes una serie de problemas que involucran situaciones cotidianas donde se requiere el uso de proporciones, como la regla de tres simple.\n",
    "   - Los estudiantes trabajan en equipos para analizar los problemas, identificar la información relevante y seleccionar la estrategia adecuada para resolverlos.\n",
    "   - Después de resolver los problemas, los equipos comparten sus soluciones y discuten las diferentes estrategias utilizadas, destacando la importancia de la resolución de problemas en la comprensión de conceptos matemáticos.\n",
    "\n",
    "3. **Sentido Numérico**: Juego de Aproximación de Números\n",
    "   - Selecciona una serie de números (por ejemplo, 3.14, 0.5, 100, etc.).\n",
    "   - Los estudiantes trabajan en parejas y se turnan para seleccionar un número y aproximarlo utilizando diferentes estrategias, como redondeo, estimación por defecto o por exceso, etc.\n",
    "   - El objetivo es que los estudiantes desarrollen su capacidad de aproximación y comprendan la relación entre los números y sus magnitudes relativas.\n",
    "\n",
    "4. **Conexiones Matemáticas**: Proyecto de Modelado Matemático\n",
    "   - Los estudiantes trabajan en grupos para seleccionar un problema del mundo real que pueda ser modelado matemáticamente, como el crecimiento de una población o el comportamiento financiero.\n",
    "   - Utilizando conceptos de aritmética, geometría, estadística u otras áreas matemáticas, los estudiantes crean un modelo matemático para abordar el problema seleccionado.\n",
    "   - Al final del proyecto, los grupos presentan sus modelos y discuten cómo diferentes áreas de las matemáticas se relacionan entre sí para resolver problemas del mundo real.\n",
    "\n",
    "5. **Manipulativos y Representaciones**: Construcción de Poliedros con Material Reciclado\n",
    "   - Los estudiantes trabajan en grupos para construir diferentes poliedros utilizando material reciclado, como papel, cartón o palitos de helado.\n",
    "   - Después de construir los poliedros, los estudiantes identifican y etiquetan las caras, vértices y aristas de cada poliedro.\n",
    "   - Luego, los estudiantes representan los poliedros en papel utilizando dibujos o diagramas, resaltando las características geométricas de cada figura.\n",
    "\n",
    "Estas actividades están diseñadas para involucrar a los estudiantes en experiencias de aprendizaje activo que fomentan el pensamiento crítico, la resolución de problemas y la comprensión profunda de los conceptos matemáticos, al tiempo que aprovechan los fundamentos teóricos del constructivismo, la resolución de problemas, el sentido numérico, las conexiones matemáticas y el uso de manipulativos y representaciones visuales."
   ]
  },
  {
   "cell_type": "markdown",
   "id": "3816121a",
   "metadata": {},
   "source": [
    "# Estándares curriculares de Colombia y desarrollo del pensamiento numérico en el contexto colombiano  \n",
    "\n",
    "Estos están en la página 46 del pdf sobre estándares curriculares en Colombia (2006)\n",
    "\n",
    "[Video de apoyo a la lectura de los estándares curriculares de Colombia](https://www.youtube.com/watch?v=MgekRNk7zR8)\n"
   ]
  },
  {
   "cell_type": "markdown",
   "id": "e391bad4",
   "metadata": {},
   "source": [
    "\n",
    "Los Estándares Curriculares del Ministerio de Educación Nacional de Colombia proporcionan una base teórica para el desarrollo del pensamiento numérico en el contexto colombiano. Aquí están algunos de los fundamentos teóricos clave junto con actividades apropiadas para cada uno:\n"
   ]
  },
  {
   "cell_type": "markdown",
   "id": "a394dd41",
   "metadata": {},
   "source": [
    "\n",
    "1. **Desarrollo del Sentido Numérico**: El sentido numérico se refiere a la comprensión del valor relativo de los números y la capacidad de trabajar con ellos de manera flexible y efectiva.\n",
    "\n",
    "   Actividad: Juego de \"Ordenar y Comparar\"\n",
    "   - Proporciona a los estudiantes una serie de tarjetas con números escritos en diferentes formas, como decimales, fracciones y porcentajes.\n",
    "   - Pídeles que ordenen los números de menor a mayor y de mayor a menor, utilizando su comprensión del valor relativo de los números.\n",
    "   - Luego, pídeles que comparen los números y expliquen sus decisiones.\n"
   ]
  },
  {
   "cell_type": "markdown",
   "id": "9b48d5d9",
   "metadata": {},
   "source": [
    "\n",
    "2. **Desarrollo del Pensamiento Algebraico**: El pensamiento algebraico implica comprender y manipular patrones, relaciones y estructuras algebraicas.\n",
    "\n",
    "   Actividad: Patrones Numéricos\n",
    "   - Presenta a los estudiantes una serie de secuencias numéricas incompletas.\n",
    "   - Pídeles que identifiquen el patrón o regla que gobierna la secuencia y completen los números faltantes.\n",
    "   - Luego, pídeles que expresen el patrón o regla algebraicamente y expliquen cómo lo determinaron.\n"
   ]
  },
  {
   "cell_type": "markdown",
   "id": "f34446a3",
   "metadata": {},
   "source": [
    "\n",
    "3. **Resolución de Problemas**: La resolución de problemas implica la aplicación de habilidades numéricas y conceptuales para abordar situaciones contextualizadas y encontrar soluciones.\n",
    "\n",
    "   Actividad: Problemas de \"Palabras Clave\"\n",
    "   - Presenta a los estudiantes una serie de problemas de palabras relacionados con situaciones de la vida real.\n",
    "   - Pídeles que identifiquen las palabras clave en cada problema que indiquen qué operación matemática se necesita.\n",
    "   - Luego, pídeles que resuelvan los problemas y expliquen su proceso de pensamiento.\n"
   ]
  },
  {
   "cell_type": "markdown",
   "id": "28811d03",
   "metadata": {},
   "source": [
    "\n",
    "4. **Comunicación Matemática**: La comunicación matemática implica la capacidad de expresar ideas, razonamientos y soluciones de manera clara y precisa.\n",
    "\n",
    "   Actividad: Presentación de \"Círculos de Estudio\"\n",
    "   - Organiza a los estudiantes en grupos pequeños para discutir un problema matemático complejo.\n",
    "   - Pídeles que trabajen juntos para resolver el problema y luego presenten sus soluciones al resto de la clase.\n",
    "   - Fomenta la discusión y el intercambio de ideas entre los grupos, y pídeles que justifiquen sus respuestas y procesos de pensamiento.\n",
    "\n",
    "5. **Razonamiento y Demostración Matemática**: El razonamiento y la demostración matemática implican justificar y validar afirmaciones matemáticas utilizando argumentos lógicos y pruebas.\n",
    "\n",
    "   Actividad: \"Debate Matemático\"\n",
    "   - Presenta a los estudiantes una afirmación matemática controvertida o un problema desafiante.\n",
    "   - Divide a la clase en dos equipos: uno a favor y otro en contra de la afirmación o solución propuesta.\n",
    "   - Pídeles que utilicen el razonamiento lógico y las pruebas matemáticas para respaldar sus argumentos durante el debate.\n",
    "\n",
    "Estas actividades están diseñadas para promover el desarrollo del pensamiento numérico en los estudiantes alineados con los estándares curriculares del Ministerio de Educación Nacional de Colombia. Cada actividad aborda un aspecto específico del desarrollo matemático y proporciona oportunidades para que los estudiantes practiquen habilidades importantes mientras participan en experiencias de aprendizaje activas y significativas.\n"
   ]
  },
  {
   "cell_type": "markdown",
   "id": "b0b952aa",
   "metadata": {},
   "source": [
    "# Derechos Básicos de Colombia y desarrollo del pensamiento numérico en el contexto colombiano\n",
    "\n",
    "Los Derechos Básicos de Aprendizaje (DBA) del Ministerio de Educación de Colombia establecen los fundamentos teóricos y pedagógicos para la enseñanza y el aprendizaje en diferentes áreas, incluyendo las matemáticas y el desarrollo del pensamiento numérico. Aquí están algunos de los fundamentos teóricos presentados en los DBA relacionados con el pensamiento numérico, junto con actividades apropiadas para cada uno:\n",
    "\n",
    "1. **Sentido Numérico**: El sentido numérico se refiere a la comprensión del valor relativo de los números y la capacidad de utilizarlos en diferentes contextos.\n",
    "\n",
    "   Actividad: \"Estimación de Cantidades\"\n",
    "   - Presenta a los estudiantes una serie de objetos, como monedas, bolígrafos o libros, en un recipiente grande.\n",
    "   - Pídeles que estimen la cantidad total de objetos sin contarlos individualmente.\n",
    "   - Después, pídeles que verifiquen su estimación contando los objetos y comparen sus estimaciones con los resultados reales.\n",
    "\n",
    "2. **Resolución de Problemas**: La resolución de problemas implica la capacidad de aplicar habilidades numéricas para resolver situaciones problemáticas del mundo real.\n",
    "\n",
    "   Actividad: \"Problemas de Compras\"\n",
    "   - Presenta a los estudiantes una serie de situaciones de compra, como ir al supermercado o comprar boletos para un evento.\n",
    "   - Pídeles que calculen el costo total de los artículos comprados, teniendo en cuenta los precios y las cantidades.\n",
    "   - Después, pídeles que reflexionen sobre cómo aplicaron conceptos numéricos para resolver los problemas y cómo podrían abordar situaciones similares en el futuro.\n",
    "\n",
    "3. **Desarrollo del Pensamiento Algebraico**: El pensamiento algebraico implica comprender y manipular patrones, relaciones y estructuras algebraicas.\n",
    "\n",
    "   Actividad: \"Patrones y Secuencias\"\n",
    "   - Presenta a los estudiantes una serie de secuencias numéricas o patrones visuales incompletos.\n",
    "   - Pídeles que identifiquen la regla o el patrón que gobierna la secuencia y completen los elementos faltantes.\n",
    "   - Luego, pídeles que expresen la regla o el patrón algebraicamente y expliquen su proceso de pensamiento.\n",
    "\n",
    "4. **Comunicación Matemática**: La comunicación matemática implica la capacidad de expresar ideas y razonamientos matemáticos de manera clara y precisa.\n",
    "\n",
    "   Actividad: \"Presentación de Problemas\"\n",
    "   - Divide a los estudiantes en grupos y asigna a cada grupo un problema matemático para resolver.\n",
    "   - Pídeles que trabajen juntos para resolver el problema y luego preparen una presentación para compartir su solución con la clase.\n",
    "   - Fomenta la discusión y el intercambio de ideas entre los grupos, y pídeles que justifiquen sus respuestas y procesos de pensamiento durante la presentación.\n",
    "\n",
    "5. **Razonamiento y Demostración Matemática**: El razonamiento y la demostración matemática implican justificar y validar afirmaciones matemáticas utilizando argumentos lógicos y pruebas.\n",
    "\n",
    "   Actividad: \"Demostración de Propiedades Numéricas\"\n",
    "   - Presenta a los estudiantes una afirmación matemática, como una propiedad de los números enteros o una fórmula matemática.\n",
    "   - Pídeles que demuestren la veracidad de la afirmación utilizando argumentos lógicos y ejemplos numéricos.\n",
    "   - Fomenta la discusión y la colaboración entre los estudiantes para desarrollar y presentar las demostraciones.\n",
    "\n",
    "Estas actividades están diseñadas para promover el desarrollo del pensamiento numérico en los estudiantes alineados con los Derechos Básicos de Aprendizaje del Ministerio de Educación de Colombia. Cada actividad aborda un aspecto específico del desarrollo matemático y proporciona oportunidades para que los estudiantes practiquen habilidades importantes mientras participan en experiencias de aprendizaje activas y significativas."
   ]
  },
  {
   "cell_type": "code",
   "execution_count": null,
   "id": "4e201a7d",
   "metadata": {},
   "outputs": [],
   "source": []
  },
  {
   "cell_type": "markdown",
   "id": "abcf2c3c",
   "metadata": {},
   "source": [
    "# Apéndice de la clase\n",
    "\n",
    "## La visión prospectiva\n",
    "\n",
    "La visión prospectiva es una técnica o enfoque que se utiliza para analizar el futuro y anticipar posibles escenarios, tendencias o cambios que podrían ocurrir en un determinado campo, industria o sociedad. Se basa en la exploración sistemática de diversas variables, como tecnológicas, sociales, económicas, políticas y ambientales, con el objetivo de identificar oportunidades, riesgos y desafíos futuros.\n",
    "\n",
    "En otras palabras, la visión prospectiva implica proyectarse hacia adelante en el tiempo y considerar diferentes posibilidades para comprender mejor cómo podría evolucionar un determinado contexto o situación en el futuro. Esto puede implicar el uso de herramientas como análisis de escenarios, modelado prospectivo, estudios de tendencias y consultas a expertos en el campo relevante.\n",
    "\n",
    "La visión prospectiva es especialmente útil para organizaciones, gobiernos y personas que desean prepararse para los cambios futuros, tomar decisiones estratégicas informadas y anticiparse a los desafíos emergentes. Permite una planificación más efectiva y una adaptación más ágil a un entorno en constante cambio."
   ]
  },
  {
   "cell_type": "markdown",
   "id": "2f0141c3",
   "metadata": {},
   "source": [
    "## Tareas para realizar antes de la clase  \n",
    "\n",
    "1. Ver los videos respectivos []()\n",
    "   * [Lineamientos curriculares]()\n",
    "   * [Estándares curriculares]()\n",
    "   * [DBA]()\n",
    "2. Memorizar las definiciones []()\n",
    "3. Sintetizar o resumir la información en mapas conceptuales. []()\n",
    "4. Tareas para incentivar el uso de la calculadora Casio Para ingenieros y licenciados. \n",
    "5. Reproducir un ejercicio ejemplo, de los lineamientos curriculares, por cada uno de los cinco pensamientos. "
   ]
  },
  {
   "cell_type": "code",
   "execution_count": null,
   "metadata": {},
   "outputs": [],
   "source": []
  },
  {
   "cell_type": "code",
   "execution_count": null,
   "id": "4202d12e",
   "metadata": {},
   "outputs": [],
   "source": []
  },
  {
   "cell_type": "code",
   "execution_count": null,
   "id": "85fd62ad",
   "metadata": {},
   "outputs": [],
   "source": []
  },
  {
   "cell_type": "code",
   "execution_count": null,
   "id": "6425d2f9",
   "metadata": {},
   "outputs": [],
   "source": []
  },
  {
   "cell_type": "markdown",
   "id": "3ce0557f",
   "metadata": {},
   "source": [
    " [Secuencia metodológica que seguiremos en cada modelación fundamentada en Borromeo citado por Carlos Ledezma](https://www.researchgate.net/profile/Carlos-Ledezma-4/publication/376076920_Modelizacion_matematica_desde_una_articulacion_teorica_entre_los_enfoques_cognitivo_y_onto-semiotico/links/6568cb363fa26f66f43b292a/Modelizacion-matematica-desde-una-articulacion-teorica-entre-los-enfoques-cognitivo-y-onto-semiotico.pdf)\n",
    "\n",
    "1. Entender la tarea\n",
    "2. Simplificar y estructurar la tarea\n",
    "3. Matemátizar\n",
    "4. Trabajar matemáticamente utilizando las competencias matemáticas del estudiante.\n",
    "5. Interpretar y \n",
    "6. validar"
   ]
  },
  {
   "cell_type": "markdown",
   "id": "7dbbd46e",
   "metadata": {},
   "source": []
  },
  {
   "cell_type": "markdown",
   "id": "1ccfb67e",
   "metadata": {
    "slideshow": {
     "slide_type": "slide"
    }
   },
   "source": [
    "# Visualizaciones tabulares y gráficas"
   ]
  },
  {
   "cell_type": "markdown",
   "id": "0631fb05",
   "metadata": {
    "slideshow": {
     "slide_type": "slide"
    }
   },
   "source": [
    "## Visualización gráfica con plotly"
   ]
  },
  {
   "cell_type": "code",
   "execution_count": 4,
   "id": "6009af5a",
   "metadata": {
    "slideshow": {
     "slide_type": "slide"
    }
   },
   "outputs": [
    {
     "data": {
      "application/vnd.plotly.v1+json": {
       "config": {
        "plotlyServerURL": "https://plot.ly"
       },
       "data": [
        {
         "hovertemplate": "x=%{x}<br>y=%{y}<extra></extra>",
         "legendgroup": "",
         "marker": {
          "color": "#636efa",
          "symbol": "circle"
         },
         "mode": "markers",
         "name": "",
         "orientation": "v",
         "showlegend": false,
         "type": "scatter",
         "x": [],
         "xaxis": "x",
         "y": [],
         "yaxis": "y"
        }
       ],
       "layout": {
        "legend": {
         "tracegroupgap": 0
        },
        "template": {
         "data": {
          "bar": [
           {
            "error_x": {
             "color": "#2a3f5f"
            },
            "error_y": {
             "color": "#2a3f5f"
            },
            "marker": {
             "line": {
              "color": "#E5ECF6",
              "width": 0.5
             },
             "pattern": {
              "fillmode": "overlay",
              "size": 10,
              "solidity": 0.2
             }
            },
            "type": "bar"
           }
          ],
          "barpolar": [
           {
            "marker": {
             "line": {
              "color": "#E5ECF6",
              "width": 0.5
             },
             "pattern": {
              "fillmode": "overlay",
              "size": 10,
              "solidity": 0.2
             }
            },
            "type": "barpolar"
           }
          ],
          "carpet": [
           {
            "aaxis": {
             "endlinecolor": "#2a3f5f",
             "gridcolor": "white",
             "linecolor": "white",
             "minorgridcolor": "white",
             "startlinecolor": "#2a3f5f"
            },
            "baxis": {
             "endlinecolor": "#2a3f5f",
             "gridcolor": "white",
             "linecolor": "white",
             "minorgridcolor": "white",
             "startlinecolor": "#2a3f5f"
            },
            "type": "carpet"
           }
          ],
          "choropleth": [
           {
            "colorbar": {
             "outlinewidth": 0,
             "ticks": ""
            },
            "type": "choropleth"
           }
          ],
          "contour": [
           {
            "colorbar": {
             "outlinewidth": 0,
             "ticks": ""
            },
            "colorscale": [
             [
              0,
              "#0d0887"
             ],
             [
              0.1111111111111111,
              "#46039f"
             ],
             [
              0.2222222222222222,
              "#7201a8"
             ],
             [
              0.3333333333333333,
              "#9c179e"
             ],
             [
              0.4444444444444444,
              "#bd3786"
             ],
             [
              0.5555555555555556,
              "#d8576b"
             ],
             [
              0.6666666666666666,
              "#ed7953"
             ],
             [
              0.7777777777777778,
              "#fb9f3a"
             ],
             [
              0.8888888888888888,
              "#fdca26"
             ],
             [
              1,
              "#f0f921"
             ]
            ],
            "type": "contour"
           }
          ],
          "contourcarpet": [
           {
            "colorbar": {
             "outlinewidth": 0,
             "ticks": ""
            },
            "type": "contourcarpet"
           }
          ],
          "heatmap": [
           {
            "colorbar": {
             "outlinewidth": 0,
             "ticks": ""
            },
            "colorscale": [
             [
              0,
              "#0d0887"
             ],
             [
              0.1111111111111111,
              "#46039f"
             ],
             [
              0.2222222222222222,
              "#7201a8"
             ],
             [
              0.3333333333333333,
              "#9c179e"
             ],
             [
              0.4444444444444444,
              "#bd3786"
             ],
             [
              0.5555555555555556,
              "#d8576b"
             ],
             [
              0.6666666666666666,
              "#ed7953"
             ],
             [
              0.7777777777777778,
              "#fb9f3a"
             ],
             [
              0.8888888888888888,
              "#fdca26"
             ],
             [
              1,
              "#f0f921"
             ]
            ],
            "type": "heatmap"
           }
          ],
          "heatmapgl": [
           {
            "colorbar": {
             "outlinewidth": 0,
             "ticks": ""
            },
            "colorscale": [
             [
              0,
              "#0d0887"
             ],
             [
              0.1111111111111111,
              "#46039f"
             ],
             [
              0.2222222222222222,
              "#7201a8"
             ],
             [
              0.3333333333333333,
              "#9c179e"
             ],
             [
              0.4444444444444444,
              "#bd3786"
             ],
             [
              0.5555555555555556,
              "#d8576b"
             ],
             [
              0.6666666666666666,
              "#ed7953"
             ],
             [
              0.7777777777777778,
              "#fb9f3a"
             ],
             [
              0.8888888888888888,
              "#fdca26"
             ],
             [
              1,
              "#f0f921"
             ]
            ],
            "type": "heatmapgl"
           }
          ],
          "histogram": [
           {
            "marker": {
             "pattern": {
              "fillmode": "overlay",
              "size": 10,
              "solidity": 0.2
             }
            },
            "type": "histogram"
           }
          ],
          "histogram2d": [
           {
            "colorbar": {
             "outlinewidth": 0,
             "ticks": ""
            },
            "colorscale": [
             [
              0,
              "#0d0887"
             ],
             [
              0.1111111111111111,
              "#46039f"
             ],
             [
              0.2222222222222222,
              "#7201a8"
             ],
             [
              0.3333333333333333,
              "#9c179e"
             ],
             [
              0.4444444444444444,
              "#bd3786"
             ],
             [
              0.5555555555555556,
              "#d8576b"
             ],
             [
              0.6666666666666666,
              "#ed7953"
             ],
             [
              0.7777777777777778,
              "#fb9f3a"
             ],
             [
              0.8888888888888888,
              "#fdca26"
             ],
             [
              1,
              "#f0f921"
             ]
            ],
            "type": "histogram2d"
           }
          ],
          "histogram2dcontour": [
           {
            "colorbar": {
             "outlinewidth": 0,
             "ticks": ""
            },
            "colorscale": [
             [
              0,
              "#0d0887"
             ],
             [
              0.1111111111111111,
              "#46039f"
             ],
             [
              0.2222222222222222,
              "#7201a8"
             ],
             [
              0.3333333333333333,
              "#9c179e"
             ],
             [
              0.4444444444444444,
              "#bd3786"
             ],
             [
              0.5555555555555556,
              "#d8576b"
             ],
             [
              0.6666666666666666,
              "#ed7953"
             ],
             [
              0.7777777777777778,
              "#fb9f3a"
             ],
             [
              0.8888888888888888,
              "#fdca26"
             ],
             [
              1,
              "#f0f921"
             ]
            ],
            "type": "histogram2dcontour"
           }
          ],
          "mesh3d": [
           {
            "colorbar": {
             "outlinewidth": 0,
             "ticks": ""
            },
            "type": "mesh3d"
           }
          ],
          "parcoords": [
           {
            "line": {
             "colorbar": {
              "outlinewidth": 0,
              "ticks": ""
             }
            },
            "type": "parcoords"
           }
          ],
          "pie": [
           {
            "automargin": true,
            "type": "pie"
           }
          ],
          "scatter": [
           {
            "fillpattern": {
             "fillmode": "overlay",
             "size": 10,
             "solidity": 0.2
            },
            "type": "scatter"
           }
          ],
          "scatter3d": [
           {
            "line": {
             "colorbar": {
              "outlinewidth": 0,
              "ticks": ""
             }
            },
            "marker": {
             "colorbar": {
              "outlinewidth": 0,
              "ticks": ""
             }
            },
            "type": "scatter3d"
           }
          ],
          "scattercarpet": [
           {
            "marker": {
             "colorbar": {
              "outlinewidth": 0,
              "ticks": ""
             }
            },
            "type": "scattercarpet"
           }
          ],
          "scattergeo": [
           {
            "marker": {
             "colorbar": {
              "outlinewidth": 0,
              "ticks": ""
             }
            },
            "type": "scattergeo"
           }
          ],
          "scattergl": [
           {
            "marker": {
             "colorbar": {
              "outlinewidth": 0,
              "ticks": ""
             }
            },
            "type": "scattergl"
           }
          ],
          "scattermapbox": [
           {
            "marker": {
             "colorbar": {
              "outlinewidth": 0,
              "ticks": ""
             }
            },
            "type": "scattermapbox"
           }
          ],
          "scatterpolar": [
           {
            "marker": {
             "colorbar": {
              "outlinewidth": 0,
              "ticks": ""
             }
            },
            "type": "scatterpolar"
           }
          ],
          "scatterpolargl": [
           {
            "marker": {
             "colorbar": {
              "outlinewidth": 0,
              "ticks": ""
             }
            },
            "type": "scatterpolargl"
           }
          ],
          "scatterternary": [
           {
            "marker": {
             "colorbar": {
              "outlinewidth": 0,
              "ticks": ""
             }
            },
            "type": "scatterternary"
           }
          ],
          "surface": [
           {
            "colorbar": {
             "outlinewidth": 0,
             "ticks": ""
            },
            "colorscale": [
             [
              0,
              "#0d0887"
             ],
             [
              0.1111111111111111,
              "#46039f"
             ],
             [
              0.2222222222222222,
              "#7201a8"
             ],
             [
              0.3333333333333333,
              "#9c179e"
             ],
             [
              0.4444444444444444,
              "#bd3786"
             ],
             [
              0.5555555555555556,
              "#d8576b"
             ],
             [
              0.6666666666666666,
              "#ed7953"
             ],
             [
              0.7777777777777778,
              "#fb9f3a"
             ],
             [
              0.8888888888888888,
              "#fdca26"
             ],
             [
              1,
              "#f0f921"
             ]
            ],
            "type": "surface"
           }
          ],
          "table": [
           {
            "cells": {
             "fill": {
              "color": "#EBF0F8"
             },
             "line": {
              "color": "white"
             }
            },
            "header": {
             "fill": {
              "color": "#C8D4E3"
             },
             "line": {
              "color": "white"
             }
            },
            "type": "table"
           }
          ]
         },
         "layout": {
          "annotationdefaults": {
           "arrowcolor": "#2a3f5f",
           "arrowhead": 0,
           "arrowwidth": 1
          },
          "autotypenumbers": "strict",
          "coloraxis": {
           "colorbar": {
            "outlinewidth": 0,
            "ticks": ""
           }
          },
          "colorscale": {
           "diverging": [
            [
             0,
             "#8e0152"
            ],
            [
             0.1,
             "#c51b7d"
            ],
            [
             0.2,
             "#de77ae"
            ],
            [
             0.3,
             "#f1b6da"
            ],
            [
             0.4,
             "#fde0ef"
            ],
            [
             0.5,
             "#f7f7f7"
            ],
            [
             0.6,
             "#e6f5d0"
            ],
            [
             0.7,
             "#b8e186"
            ],
            [
             0.8,
             "#7fbc41"
            ],
            [
             0.9,
             "#4d9221"
            ],
            [
             1,
             "#276419"
            ]
           ],
           "sequential": [
            [
             0,
             "#0d0887"
            ],
            [
             0.1111111111111111,
             "#46039f"
            ],
            [
             0.2222222222222222,
             "#7201a8"
            ],
            [
             0.3333333333333333,
             "#9c179e"
            ],
            [
             0.4444444444444444,
             "#bd3786"
            ],
            [
             0.5555555555555556,
             "#d8576b"
            ],
            [
             0.6666666666666666,
             "#ed7953"
            ],
            [
             0.7777777777777778,
             "#fb9f3a"
            ],
            [
             0.8888888888888888,
             "#fdca26"
            ],
            [
             1,
             "#f0f921"
            ]
           ],
           "sequentialminus": [
            [
             0,
             "#0d0887"
            ],
            [
             0.1111111111111111,
             "#46039f"
            ],
            [
             0.2222222222222222,
             "#7201a8"
            ],
            [
             0.3333333333333333,
             "#9c179e"
            ],
            [
             0.4444444444444444,
             "#bd3786"
            ],
            [
             0.5555555555555556,
             "#d8576b"
            ],
            [
             0.6666666666666666,
             "#ed7953"
            ],
            [
             0.7777777777777778,
             "#fb9f3a"
            ],
            [
             0.8888888888888888,
             "#fdca26"
            ],
            [
             1,
             "#f0f921"
            ]
           ]
          },
          "colorway": [
           "#636efa",
           "#EF553B",
           "#00cc96",
           "#ab63fa",
           "#FFA15A",
           "#19d3f3",
           "#FF6692",
           "#B6E880",
           "#FF97FF",
           "#FECB52"
          ],
          "font": {
           "color": "#2a3f5f"
          },
          "geo": {
           "bgcolor": "white",
           "lakecolor": "white",
           "landcolor": "#E5ECF6",
           "showlakes": true,
           "showland": true,
           "subunitcolor": "white"
          },
          "hoverlabel": {
           "align": "left"
          },
          "hovermode": "closest",
          "mapbox": {
           "style": "light"
          },
          "paper_bgcolor": "white",
          "plot_bgcolor": "#E5ECF6",
          "polar": {
           "angularaxis": {
            "gridcolor": "white",
            "linecolor": "white",
            "ticks": ""
           },
           "bgcolor": "#E5ECF6",
           "radialaxis": {
            "gridcolor": "white",
            "linecolor": "white",
            "ticks": ""
           }
          },
          "scene": {
           "xaxis": {
            "backgroundcolor": "#E5ECF6",
            "gridcolor": "white",
            "gridwidth": 2,
            "linecolor": "white",
            "showbackground": true,
            "ticks": "",
            "zerolinecolor": "white"
           },
           "yaxis": {
            "backgroundcolor": "#E5ECF6",
            "gridcolor": "white",
            "gridwidth": 2,
            "linecolor": "white",
            "showbackground": true,
            "ticks": "",
            "zerolinecolor": "white"
           },
           "zaxis": {
            "backgroundcolor": "#E5ECF6",
            "gridcolor": "white",
            "gridwidth": 2,
            "linecolor": "white",
            "showbackground": true,
            "ticks": "",
            "zerolinecolor": "white"
           }
          },
          "shapedefaults": {
           "line": {
            "color": "#2a3f5f"
           }
          },
          "ternary": {
           "aaxis": {
            "gridcolor": "white",
            "linecolor": "white",
            "ticks": ""
           },
           "baxis": {
            "gridcolor": "white",
            "linecolor": "white",
            "ticks": ""
           },
           "bgcolor": "#E5ECF6",
           "caxis": {
            "gridcolor": "white",
            "linecolor": "white",
            "ticks": ""
           }
          },
          "title": {
           "x": 0.05
          },
          "xaxis": {
           "automargin": true,
           "gridcolor": "white",
           "linecolor": "white",
           "ticks": "",
           "title": {
            "standoff": 15
           },
           "zerolinecolor": "white",
           "zerolinewidth": 2
          },
          "yaxis": {
           "automargin": true,
           "gridcolor": "white",
           "linecolor": "white",
           "ticks": "",
           "title": {
            "standoff": 15
           },
           "zerolinecolor": "white",
           "zerolinewidth": 2
          }
         }
        },
        "title": {
         "text": "Relación entre x e y"
        },
        "xaxis": {
         "anchor": "y",
         "domain": [
          0,
          1
         ],
         "title": {
          "text": "x"
         }
        },
        "yaxis": {
         "anchor": "x",
         "domain": [
          0,
          1
         ],
         "title": {
          "text": "y"
         }
        }
       }
      }
     },
     "metadata": {},
     "output_type": "display_data"
    }
   ],
   "source": [
    "import numpy as np \n",
    "import pandas as pd \n",
    "import plotly.express as px\n",
    "# datos\n",
    "X = np.array([])\n",
    "\n",
    "Y = np.array([])\n",
    "\n",
    "# tabla de datos\n",
    "tabla = pd.DataFrame({'x':X, 'y':Y})\n",
    "#trazo de diagrama de dispersión o scatter\n",
    "fig = px.scatter(tabla,x = tabla.keys()[0], y = tabla.keys()[1], title='Relación entre x e y')\n",
    "\n",
    "fig.show()\n",
    "\n",
    "#fig.write_html('relacion_entre_x_e_y.html', auto_open=True)"
   ]
  },
  {
   "cell_type": "markdown",
   "id": "740f3401",
   "metadata": {
    "slideshow": {
     "slide_type": "slide"
    }
   },
   "source": [
    "# Componente de manejo de calculadora Casio asociado al objetivo de aprendizaje de esta clase"
   ]
  },
  {
   "cell_type": "markdown",
   "id": "8eecb2d9",
   "metadata": {
    "slideshow": {
     "slide_type": "slide"
    }
   },
   "source": [
    "## Descripción de la calculadora Casio  \n",
    "\n"
   ]
  },
  {
   "cell_type": "code",
   "execution_count": null,
   "id": "3cd72835",
   "metadata": {
    "slideshow": {
     "slide_type": "slide"
    }
   },
   "outputs": [],
   "source": []
  },
  {
   "cell_type": "code",
   "execution_count": null,
   "id": "d8a111c4",
   "metadata": {
    "slideshow": {
     "slide_type": "slide"
    }
   },
   "outputs": [],
   "source": []
  },
  {
   "cell_type": "markdown",
   "id": "fccb447c",
   "metadata": {
    "slideshow": {
     "slide_type": "slide"
    }
   },
   "source": [
    "# Tareas para realizar en clase"
   ]
  },
  {
   "cell_type": "markdown",
   "id": "e5c48edf",
   "metadata": {
    "slideshow": {
     "slide_type": "slide"
    }
   },
   "source": [
    "* Modelación matemática \n",
    "* Trabajo en equipos"
   ]
  },
  {
   "cell_type": "code",
   "execution_count": 2,
   "metadata": {},
   "outputs": [
    {
     "name": "stdout",
     "output_type": "stream",
     "text": [
      "Asignaciones guardadas en purcell_seccion_5.6_pagina 313\n"
     ]
    },
    {
     "data": {
      "text/html": [
       "<div>\n",
       "<style scoped>\n",
       "    .dataframe tbody tr th:only-of-type {\n",
       "        vertical-align: middle;\n",
       "    }\n",
       "\n",
       "    .dataframe tbody tr th {\n",
       "        vertical-align: top;\n",
       "    }\n",
       "\n",
       "    .dataframe thead th {\n",
       "        text-align: right;\n",
       "    }\n",
       "</style>\n",
       "<table border=\"1\" class=\"dataframe\">\n",
       "  <thead>\n",
       "    <tr style=\"text-align: right;\">\n",
       "      <th></th>\n",
       "      <th>Student</th>\n",
       "      <th>Exer1</th>\n",
       "    </tr>\n",
       "  </thead>\n",
       "  <tbody>\n",
       "    <tr>\n",
       "      <th>0</th>\n",
       "      <td>leonardo</td>\n",
       "      <td>7</td>\n",
       "    </tr>\n",
       "    <tr>\n",
       "      <th>1</th>\n",
       "      <td>Duvan trejo</td>\n",
       "      <td>3</td>\n",
       "    </tr>\n",
       "    <tr>\n",
       "      <th>2</th>\n",
       "      <td>angel</td>\n",
       "      <td>31</td>\n",
       "    </tr>\n",
       "    <tr>\n",
       "      <th>3</th>\n",
       "      <td>camila</td>\n",
       "      <td>20</td>\n",
       "    </tr>\n",
       "    <tr>\n",
       "      <th>4</th>\n",
       "      <td>luis fernando</td>\n",
       "      <td>18</td>\n",
       "    </tr>\n",
       "    <tr>\n",
       "      <th>5</th>\n",
       "      <td>mariana</td>\n",
       "      <td>32</td>\n",
       "    </tr>\n",
       "    <tr>\n",
       "      <th>6</th>\n",
       "      <td>oscar david</td>\n",
       "      <td>17</td>\n",
       "    </tr>\n",
       "    <tr>\n",
       "      <th>7</th>\n",
       "      <td>duvan salgado</td>\n",
       "      <td>10</td>\n",
       "    </tr>\n",
       "  </tbody>\n",
       "</table>\n",
       "</div>"
      ],
      "text/plain": [
       "         Student  Exer1\n",
       "0       leonardo      7\n",
       "1    Duvan trejo      3\n",
       "2          angel     31\n",
       "3         camila     20\n",
       "4  luis fernando     18\n",
       "5        mariana     32\n",
       "6    oscar david     17\n",
       "7  duvan salgado     10"
      ]
     },
     "execution_count": 2,
     "metadata": {},
     "output_type": "execute_result"
    }
   ],
   "source": [
    "## Quiz de 15 minutos para ejercitación y adquisición de habilidades computacionales y de pensamiento variacional\n",
    "\n",
    "# Resolver con sympy el punto sobre centro de masa que se le haya propuesto. \n",
    "\n",
    "# Puede utilizar chatGPT, pero debe revisar y corregir, lo que este modelo le entregue. \n",
    "\n",
    "\n",
    "import pandas as pd\n",
    "import numpy as np\n",
    "import random\n",
    "import requests\n",
    "\n",
    "\n",
    "texto_guia_seccion_pagina = 'purcell_seccion_5.6_pagina 313'\n",
    "n_exercises_del_taller_del_texto = 36\n",
    "n_ejercicios_asignados_al_estudiante = 1\n",
    "\n",
    "\n",
    "\n",
    "# Descargar la lista de estudiantes y ejercicios\n",
    "students_url = \"https://raw.githubusercontent.com/marco-canas/groups_list/main/calculo_integral.csv\"\n",
    "exercises = list(range(1, n_exercises_del_taller_del_texto))  # Lista de ejercicios del 1 al 83\n",
    "\n",
    "# Cargar la lista de estudiantes\n",
    "students_data = pd.read_csv(students_url)\n",
    "\n",
    "# Crear una lista para almacenar las asignaciones\n",
    "assignments = []\n",
    "\n",
    "# Asignar ejercicios aleatorios a cada estudiante\n",
    "for index, student in students_data.iterrows():\n",
    "    random_exercises = random.sample(exercises, n_ejercicios_asignados_al_estudiante)  # Seleccionar 5 ejercicios aleatorios sin repetición\n",
    "    assignments.append([students_data[\"Nombre\"][index], *random_exercises])  # Agregar asignación a la lista\n",
    "\n",
    "# Crear un DataFrame con las asignaciones\n",
    "columns = [\"Student\", \"Exer1\"]\n",
    "assignment_df = pd.DataFrame(assignments, columns=columns)\n",
    "\n",
    "# Guardar el DataFrame en un archivo CSV\n",
    "assignment_csv = texto_guia_seccion_pagina \n",
    "assignment_df.to_csv(assignment_csv, index=False)\n",
    "\n",
    "print(\"Asignaciones guardadas en\", assignment_csv)\n",
    "assignment_df"
   ]
  },
  {
   "cell_type": "markdown",
   "id": "8b6b0112",
   "metadata": {
    "slideshow": {
     "slide_type": "slide"
    }
   },
   "source": [
    "# Tareas para realizar después de la realización de la clase"
   ]
  },
  {
   "cell_type": "markdown",
   "id": "947460e3",
   "metadata": {
    "slideshow": {
     "slide_type": "slide"
    }
   },
   "source": [
    "* Actividades de memorización: \n",
    "  - escucha reiterada de grabaciones de formulas y resultados científicos. \n",
    "  - relectura de notas. \n",
    "  - ejercicios de mayor complejidad.\n",
    "\n",
    "¿Qué es epistemología?  \n",
    "¿Por qué el licenciado en matemáticas la debe de aprender? (la epistemología)  \n",
    "¿Cuál es la diferencia entre ecuación cuadrática y función cuadrática?\n",
    "¿Cuál es el coeficiente para cambiar la concavidad de la parábola?\n",
    "¿Consulte algo de historia sobre la ecuación cuadrática?\n",
    "Consultar y entrenar en suma de enteros.\n",
    "Saber de memoria los cuadrados perfectos y las raíces de ellos. \n",
    "Saber escribir la definición de raíz cuadrada. \n",
    "diferenciar entre ecuación lineal, ecuación cuadrática y función lineal y cuadrática. \n",
    "\n",
    "Para el parcial de la próxima sema debe saber resolver ecuaciones lineales por transposición de términos y ecuaciones cuadráticas utilizando la fórmula del bachiller. \n",
    "\n",
    "### No olvide asignar las tareas a los estudiantes a través de Google Colab y compartiendole el cuaderno de asignación a su correo institucional con fecha de entrega. [Google Colab](https://colab.research.google.com/?hl=es)   \n",
    "  "
   ]
  },
  {
   "cell_type": "markdown",
   "id": "d34defb9",
   "metadata": {
    "slideshow": {
     "slide_type": "slide"
    }
   },
   "source": [
    "## Asignación individual de tareas semanales "
   ]
  },
  {
   "cell_type": "code",
   "execution_count": 2,
   "id": "0406f442",
   "metadata": {
    "slideshow": {
     "slide_type": "slide"
    }
   },
   "outputs": [
    {
     "name": "stdout",
     "output_type": "stream",
     "text": [
      "Tarea asignada:  tarea_Precalculo_Stewart_Página_32_Sección_1.3.csv\n"
     ]
    },
    {
     "data": {
      "text/html": [
       "<div>\n",
       "<style scoped>\n",
       "    .dataframe tbody tr th:only-of-type {\n",
       "        vertical-align: middle;\n",
       "    }\n",
       "\n",
       "    .dataframe tbody tr th {\n",
       "        vertical-align: top;\n",
       "    }\n",
       "\n",
       "    .dataframe thead th {\n",
       "        text-align: right;\n",
       "    }\n",
       "</style>\n",
       "<table border=\"1\" class=\"dataframe\">\n",
       "  <thead>\n",
       "    <tr style=\"text-align: right;\">\n",
       "      <th></th>\n",
       "      <th>Student</th>\n",
       "      <th>Exer1</th>\n",
       "      <th>Exer2</th>\n",
       "      <th>Exer3</th>\n",
       "      <th>Exer4</th>\n",
       "      <th>Exer5</th>\n",
       "    </tr>\n",
       "  </thead>\n",
       "  <tbody>\n",
       "    <tr>\n",
       "      <th>0</th>\n",
       "      <td>ARIAS ARRIETA FREDY</td>\n",
       "      <td>129</td>\n",
       "      <td>68</td>\n",
       "      <td>106</td>\n",
       "      <td>21</td>\n",
       "      <td>44</td>\n",
       "    </tr>\n",
       "    <tr>\n",
       "      <th>1</th>\n",
       "      <td>BOHORQUEZ NAVARRO DINA ESTELA</td>\n",
       "      <td>32</td>\n",
       "      <td>135</td>\n",
       "      <td>41</td>\n",
       "      <td>51</td>\n",
       "      <td>65</td>\n",
       "    </tr>\n",
       "    <tr>\n",
       "      <th>2</th>\n",
       "      <td>CARDONA RAMIREZ SARA PAULINA</td>\n",
       "      <td>54</td>\n",
       "      <td>35</td>\n",
       "      <td>17</td>\n",
       "      <td>51</td>\n",
       "      <td>59</td>\n",
       "    </tr>\n",
       "    <tr>\n",
       "      <th>3</th>\n",
       "      <td>CASTANEDA REINOZA DIEGO</td>\n",
       "      <td>129</td>\n",
       "      <td>42</td>\n",
       "      <td>8</td>\n",
       "      <td>28</td>\n",
       "      <td>81</td>\n",
       "    </tr>\n",
       "    <tr>\n",
       "      <th>4</th>\n",
       "      <td>ESPEJO PEREZ LUIS DAVID</td>\n",
       "      <td>51</td>\n",
       "      <td>125</td>\n",
       "      <td>84</td>\n",
       "      <td>98</td>\n",
       "      <td>111</td>\n",
       "    </tr>\n",
       "    <tr>\n",
       "      <th>5</th>\n",
       "      <td>HERNANDEZ GUERRA FABIAN ALEJANDRO</td>\n",
       "      <td>54</td>\n",
       "      <td>94</td>\n",
       "      <td>126</td>\n",
       "      <td>79</td>\n",
       "      <td>85</td>\n",
       "    </tr>\n",
       "    <tr>\n",
       "      <th>6</th>\n",
       "      <td>HERRERA PAYARES RAFAEL ANTONIO</td>\n",
       "      <td>77</td>\n",
       "      <td>40</td>\n",
       "      <td>19</td>\n",
       "      <td>135</td>\n",
       "      <td>21</td>\n",
       "    </tr>\n",
       "    <tr>\n",
       "      <th>7</th>\n",
       "      <td>LUCAS FLOREZ NAYELIS NATALIA</td>\n",
       "      <td>113</td>\n",
       "      <td>47</td>\n",
       "      <td>8</td>\n",
       "      <td>17</td>\n",
       "      <td>29</td>\n",
       "    </tr>\n",
       "    <tr>\n",
       "      <th>8</th>\n",
       "      <td>MARTINEZ BALLESTEROS VICTOR HUGO</td>\n",
       "      <td>97</td>\n",
       "      <td>66</td>\n",
       "      <td>17</td>\n",
       "      <td>22</td>\n",
       "      <td>38</td>\n",
       "    </tr>\n",
       "    <tr>\n",
       "      <th>9</th>\n",
       "      <td>MARTINEZ MENDOZA JAIR MIGUEL</td>\n",
       "      <td>7</td>\n",
       "      <td>42</td>\n",
       "      <td>10</td>\n",
       "      <td>13</td>\n",
       "      <td>49</td>\n",
       "    </tr>\n",
       "    <tr>\n",
       "      <th>10</th>\n",
       "      <td>MAZO PEREZ SAMUEL</td>\n",
       "      <td>24</td>\n",
       "      <td>113</td>\n",
       "      <td>16</td>\n",
       "      <td>83</td>\n",
       "      <td>105</td>\n",
       "    </tr>\n",
       "    <tr>\n",
       "      <th>11</th>\n",
       "      <td>MONTES DIAZ DIEGO ALEJANDRO</td>\n",
       "      <td>23</td>\n",
       "      <td>76</td>\n",
       "      <td>77</td>\n",
       "      <td>98</td>\n",
       "      <td>68</td>\n",
       "    </tr>\n",
       "    <tr>\n",
       "      <th>12</th>\n",
       "      <td>OCHOA ARRIETA JUAN ANDRES</td>\n",
       "      <td>109</td>\n",
       "      <td>67</td>\n",
       "      <td>2</td>\n",
       "      <td>133</td>\n",
       "      <td>25</td>\n",
       "    </tr>\n",
       "    <tr>\n",
       "      <th>13</th>\n",
       "      <td>RODRIGUEZ VERONA CARLOS MARIO</td>\n",
       "      <td>67</td>\n",
       "      <td>120</td>\n",
       "      <td>75</td>\n",
       "      <td>6</td>\n",
       "      <td>24</td>\n",
       "    </tr>\n",
       "    <tr>\n",
       "      <th>14</th>\n",
       "      <td>RUIZ CARDENAS LUIS MARIO</td>\n",
       "      <td>40</td>\n",
       "      <td>24</td>\n",
       "      <td>17</td>\n",
       "      <td>12</td>\n",
       "      <td>72</td>\n",
       "    </tr>\n",
       "    <tr>\n",
       "      <th>15</th>\n",
       "      <td>SIERRA OLIVEROS OMAR DARIO</td>\n",
       "      <td>31</td>\n",
       "      <td>20</td>\n",
       "      <td>42</td>\n",
       "      <td>93</td>\n",
       "      <td>8</td>\n",
       "    </tr>\n",
       "    <tr>\n",
       "      <th>16</th>\n",
       "      <td>SUAREZ RESTREPO MARIA ANGELICA</td>\n",
       "      <td>41</td>\n",
       "      <td>117</td>\n",
       "      <td>113</td>\n",
       "      <td>40</td>\n",
       "      <td>108</td>\n",
       "    </tr>\n",
       "    <tr>\n",
       "      <th>17</th>\n",
       "      <td>TAMAYO DE LA OSSA SARA</td>\n",
       "      <td>95</td>\n",
       "      <td>10</td>\n",
       "      <td>131</td>\n",
       "      <td>129</td>\n",
       "      <td>2</td>\n",
       "    </tr>\n",
       "  </tbody>\n",
       "</table>\n",
       "</div>"
      ],
      "text/plain": [
       "                              Student  Exer1  Exer2  Exer3  Exer4  Exer5\n",
       "0                 ARIAS ARRIETA FREDY    129     68    106     21     44\n",
       "1       BOHORQUEZ NAVARRO DINA ESTELA     32    135     41     51     65\n",
       "2        CARDONA RAMIREZ SARA PAULINA     54     35     17     51     59\n",
       "3             CASTANEDA REINOZA DIEGO    129     42      8     28     81\n",
       "4             ESPEJO PEREZ LUIS DAVID     51    125     84     98    111\n",
       "5   HERNANDEZ GUERRA FABIAN ALEJANDRO     54     94    126     79     85\n",
       "6      HERRERA PAYARES RAFAEL ANTONIO     77     40     19    135     21\n",
       "7        LUCAS FLOREZ NAYELIS NATALIA    113     47      8     17     29\n",
       "8    MARTINEZ BALLESTEROS VICTOR HUGO     97     66     17     22     38\n",
       "9        MARTINEZ MENDOZA JAIR MIGUEL      7     42     10     13     49\n",
       "10                  MAZO PEREZ SAMUEL     24    113     16     83    105\n",
       "11        MONTES DIAZ DIEGO ALEJANDRO     23     76     77     98     68\n",
       "12          OCHOA ARRIETA JUAN ANDRES    109     67      2    133     25\n",
       "13      RODRIGUEZ VERONA CARLOS MARIO     67    120     75      6     24\n",
       "14           RUIZ CARDENAS LUIS MARIO     40     24     17     12     72\n",
       "15         SIERRA OLIVEROS OMAR DARIO     31     20     42     93      8\n",
       "16     SUAREZ RESTREPO MARIA ANGELICA     41    117    113     40    108\n",
       "17             TAMAYO DE LA OSSA SARA     95     10    131    129      2"
      ]
     },
     "execution_count": 2,
     "metadata": {},
     "output_type": "execute_result"
    }
   ],
   "source": [
    "# asignación de ejercicios de un seccion del texto guía\n",
    "\n",
    "# numpy.random.choice() obten la documentación de esta función en: \n",
    "# https://numpy.org/doc/stable/reference/random/generated/numpy.random.choice.html\n",
    "\n",
    "import pandas as pd\n",
    "import numpy as np\n",
    "import requests\n",
    "np.random.seed(42)  # establecer semilla aleatoria para hacer los resultados reproducibles\n",
    "\n",
    "\n",
    "\n",
    "grupo_estudiantes = 'fund_math'\n",
    "nombre_texto_guia = 'Precalculo_Stewart'\n",
    "pagina_y_seccion = 'Página_32_Sección_1.3'\n",
    "numero_ejercicios_taller = 135\n",
    "numero_de_ejercicios_asignados = 5\n",
    "\n",
    "\n",
    "# Descargar la lista de  estudiantes\n",
    "students_url = \"https://raw.githubusercontent.com/marco-canas/groups_list/main/\" + grupo_estudiantes + \".csv\"\n",
    "exercises = list(range(1, numero_ejercicios_taller))  \n",
    "\n",
    "students_data = pd.read_csv(students_url)\n",
    "\n",
    "# Crear una lista para almacenar las asignaciones\n",
    "assignments = []\n",
    "\n",
    "# Asignar ejercicios aleatorios a cada estudiante\n",
    "for index, student in students_data.iterrows():\n",
    "    # Seleccionar 5 ejercicios aleatorios sin repetición\n",
    "    random_exercises = np.random.choice(exercises, numero_de_ejercicios_asignados, replace = False)+ 1 \n",
    "    assignments.append([students_data[\"Nombre\"][index], *random_exercises])  # Agregar asignación a la lista\n",
    "\n",
    "# Crear un DataFrame con las asignaciones\n",
    "columns = [\"Student\"] + [ \"Exer\" + str(i+1) for i in range(numero_de_ejercicios_asignados)]\n",
    "assignment_df = pd.DataFrame(assignments, columns=columns)\n",
    "\n",
    "# Guardar el DataFrame en un archivo CSV\n",
    "assignment_csv = \"tarea\" + \"_\" + nombre_texto_guia + \"_\"+ pagina_y_seccion + \".csv\"\n",
    "assignment_df.to_csv(assignment_csv, index=False)\n",
    "\n",
    "print(\"Tarea asignada: \", assignment_csv)\n",
    "assignment_df"
   ]
  },
  {
   "cell_type": "markdown",
   "id": "742281f4",
   "metadata": {},
   "source": [
    "# No olvide la tarea de realizar la foda para autoevaluarse\n",
    "\n",
    "Fortalezas: F  \n",
    "Oportuniudades O:  \n",
    "Debilidades: D:   \n",
    "Amenazas: A:     "
   ]
  },
  {
   "cell_type": "markdown",
   "id": "8d41fe58",
   "metadata": {
    "slideshow": {
     "slide_type": "slide"
    }
   },
   "source": [
    "# Horario de clases del profesor Marco\n",
    "\n",
    "* Martes y jueves de 10 a 12: Fundamentos de las matemáticas\n",
    "* Martes y jueves de 2 a 4 PM: Fundamentos de la aritmética\n",
    "\n",
    "* Didáctica de la aritmética: Miércoles de 8 - 12\n",
    "\n"
   ]
  },
  {
   "cell_type": "markdown",
   "id": "ae114e14",
   "metadata": {
    "slideshow": {
     "slide_type": "slide"
    }
   },
   "source": [
    "# Horarios de monitoría y asesoría"
   ]
  },
  {
   "cell_type": "markdown",
   "id": "b1db4b6c",
   "metadata": {
    "slideshow": {
     "slide_type": "slide"
    }
   },
   "source": [
    "## Monitor Manuel"
   ]
  },
  {
   "cell_type": "markdown",
   "id": "39559692",
   "metadata": {
    "slideshow": {
     "slide_type": "slide"
    }
   },
   "source": [
    "Martes y jueves de 8 - 12  \n",
    "Miércoles 10 - 12 y de 2 a 4 PM  \n",
    "Sábado: 8 - 12"
   ]
  },
  {
   "cell_type": "markdown",
   "id": "935a5567",
   "metadata": {
    "slideshow": {
     "slide_type": "slide"
    }
   },
   "source": [
    "## Dificultades de aprendizaje detectados durante la clase"
   ]
  },
  {
   "cell_type": "markdown",
   "id": "3bd7500d",
   "metadata": {
    "slideshow": {
     "slide_type": "slide"
    }
   },
   "source": []
  },
  {
   "cell_type": "markdown",
   "id": "fb9402bb",
   "metadata": {
    "slideshow": {
     "slide_type": "slide"
    }
   },
   "source": [
    "## Estrategias propuestas para la solución de las dificultades de aprendizaje detectadas"
   ]
  },
  {
   "cell_type": "markdown",
   "id": "d437294b",
   "metadata": {
    "slideshow": {
     "slide_type": "slide"
    }
   },
   "source": []
  },
  {
   "cell_type": "markdown",
   "id": "d11570a2",
   "metadata": {
    "slideshow": {
     "slide_type": "slide"
    }
   },
   "source": []
  },
  {
   "cell_type": "markdown",
   "id": "319f2ffa",
   "metadata": {
    "slideshow": {
     "slide_type": "slide"
    }
   },
   "source": [
    "## Grabaciones en audio para fomentar la capacidad de memorizar enunciados de teoremas y resultados científicos y la capacidad de parafrasear estos resultados. Y así desarrollar memoria muscular para los comandos comunes. \n",
    "Se dispondrá de un lugar en Vocaroo para albergar archivos de audio de fomento a la memorización, enunciación y parafraseo de los resultados científicos, propiedades, reglas, etc. \n",
    "\n",
    "[Vocaroo](https://vocaroo.com/)\n",
    "\n"
   ]
  },
  {
   "cell_type": "markdown",
   "id": "564fa59d",
   "metadata": {
    "slideshow": {
     "slide_type": "slide"
    }
   },
   "source": [
    "### Comparta sus cuadernos y videos, evidencias de su aprendizaje [aquí](https://forms.office.com/Pages/ResponsePage.aspx?id=IefhmYRxjkmK_7KtTlPBwkanXIs1i1FEujpsZgO6dXpUMEMwTEZVMzEwVVBPTElWNVg5OVEyWUhMUy4u)"
   ]
  },
  {
   "cell_type": "markdown",
   "id": "1a1a3e41",
   "metadata": {
    "slideshow": {
     "slide_type": "slide"
    }
   },
   "source": []
  },
  {
   "cell_type": "markdown",
   "id": "44be6d93",
   "metadata": {
    "slideshow": {
     "slide_type": "slide"
    }
   },
   "source": [
    "# Vocabulary "
   ]
  },
  {
   "cell_type": "markdown",
   "id": "35e2484a",
   "metadata": {
    "slideshow": {
     "slide_type": "slide"
    }
   },
   "source": [
    "1. \n",
    "2.  \n",
    "3.  \n",
    "4.  \n",
    "5.  "
   ]
  },
  {
   "cell_type": "markdown",
   "id": "94187562",
   "metadata": {},
   "source": [
    "# Colección de verbos irregulares aprendidos\n",
    "\n",
    "|Verbo irregular en presente|en español|Pasado|\n",
    "|---------------------------|----------|------|  \n",
    "|choose|elegir|chose|"
   ]
  },
  {
   "cell_type": "markdown",
   "id": "10bce0d0",
   "metadata": {
    "slideshow": {
     "slide_type": "slide"
    }
   },
   "source": [
    "## Referentes "
   ]
  },
  {
   "cell_type": "markdown",
   "id": "1db3c468",
   "metadata": {
    "slideshow": {
     "slide_type": "slide"
    }
   },
   "source": [
    "* [stewart precálculo](https://udeaeduco-my.sharepoint.com/:b:/g/personal/marco_canas_udea_edu_co/ERHIq62I6qFNrmxy6LZb8ZMBci7kUsyNME1nIh9yCBMJ_w?e=0zMSla)  \n",
    "\n",
    "* [stewart cálculo](https://udeaeduco-my.sharepoint.com/:b:/g/personal/marco_canas_udea_edu_co/EZgXZjAp8QxPqOAim2hs6LcBNPLGjSHf-xwYnUVYkwa04w?e=RZdTCy)  \n",
    "\n",
    "* [larson](https://udeaeduco-my.sharepoint.com/:b:/g/personal/marco_canas_udea_edu_co/ES71ChFeO9ZDhW3TwC5Ijk8BjxUK3Pdqz_fjHxTTFAfIAg?e=VDEjfu)\n",
    "\n",
    "* [uzcategui](https://d1wqtxts1xzle7.cloudfront.net/58508147/01_-_Logica__Conjuntos_y_Numeros_Carlos_Uzcategui_ULA_2011.pdf?1551242783=&response-content-disposition=inline%3B+filename%3D01_Logica_Conjuntos_y_Numeros_Carlos_Uzc.pdf&Expires=1708273639&Signature=CwIckpKBKsYa0dZfrijF7xCRUeLZoH3f1DT9krmTzorPDbjsdJTBMCNmYJm2MiOFiGtedb2LTqDE3J~wkNPMSGNMUXi3mLbrSucYdg869dbacuLK3xFb6tn6SJ7Ny1ST3Jyk35WyBeQwdL7oW4BsifyRcWR513sbb1unyfgGbWaIYaKrHTc~0N~mNU85fHf7pWB~c8v-OMWYYqRNfgHbxld0dIBf1qrzShFXzXzzcG5zv2tnb14fqPCLEZDZKOFC5SsGjts-BGgmd0mVvSf9B6Gzb-tZZ8nINd8yRq9UD6V0OvVNe82rEaOFEa52peqYzkAhYhbaX9Oom49zf09tvg__&Key-Pair-Id=APKAJLOHF5GGSLRBV4ZA)\n",
    "\n",
    "* [Cálculo de Purcell](https://udeaeduco-my.sharepoint.com/:b:/g/personal/marco_canas_udea_edu_co/ES60UB4h-QFFqqRQUFmkpWcBIgoLBJeqTfZjNajWNWSeJA?e=9NxjKJ)\n",
    "\n",
    "* [Recomendación de la UNESCO sobre ciencia abierta](https://unesdoc.unesco.org/ark:/48223/pf0000379949_spa)\n",
    "\n",
    "* [Fórmulas más comunes en latex](https://wiki.geogebra.org/es/C%C3%B3digo_LaTeX_para_las_f%C3%B3rmulas_m%C3%A1s_comunes) \n",
    "\n",
    "* [chatGPT](https://openai.com/blog/chatgpt)  \n",
    "\n",
    "* Géron, A. (2017). Hands-on machine learning with scikit-learn and tensorflow: Concepts. Tools, and Techniques to build intelligent systems.[Geron, Aurelien. Hands on Machine Learning](https://udeaeduco-my.sharepoint.com/:b:/g/personal/marco_canas_udea_edu_co/Ecet27yjQzZIlT1Y_Bc2erkBUhbeYuIe6HG8i1FYZRlZww?e=dlvZ4v)  \n",
    "\n",
    "* McKinney, W. (2012). Python for data analysis: Data wrangling with Pandas, NumPy, and IPython. \" O'Reilly Media, Inc.\".[Wes Mackinney. ](https://udeaeduco-my.sharepoint.com/:b:/g/personal/marco_canas_udea_edu_co/EVbi5JIeBl9ErbiUnZfGe8YBhNTnZ8sxTK5hjIOPK4UpGw?e=fFclah)  \n",
    "\n",
    "* [Ledezma, C., Font, V., & Sala-Sebastià, G. MODELIZACIÓN MATEMÁTICA DESDE UNA ARTICULACIÓN TEÓRICA ENTRE LOS ENFOQUES COGNITIVO Y ONTO-SEMIÓTICO.](https://www.researchgate.net/profile/Carlos-Ledezma-4/publication/376076920_Modelizacion_matematica_desde_una_articulacion_teorica_entre_los_enfoques_cognitivo_y_onto-semiotico/links/6568cb363fa26f66f43b292a/Modelizacion-matematica-desde-una-articulacion-teorica-entre-los-enfoques-cognitivo-y-onto-semiotico.pdf)"
   ]
  },
  {
   "cell_type": "markdown",
   "id": "45c59aa9",
   "metadata": {},
   "source": [
    "[Autoevaluemonos para hacernos concientes de nuestro aprendizaje y en lo que debemos enfocarnos en mejorar]()  \n",
    "\n",
    "Aquí tienes una lista de preguntas de selección múltiple para una autoevaluación en un curso de cálculo con un enfoque pedagógico de aula invertida. Estas preguntas abarcan los objetivos de desarrollo del pensamiento variacional, pensamiento computacional a través de Python, capacidad de comunicación científica con LaTeX, Git y el uso de cuadernos Jupyter, así como la promoción de políticas de ciencia libre. \n",
    "\n",
    "1. **Pensamiento Variacional:**\n",
    "   a. ¿Qué significa el término \"variación\" en el contexto del pensamiento variacional?\n",
    "   b. ¿Cómo se relaciona el cálculo con el pensamiento variacional?\n",
    "   c. ¿Puede proporcionar un ejemplo práctico que ilustre el concepto de variación en un problema de cálculo?\n",
    "\n",
    "2. **Pensamiento Computacional (Python):**\n",
    "   a. ¿Cuál es el propósito principal de utilizar Python en un curso de cálculo?\n",
    "   b. ¿Cómo se puede utilizar Python para resolver problemas matemáticos complejos?\n",
    "   c. Menciona al menos dos ventajas de usar Python en comparación con otros lenguajes de programación en el contexto del cálculo.\n",
    "\n",
    "3. **Comunicación Científica (LaTeX):**\n",
    "   a. ¿Por qué es importante utilizar LaTeX para la comunicación científica en matemáticas y ciencias?\n",
    "   b. Enumera al menos tres comandos básicos de LaTeX utilizados para escribir ecuaciones matemáticas.\n",
    "   c. ¿Cómo mejorarías la presentación visual de una fórmula matemática utilizando LaTeX?\n",
    "\n",
    "4. **Gestión de Versiones (Git):**\n",
    "   a. ¿Cuál es el propósito principal de utilizar Git en el desarrollo de proyectos científicos?\n",
    "   b. Explica el concepto de \"commit\" en Git.\n",
    "   c. ¿Cómo resolverías un conflicto de fusión (merge conflict) en Git?\n",
    "\n",
    "5. **Cuadernos Jupyter:**\n",
    "   a. ¿Cuáles son las ventajas de utilizar cuadernos Jupyter en comparación con otros entornos de desarrollo?\n",
    "   b. Describe cómo se integra el código Python y la documentación en un cuaderno Jupyter.\n",
    "   c. ¿Cómo compartirías un cuaderno Jupyter con tus compañeros de clase utilizando GitHub?\n",
    "\n",
    "6. **Promoción de Políticas de Ciencia Libre:**\n",
    "   a. ¿Cuáles son los beneficios de utilizar plataformas como GitHub y YouTube para compartir recursos científicos?\n",
    "   b. ¿Cómo podrías contribuir a la promoción de la ciencia libre en tu comunidad académica?\n",
    "   c. ¿Por qué es importante la transparencia y accesibilidad en la investigación científica?\n",
    "\n",
    "Estas preguntas están diseñadas para evaluar la comprensión de los estudiantes en diversos aspectos del curso, abarcando desde los conceptos matemáticos hasta las habilidades tecnológicas y la conciencia sobre la ciencia libre."
   ]
  },
  {
   "cell_type": "markdown",
   "id": "8e65d6f9",
   "metadata": {},
   "source": [
    "# Como estudiante, encuentro que...   \n",
    "\n",
    "F: Mis Fortalezas son:     \n",
    "O: Mis Oportunidades son:    \n",
    "D: Mis Debilidades son:    \n",
    "A: Lo que Amenazas mi aprendizaje es:  "
   ]
  },
  {
   "cell_type": "markdown",
   "id": "6b9e56a8",
   "metadata": {
    "slideshow": {
     "slide_type": "slide"
    }
   },
   "source": [
    "### [Evaluamos al profesor Marco Cañas Aquí](https://forms.office.com/Pages/ResponsePage.aspx?id=IefhmYRxjkmK_7KtTlPBwkanXIs1i1FEujpsZgO6dXpUREJPV1kxUk1JV1ozTFJIQVNIQjY5WEY3US4u)"
   ]
  },
  {
   "cell_type": "markdown",
   "id": "050b9508",
   "metadata": {},
   "source": [
    "# Aportes de mis estudiantes a la metodología del curso  \n",
    "1. \n",
    "\n",
    "Sus opiniones y aportes son muy importantes para mi. Pues esta es una investigación educativa y un servicio de enseñanza para ustedes. Ustedes son la razón de ser de mi actividad docente. Dios los bendiga. "
   ]
  },
  {
   "cell_type": "markdown",
   "id": "6c4af91f",
   "metadata": {},
   "source": [
    "# Aportes de mis colegas docentes a la metodología que estoy aplicando en mis cursos. "
   ]
  },
  {
   "cell_type": "markdown",
   "id": "071afa04",
   "metadata": {
    "slideshow": {
     "slide_type": "slide"
    }
   },
   "source": [
    "## [Evaluación luego de alcanzar estos objetivos de aprendizaje]()"
   ]
  },
  {
   "cell_type": "markdown",
   "id": "10f43536",
   "metadata": {
    "slideshow": {
     "slide_type": "slide"
    }
   },
   "source": [
    "### Continue su aprendizaje en la siguiente clase a través del siguiente [vínculo]()"
   ]
  },
  {
   "cell_type": "markdown",
   "id": "af751e30",
   "metadata": {
    "slideshow": {
     "slide_type": "slide"
    }
   },
   "source": [
    "# Conjeturas pedagógicas fruto de la aplicación del modelo de aprendizaje invertido y del enfoque hacia la ciencia de datos con python\n",
    "\n",
    "1. Todo cálculo o resultado debe ser interpretado en una línea markdown del cuaderno Jupyter, inmediatamente después de la enunciación del resultado y después de la presentación de una tabla o gráfico bidimensional, de tal menera que el estudiante explicite la comprensión verbal del resultado y las inferencias o estrategias que este resultado le sugieren.  \n",
    "\n",
    "2. Debo colocar las conjeturas pedagógicas, que el uso en el aula de [ChatGPT](https://openai.com/blog/chatgpt/) traiga para la enseñanza y el aprendizaje de las matemáticas. \n",
    "\n",
    "3. Promover ciencia abierta en clase de matemáticas puede ser pidiendo a los estudiantes, tomar nota en clase pero en cuadernos Jupyter y entregar siempre al final de cada clase su cuaderno con todas las notas y experimentaciones de clase replicadas. \n",
    "4. Profesor Marco, ¿ha contemplado la posibilidad de intercambio de experiencias de aprendizaje y aplicación de Python al día a día con comfama? (Estudio Trabajo Social y allí, en comfama, aprendí los fundamentos, lo básico de Python)\n",
    "\n",
    "¿Conoce si en la Universidad de Antioquia hay medios para poder aprender Swift/XCODE? (Para programar para dispositivos de Apple)\n",
    "5. Debo considerar la metodología ABP, es decir, diseñar las clase bajo la metodología de Aprendizaje Basado en Problemas. \n",
    "\n"
   ]
  },
  {
   "cell_type": "markdown",
   "id": "53cc9115",
   "metadata": {
    "slideshow": {
     "slide_type": "slide"
    }
   },
   "source": [
    "## Agradecimientos  \n",
    "\n",
    "Doy gracias a Dios por la vida de mi Hijo Joseph Cañas Osorio y la madurez que ha alcanzado.\n",
    "\n",
    "Y a mi esposa Yasmira por su apoyo, orientación y acompañamiento. "
   ]
  }
 ],
 "metadata": {
  "celltoolbar": "Slideshow",
  "kernelspec": {
   "display_name": "Python 3 (ipykernel)",
   "language": "python",
   "name": "python3"
  },
  "language_info": {
   "codemirror_mode": {
    "name": "ipython",
    "version": 3
   },
   "file_extension": ".py",
   "mimetype": "text/x-python",
   "name": "python",
   "nbconvert_exporter": "python",
   "pygments_lexer": "ipython3",
   "version": "3.10.12"
  },
  "rise": {
   "enable_chalkboard": true,
   "theme": "sky",
   "transition": "zoom"
  }
 },
 "nbformat": 4,
 "nbformat_minor": 5
}
