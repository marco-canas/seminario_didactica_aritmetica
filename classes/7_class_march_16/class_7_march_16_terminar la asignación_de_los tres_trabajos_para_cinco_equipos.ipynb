{
 "cells": [
  {
   "cell_type": "markdown",
   "id": "0665f5d6",
   "metadata": {
    "slideshow": {
     "slide_type": "slide"
    }
   },
   "source": [
    "<table align=\"left\">\n",
    "  <td>\n",
    "    <a href=\"https://colab.research.google.com/github/marco-canas/4_didactica_aritmetica/blob/main/classes/5_class_feb_23_jueves_estilos_ense%C3%B1anza/5_class_feb_23.ipynb\" target=\"_parent\"><img src=\"https://colab.research.google.com/assets/colab-badge.svg\" alt=\"Open In Colab\"/></a>\n",
    "  </td>\n",
    "</table>"
   ]
  },
  {
   "cell_type": "markdown",
   "id": "50d464c6",
   "metadata": {
    "slideshow": {
     "slide_type": "slide"
    }
   },
   "source": [
    "## [Video de apoyo]()"
   ]
  },
  {
   "cell_type": "markdown",
   "id": "7e83aaca",
   "metadata": {
    "slideshow": {
     "slide_type": "slide"
    }
   },
   "source": [
    "# Clase 7 de marzo 21 de 2023 Calendarización de la presentación de las clases bajo en modelo de [aprendizaje invertido](https://www3.gobiernodecanarias.org/medusa/ecoescuela/pedagotic/aprendizaje-invertido-flipped-classroom/)\n",
    "\n"
   ]
  },
  {
   "cell_type": "markdown",
   "id": "28c1e186",
   "metadata": {
    "slideshow": {
     "slide_type": "slide"
    }
   },
   "source": [
    "Agenda\n",
    "\n",
    "* calendarizar las exposiciones de las clases sobre aprendizaje invertido\n",
    "\n",
    "* \n"
   ]
  },
  {
   "cell_type": "markdown",
   "id": "99c4da1f",
   "metadata": {
    "slideshow": {
     "slide_type": "slide"
    }
   },
   "source": [
    "<img src = 'https://encrypted-tbn0.gstatic.com/images?q=tbn:ANd9GcR3h4VSti4TQ-isXhgMWlYwYMGFGYpwqTFQBg&usqp=CAU'>"
   ]
  },
  {
   "cell_type": "markdown",
   "id": "dfc5a4d1",
   "metadata": {
    "slideshow": {
     "slide_type": "slide"
    }
   },
   "source": [
    "## La asignación de contenidos matemáticos a enseñar se da siguiendo un criterio de problemas de aprendizaje presentados en bachillerato y universidad"
   ]
  },
  {
   "cell_type": "code",
   "execution_count": null,
   "id": "188bbcbe",
   "metadata": {
    "slideshow": {
     "slide_type": "slide"
    }
   },
   "outputs": [],
   "source": []
  },
  {
   "cell_type": "markdown",
   "id": "7c961afc",
   "metadata": {
    "slideshow": {
     "slide_type": "slide"
    }
   },
   "source": [
    "## Referentes"
   ]
  },
  {
   "cell_type": "markdown",
   "id": "4fc611d7",
   "metadata": {},
   "source": [
    "## [Evaluación de la clase del profesor Marco Cañas](https://forms.office.com/Pages/ResponsePage.aspx?id=IefhmYRxjkmK_7KtTlPBwkanXIs1i1FEujpsZgO6dXpUREJPV1kxUk1JV1ozTFJIQVNIQjY5WEY3US4u)"
   ]
  },
  {
   "cell_type": "code",
   "execution_count": null,
   "id": "1f08a24b",
   "metadata": {},
   "outputs": [],
   "source": []
  },
  {
   "cell_type": "code",
   "execution_count": null,
   "id": "c81c55f9",
   "metadata": {},
   "outputs": [],
   "source": []
  }
 ],
 "metadata": {
  "celltoolbar": "Slideshow",
  "kernelspec": {
   "display_name": "Python 3 (ipykernel)",
   "language": "python",
   "name": "python3"
  },
  "language_info": {
   "codemirror_mode": {
    "name": "ipython",
    "version": 3
   },
   "file_extension": ".py",
   "mimetype": "text/x-python",
   "name": "python",
   "nbconvert_exporter": "python",
   "pygments_lexer": "ipython3",
   "version": "3.9.13"
  },
  "rise": {
   "enable_chalkboard": true,
   "theme": "sky",
   "transition": "zoom"
  }
 },
 "nbformat": 4,
 "nbformat_minor": 5
}
