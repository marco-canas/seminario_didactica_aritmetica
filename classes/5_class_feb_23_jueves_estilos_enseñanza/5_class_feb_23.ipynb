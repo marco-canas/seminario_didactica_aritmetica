{
 "cells": [
  {
   "cell_type": "markdown",
   "id": "c7e4ceaf",
   "metadata": {
    "slideshow": {
     "slide_type": "slide"
    }
   },
   "source": [
    "<table align=\"left\">\n",
    "  <td>\n",
    "    <a href=\"https://colab.research.google.com/github/marco-canas/4_didactica_aritmetica/blob/main/classes/5_class_feb_23_jueves_estilos_ense%C3%B1anza/5_class_feb_23.ipynb\" target=\"_parent\"><img src=\"https://colab.research.google.com/assets/colab-badge.svg\" alt=\"Open In Colab\"/></a>\n",
    "  </td>\n",
    "</table>"
   ]
  },
  {
   "cell_type": "markdown",
   "id": "fcc4ae63",
   "metadata": {
    "slideshow": {
     "slide_type": "slide"
    }
   },
   "source": [
    "## [Video de apoyo sobre estilos de enseñanza](https://www.youtube.com/watch?v=MyXn2pk9LyQ&list=PLbk60veMSVKsQ3m05hbPXCscPCJsrnLWU&index=12)"
   ]
  },
  {
   "cell_type": "markdown",
   "id": "74760812",
   "metadata": {
    "slideshow": {
     "slide_type": "slide"
    }
   },
   "source": [
    "# Clase 5 del 23 de febrero de 2023\n",
    "\n",
    "Modelo pedagógico que sustenta estos cuadernos y videos de apoyo. [Aula invertiva](https://udeaeduco-my.sharepoint.com/:b:/g/personal/marco_canas_udea_edu_co/EagoH3hpbShEub1IqCmJRegBJr0fWJw48dvWgUpDnXx5Kw?e=f80lSj) o Pedagogía invertida. "
   ]
  },
  {
   "cell_type": "markdown",
   "id": "7b39431e",
   "metadata": {
    "slideshow": {
     "slide_type": "slide"
    }
   },
   "source": [
    "## Agenda\n",
    "\n",
    "* Presentación de algunos estilos de enseñanza según [Paulo Emilio Oviedo](https://ciencia.lasalle.edu.co/cgi/viewcontent.cgi?article=1064&context=ap#:~:text=Los%20estilos%20de%20ense%C3%B1anza%20han%20sido%20conceptualizados%20en,Concepci%C3%B3n%20que%20ha%20sido%20fundamentada%20desde%20diversos%20autores.)\n",
    "\n",
    "* presentación del método de sustitución con uno de los estilos de enseñanza de Paulo Emilio Oviedo. \n",
    "\n"
   ]
  },
  {
   "cell_type": "markdown",
   "id": "094d9f5f",
   "metadata": {
    "slideshow": {
     "slide_type": "slide"
    }
   },
   "source": [
    "# Estilos de enseñanza\n",
    "\n",
    "* Experto\n",
    "* Autoridad formal. \n",
    "* \n",
    "* "
   ]
  },
  {
   "cell_type": "markdown",
   "id": "c2388b3b",
   "metadata": {
    "slideshow": {
     "slide_type": "slide"
    }
   },
   "source": [
    "## [Video de apoyo a la presentación de algunos estilos de enseñanza y algunos estilos de aprendizaje](https://www.youtube.com/watch?v=GYfnVTuNB58) "
   ]
  },
  {
   "cell_type": "markdown",
   "id": "b6a8faf5",
   "metadata": {
    "slideshow": {
     "slide_type": "slide"
    }
   },
   "source": [
    "# El estilo de enseñanza del facilitador en la enseñanza de la de la aritmética desde situaciones problemáticas y con el modelo pedagógico de aula invertida"
   ]
  },
  {
   "cell_type": "markdown",
   "id": "8cd4a643",
   "metadata": {
    "slideshow": {
     "slide_type": "slide"
    }
   },
   "source": [
    "### Estilo de enseñanza del Facilitador\n",
    "\n",
    "* Es aquel que guía a los estudiantes hacia el aprendizaje mediante cuestionamientos alternativos y toma de decisiones.   \n",
    "\n",
    "* Destaca el desarrollo de los estudiantes con miras a la independencia, la iniciativa y la responsabilidad.  \n",
    "\n",
    "* Gusta del trabajo por medio de proyectos o problemas que permiten a los estudiantes aprender por su cuenta y en los que la función del profesor es solo de asesoría."
   ]
  },
  {
   "cell_type": "code",
   "execution_count": null,
   "id": "d48717a1",
   "metadata": {
    "slideshow": {
     "slide_type": "slide"
    }
   },
   "outputs": [],
   "source": []
  },
  {
   "cell_type": "markdown",
   "id": "1b63cbbf",
   "metadata": {
    "slideshow": {
     "slide_type": "slide"
    }
   },
   "source": [
    "## Prerrequisitos para entender el problema  \n",
    "\n",
    "* el indice que python asocia a cada letra en el alfabeto. \n",
    "* el cero es congruente con el 26 modulo 26. \n",
    "* en general el cero es congruente con $m$ módulo $m$"
   ]
  },
  {
   "cell_type": "code",
   "execution_count": 9,
   "id": "5a925f2b",
   "metadata": {
    "slideshow": {
     "slide_type": "slide"
    }
   },
   "outputs": [
    {
     "data": {
      "text/plain": [
       "'A'"
      ]
     },
     "execution_count": 9,
     "metadata": {},
     "output_type": "execute_result"
    }
   ],
   "source": [
    "import string\n",
    "\n",
    "string.ascii_uppercase[0]"
   ]
  },
  {
   "cell_type": "markdown",
   "id": "f8bd9a19",
   "metadata": {
    "slideshow": {
     "slide_type": "slide"
    }
   },
   "source": [
    "## El método de sustitución"
   ]
  },
  {
   "cell_type": "code",
   "execution_count": null,
   "id": "6fb9cfa6",
   "metadata": {
    "slideshow": {
     "slide_type": "slide"
    }
   },
   "outputs": [],
   "source": [
    "import string # \n",
    "\n",
    "def create_shift_substitutions(n):\n",
    "    encoding = {}   # crea el diccionario vacío para la función codificadora\n",
    "    decoding = {}   # crea el diccionario vacío para la función decodificadora\n",
    "    alphabet_size = len(string.ascii_uppercase) \n",
    "    # toma la longitud del alfabeto de las letras mayúsculas\n",
    "    for i in range(tamaño_del_alfabeto):\n",
    "        letra = string.ascii_uppercase[i]\n",
    "        letra_sustituta = string.ascii_uppercase[(i+n)%tamaño_del_alfabeto]\n",
    "\n",
    "        encoding[letter] = subst_letter\n",
    "        decoding[subst_letter] = letter\n",
    "    return encoding, decoding"
   ]
  },
  {
   "cell_type": "code",
   "execution_count": 8,
   "id": "30c7b044",
   "metadata": {
    "slideshow": {
     "slide_type": "slide"
    }
   },
   "outputs": [
    {
     "name": "stdout",
     "output_type": "stream",
     "text": [
      "A B\n",
      "B C\n",
      "C D\n",
      "D E\n",
      "E F\n",
      "F G\n",
      "G H\n",
      "H I\n",
      "I J\n",
      "J K\n",
      "K L\n",
      "L M\n",
      "M N\n",
      "N O\n",
      "O P\n",
      "P Q\n",
      "Q R\n",
      "R S\n",
      "S T\n",
      "T U\n",
      "U V\n",
      "V W\n",
      "W X\n",
      "X Y\n",
      "Y Z\n",
      "Z A\n"
     ]
    }
   ],
   "source": [
    "import string \n",
    "for i in range(26):\n",
    "    letra = string.ascii_uppercase[i]\n",
    "    letra_sustituta = string.ascii_uppercase[(i+1)%26]\n",
    "    print(letra, letra_sustituta)"
   ]
  },
  {
   "cell_type": "code",
   "execution_count": null,
   "id": "26a6d709",
   "metadata": {
    "slideshow": {
     "slide_type": "slide"
    }
   },
   "outputs": [],
   "source": []
  },
  {
   "cell_type": "code",
   "execution_count": null,
   "id": "e2342a68",
   "metadata": {
    "slideshow": {
     "slide_type": "slide"
    }
   },
   "outputs": [],
   "source": [
    "create_shift_substitutions(n = 1)[0]"
   ]
  },
  {
   "cell_type": "markdown",
   "id": "42a1a942",
   "metadata": {
    "slideshow": {
     "slide_type": "slide"
    }
   },
   "source": [
    "Página 168 de [carlos Uzcátegui](https://udeaeduco-my.sharepoint.com/:b:/g/personal/marco_canas_udea_edu_co/ETDikm-lVl1Or8XoEo9oyh0BEti9Zs8le-f0D-dBdtZmbA?e=7IYB9A). La relación de congruencia en los enteros. "
   ]
  },
  {
   "cell_type": "markdown",
   "id": "f44ea5d1",
   "metadata": {
    "slideshow": {
     "slide_type": "slide"
    }
   },
   "source": [
    "## [Video de apoyo para la enseñanza de la congruencia como concepto necesario en el proceso de codificación por sustitución](https://www.youtube.com/watch?v=MyXn2pk9LyQ)"
   ]
  },
  {
   "cell_type": "code",
   "execution_count": null,
   "id": "16b19639",
   "metadata": {
    "slideshow": {
     "slide_type": "slide"
    }
   },
   "outputs": [],
   "source": [
    "def encode(message, subst):\n",
    "    cipher = \"\"\n",
    "    for letter in message:\n",
    "        if letter in subst:\n",
    "            cipher += subst[letter]\n",
    "        else:\n",
    "            cipher += letter\n",
    "    return cipher"
   ]
  },
  {
   "cell_type": "code",
   "execution_count": null,
   "id": "212ac560",
   "metadata": {
    "slideshow": {
     "slide_type": "slide"
    }
   },
   "outputs": [],
   "source": [
    "def decode(message, subst):\n",
    "    return encode(message, subst)"
   ]
  },
  {
   "cell_type": "markdown",
   "id": "6752f892",
   "metadata": {
    "slideshow": {
     "slide_type": "slide"
    }
   },
   "source": [
    "Note: Compactness vs. Clarity\n",
    "We tend to favor universal clarity over compactness when there is a conflict \n",
    "between them. We will even write things in ways that might not be widely \n",
    "considered idiomatic if it helps to illustrate what is happening.\n",
    "The code in Listing 1-2 has a nice example of favoring clarity over common idioms. \n",
    "An idiomatic function body would probably be a one-liner:"
   ]
  },
  {
   "cell_type": "code",
   "execution_count": 1,
   "id": "0ad77cd6",
   "metadata": {
    "slideshow": {
     "slide_type": "slide"
    }
   },
   "outputs": [],
   "source": [
    "def encode(message, subst):\n",
    "     return \"\".join(subst.get(x, x) for x in message)"
   ]
  },
  {
   "cell_type": "markdown",
   "id": "6e0e705f",
   "metadata": {
    "slideshow": {
     "slide_type": "slide"
    }
   },
   "source": [
    "That’s a lovely bit of Python if you’re used to it, but we’re trying not to make too many assumptions here"
   ]
  },
  {
   "cell_type": "markdown",
   "id": "cd943333",
   "metadata": {
    "slideshow": {
     "slide_type": "slide"
    }
   },
   "source": [
    "Eso es una parte encantadora de Python si estás acostumbrado, pero estamos tratando de no hacer demasiadas suposiciones aquí."
   ]
  },
  {
   "cell_type": "markdown",
   "id": "6e71178a",
   "metadata": {
    "slideshow": {
     "slide_type": "slide"
    }
   },
   "source": [
    "In our implementation, the encode function takes an incoming message and a substitution dictionary. "
   ]
  },
  {
   "cell_type": "markdown",
   "id": "5797bb70",
   "metadata": {
    "slideshow": {
     "slide_type": "slide"
    }
   },
   "source": [
    "For each letter in the message, we replace it if a substitution is available. "
   ]
  },
  {
   "cell_type": "markdown",
   "id": "db7f4314",
   "metadata": {
    "slideshow": {
     "slide_type": "slide"
    }
   },
   "source": [
    "Otherwise, we just include the character itself with no transformation (preserving spaces and punctuation)."
   ]
  },
  {
   "cell_type": "markdown",
   "id": "61c1adbe",
   "metadata": {
    "slideshow": {
     "slide_type": "slide"
    }
   },
   "source": [
    "Obviously, the decode operation in this listing is completely unnecessary, but we have included it to emphasize that encoding and decoding in a substitution cipher work exactly the same. "
   ]
  },
  {
   "cell_type": "markdown",
   "id": "ec945f90",
   "metadata": {
    "slideshow": {
     "slide_type": "slide"
    }
   },
   "source": [
    "Only the dictionary needs to change.\n",
    "These functions are sufficient to build an application, but for fun we will add in \n",
    "another function in Listing 1-3 to take a substitution dictionary and create a string that \n",
    "shows the mapping. This will allow us to print out our different tables created from \n",
    "different shift values."
   ]
  },
  {
   "cell_type": "markdown",
   "id": "0b1c2c12",
   "metadata": {
    "slideshow": {
     "slide_type": "slide"
    }
   },
   "source": [
    "# Listing 1-3. Printable Substitutions"
   ]
  },
  {
   "cell_type": "code",
   "execution_count": 3,
   "id": "ba96e87b",
   "metadata": {
    "slideshow": {
     "slide_type": "slide"
    }
   },
   "outputs": [
    {
     "ename": "IndentationError",
     "evalue": "unindent does not match any outer indentation level (<tokenize>, line 6)",
     "output_type": "error",
     "traceback": [
      "\u001b[1;36m  File \u001b[1;32m\"<tokenize>\"\u001b[1;36m, line \u001b[1;32m6\u001b[0m\n\u001b[1;33m    6\u001b[0m\n\u001b[1;37m    ^\u001b[0m\n\u001b[1;31mIndentationError\u001b[0m\u001b[1;31m:\u001b[0m unindent does not match any outer indentation level\n"
     ]
    }
   ],
   "source": [
    "# Partial Listing: Some Assembly Required\n",
    "\n",
    "def printable_substitution(subst):\n",
    "   # Sort by source character so things are alphabetized.\n",
    "    mapping = sorted(subst.items())\n",
    " 6\n",
    " 7 # Then create two lines: source above, target beneath.\n",
    " 8 alphabet_line = \" \".join(letter for letter, _ in mapping)\n",
    " 9 cipher_line = \" \".join(subst_letter for _, subst_letter in mapping)\n",
    "10 return \"{}\\n{}\".format(alphabet_line, cipher_line)"
   ]
  },
  {
   "cell_type": "markdown",
   "id": "ea77e45e",
   "metadata": {
    "slideshow": {
     "slide_type": "slide"
    }
   },
   "source": [
    "## Grupos de trabajo asignados"
   ]
  },
  {
   "cell_type": "markdown",
   "id": "84e06243",
   "metadata": {},
   "source": [
    "Equipo 1: Merlis y Fancisco:\n",
    "Estilo de enseñanza: Facilitador. \n",
    "\n"
   ]
  },
  {
   "cell_type": "markdown",
   "id": "dd0f1ed2",
   "metadata": {
    "slideshow": {
     "slide_type": "slide"
    }
   },
   "source": [
    "Equipo 2: Estefania Cali, y Yeify\n",
    "\n",
    "Estilo de enseñanza: Delegador. "
   ]
  },
  {
   "cell_type": "markdown",
   "id": "89d79550",
   "metadata": {
    "slideshow": {
     "slide_type": "slide"
    }
   },
   "source": [
    "Equipo 3: Manuel y Fred\n",
    "\n",
    "Estilo de enseñanza: Experto. "
   ]
  },
  {
   "cell_type": "markdown",
   "id": "d304de97",
   "metadata": {
    "slideshow": {
     "slide_type": "slide"
    }
   },
   "source": [
    "Equipo 4: Angela y Leonel.   \n",
    "Estilo de enseñanza: Personal. \n"
   ]
  },
  {
   "cell_type": "markdown",
   "id": "74f53dc8",
   "metadata": {},
   "source": [
    "Equipo 5: Diego y Angelica\n",
    "\n",
    "Estolo de enseñanza: Autoridad formal"
   ]
  },
  {
   "cell_type": "markdown",
   "id": "d2f551ae",
   "metadata": {
    "slideshow": {
     "slide_type": "slide"
    }
   },
   "source": [
    "### Recomendaciones para los docentes\n",
    "\n",
    "* Tratemos de teorizar nuestra práctica de enseñanza. \n",
    "\n",
    "* parece más adecuado enseñar actualmente desde **situaciones problema** y no desde la adquisición de contenidos lineales. Es mejor enseñar los conceptos matemáticos que surgen de la solución de un problema. \n",
    "\n",
    "* Tal vez ya debemos enseñar a convivir, a vivir en comiunidad, a liderar, a tomar decisiones, a trabajar en equipo(Marco Julio Cañas). "
   ]
  },
  {
   "cell_type": "markdown",
   "id": "83fbb460",
   "metadata": {
    "slideshow": {
     "slide_type": "slide"
    }
   },
   "source": [
    "## Tareas de fijación de conceptos y adquisición de habilidades  \n",
    "\n"
   ]
  },
  {
   "cell_type": "markdown",
   "id": "db41b998",
   "metadata": {
    "slideshow": {
     "slide_type": "slide"
    }
   },
   "source": [
    "* Determine las clase residuales que determina la relación de congruencia módulo 2 en los números enteros. "
   ]
  },
  {
   "cell_type": "markdown",
   "id": "d2ac37cc",
   "metadata": {
    "slideshow": {
     "slide_type": "slide"
    }
   },
   "source": [
    "## Evaluación de aprendizajes (Posibles ejercicios y problemas de parcial o quiz)"
   ]
  },
  {
   "cell_type": "code",
   "execution_count": null,
   "id": "cd6c74c7",
   "metadata": {
    "slideshow": {
     "slide_type": "slide"
    }
   },
   "outputs": [],
   "source": []
  },
  {
   "cell_type": "markdown",
   "id": "fb7f2919",
   "metadata": {
    "slideshow": {
     "slide_type": "slide"
    }
   },
   "source": [
    "# Vocabulary  \n",
    "\n",
    "* cipher: cifrar. "
   ]
  },
  {
   "cell_type": "markdown",
   "id": "56ebe72a",
   "metadata": {
    "slideshow": {
     "slide_type": "slide"
    }
   },
   "source": [
    "## Referentes"
   ]
  },
  {
   "cell_type": "markdown",
   "id": "debfd3f3",
   "metadata": {
    "slideshow": {
     "slide_type": "slide"
    }
   },
   "source": [
    "* Paulo Emilio Oviedo. Universidad de La Salle, poviedo@unisalle.edu.co. Estilos de enseñanza y estilos de aprendizaje: implicaciones para la educación por ciclos. \n",
    "\n",
    "* la inteligencia artificial chatGPT: https://openai.com/blog/chatgpt/\n",
    "\n",
    "* La pedagogía del Aula invertida y el aprendizaje significativo: "
   ]
  },
  {
   "cell_type": "markdown",
   "id": "51c6e703",
   "metadata": {
    "slideshow": {
     "slide_type": "slide"
    }
   },
   "source": [
    "### [Continue su estudio en didáctica de la aritmética con la clase 6 aquí](https://github.com/marco-canas/4_didactica_aritmetica/blob/main/classes/6_class_feb_28_martes/6_class.ipynb)"
   ]
  },
  {
   "cell_type": "code",
   "execution_count": null,
   "id": "e1fed40f",
   "metadata": {},
   "outputs": [],
   "source": []
  },
  {
   "cell_type": "code",
   "execution_count": 1,
   "id": "8a763112",
   "metadata": {},
   "outputs": [],
   "source": [
    "import string as s"
   ]
  },
  {
   "cell_type": "code",
   "execution_count": 4,
   "id": "c83a672d",
   "metadata": {
    "slideshow": {
     "slide_type": "slide"
    }
   },
   "outputs": [],
   "source": [
    "ALFABETO = s.ascii_uppercase"
   ]
  },
  {
   "cell_type": "code",
   "execution_count": 7,
   "id": "64b86cc1",
   "metadata": {
    "slideshow": {
     "slide_type": "slide"
    }
   },
   "outputs": [
    {
     "data": {
      "text/plain": [
       "'C'"
      ]
     },
     "execution_count": 7,
     "metadata": {},
     "output_type": "execute_result"
    }
   ],
   "source": [
    "ALFABETO[2]"
   ]
  },
  {
   "cell_type": "code",
   "execution_count": 10,
   "id": "a7fd72ea",
   "metadata": {
    "slideshow": {
     "slide_type": "slide"
    }
   },
   "outputs": [
    {
     "name": "stdout",
     "output_type": "stream",
     "text": [
      "A B\n",
      "B C\n",
      "C D\n",
      "D E\n",
      "E F\n",
      "F G\n",
      "G H\n",
      "H I\n",
      "I J\n",
      "J K\n",
      "K L\n",
      "L M\n",
      "M N\n",
      "N O\n",
      "O P\n",
      "P Q\n",
      "Q R\n",
      "R S\n",
      "S T\n",
      "T U\n",
      "U V\n",
      "V W\n",
      "W X\n",
      "X Y\n",
      "Y Z\n",
      "Z A\n"
     ]
    }
   ],
   "source": [
    "for i in range(26):\n",
    "    letra = ALFABETO[i]\n",
    "    letra_sustituta = ALFABETO[(i+1)%26]\n",
    "    print(letra, letra_sustituta)"
   ]
  },
  {
   "cell_type": "code",
   "execution_count": 8,
   "id": "edb07669",
   "metadata": {},
   "outputs": [
    {
     "data": {
      "text/plain": [
       "[0,\n",
       " 1,\n",
       " 2,\n",
       " 3,\n",
       " 4,\n",
       " 5,\n",
       " 6,\n",
       " 7,\n",
       " 8,\n",
       " 9,\n",
       " 10,\n",
       " 11,\n",
       " 12,\n",
       " 13,\n",
       " 14,\n",
       " 15,\n",
       " 16,\n",
       " 17,\n",
       " 18,\n",
       " 19,\n",
       " 20,\n",
       " 21,\n",
       " 22,\n",
       " 23,\n",
       " 24,\n",
       " 25]"
      ]
     },
     "execution_count": 8,
     "metadata": {},
     "output_type": "execute_result"
    }
   ],
   "source": []
  },
  {
   "cell_type": "code",
   "execution_count": null,
   "id": "cc8b2d82",
   "metadata": {},
   "outputs": [],
   "source": []
  }
 ],
 "metadata": {
  "celltoolbar": "Slideshow",
  "kernelspec": {
   "display_name": "Python 3 (ipykernel)",
   "language": "python",
   "name": "python3"
  },
  "language_info": {
   "codemirror_mode": {
    "name": "ipython",
    "version": 3
   },
   "file_extension": ".py",
   "mimetype": "text/x-python",
   "name": "python",
   "nbconvert_exporter": "python",
   "pygments_lexer": "ipython3",
   "version": "3.9.13"
  },
  "rise": {
   "enable_chalkboard": true,
   "theme": "sky"
  }
 },
 "nbformat": 4,
 "nbformat_minor": 5
}
