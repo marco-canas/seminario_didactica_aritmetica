{
 "cells": [
  {
   "cell_type": "markdown",
   "id": "41d690b0",
   "metadata": {
    "slideshow": {
     "slide_type": "slide"
    }
   },
   "source": [
    "<table align=\"left\">\n",
    "  <td>\n",
    "    <a href=\"https://colab.research.google.com/github/marco-canas/4_didactica_aritmetica/blob/main/classes/2_class_14_feb_las_clases_modulares/2_class_14_feb_clases_modulares.ipynb\" target=\"_parent\"><img src=\"https://colab.research.google.com/assets/colab-badge.svg\" alt=\"Open In Colab\"/></a>\n",
    "  </td>\n",
    "</table>"
   ]
  },
  {
   "cell_type": "markdown",
   "id": "c20599ab",
   "metadata": {
    "slideshow": {
     "slide_type": "slide"
    }
   },
   "source": [
    "## [Video de apoyo]()"
   ]
  },
  {
   "cell_type": "markdown",
   "id": "d709e1ba",
   "metadata": {
    "slideshow": {
     "slide_type": "slide"
    }
   },
   "source": [
    "# Clase 2. 14 de febrero. Presentación del programa del curso. \n",
    "\n",
    "Fundamentos de la aritmética y [didáctica de la aritmética](https://drive.google.com/drive/folders/1dNHbB0Vd00qWRchty1TIRNQVvi7IzI21)  \n"
   ]
  },
  {
   "cell_type": "markdown",
   "id": "b0bece7e",
   "metadata": {
    "slideshow": {
     "slide_type": "slide"
    }
   },
   "source": [
    "## [Objetivo de la clase 1](https://docs.google.com/document/d/189sr9HbEvo6vLK7ByTL-YCth3_gXddC4/edit)"
   ]
  },
  {
   "cell_type": "markdown",
   "id": "4cc1dec3",
   "metadata": {
    "slideshow": {
     "slide_type": "slide"
    }
   },
   "source": [
    "Adquirir el concepto de clases modulares y su aplicabilidad a la protección de la información. "
   ]
  },
  {
   "cell_type": "markdown",
   "id": "80333a9d",
   "metadata": {
    "slideshow": {
     "slide_type": "slide"
    }
   },
   "source": [
    "## Conceptos previos necesarios para alcanzar el objetivo de la clase"
   ]
  },
  {
   "cell_type": "markdown",
   "id": "947ed874",
   "metadata": {
    "slideshow": {
     "slide_type": "slide"
    }
   },
   "source": [
    "1. el operador `%` de python. En la siguiente línea experimentaremos con el operador `%` de python"
   ]
  },
  {
   "cell_type": "code",
   "execution_count": 2,
   "id": "f01ec5ca",
   "metadata": {
    "slideshow": {
     "slide_type": "slide"
    }
   },
   "outputs": [
    {
     "data": {
      "text/plain": [
       "0"
      ]
     },
     "execution_count": 2,
     "metadata": {},
     "output_type": "execute_result"
    }
   ],
   "source": [
    "6%2  # el operador binario % nos entrega el residuo de la división de dos números dados"
   ]
  },
  {
   "cell_type": "code",
   "execution_count": 5,
   "id": "43b5a944",
   "metadata": {
    "slideshow": {
     "slide_type": "slide"
    }
   },
   "outputs": [],
   "source": [
    "import numpy as np \n",
    "\n",
    "digitos = np.arange(0, 10)"
   ]
  },
  {
   "cell_type": "code",
   "execution_count": 7,
   "id": "4663b4cf",
   "metadata": {
    "slideshow": {
     "slide_type": "slide"
    }
   },
   "outputs": [
    {
     "data": {
      "text/plain": [
       "array([0, 1, 2, 3, 4, 5, 6, 7, 8, 9])"
      ]
     },
     "execution_count": 7,
     "metadata": {},
     "output_type": "execute_result"
    }
   ],
   "source": [
    "digitos "
   ]
  },
  {
   "cell_type": "code",
   "execution_count": 6,
   "id": "0a74ba32",
   "metadata": {
    "slideshow": {
     "slide_type": "slide"
    }
   },
   "outputs": [
    {
     "data": {
      "text/plain": [
       "array([0, 1, 0, 1, 0, 1, 0, 1, 0, 1], dtype=int32)"
      ]
     },
     "execution_count": 6,
     "metadata": {},
     "output_type": "execute_result"
    }
   ],
   "source": [
    "digitos%2"
   ]
  },
  {
   "cell_type": "markdown",
   "id": "a41a7e01",
   "metadata": {
    "slideshow": {
     "slide_type": "slide"
    }
   },
   "source": [
    "# Ahora presentaremos la temática de hoy"
   ]
  },
  {
   "cell_type": "markdown",
   "id": "fe3d1e50",
   "metadata": {
    "slideshow": {
     "slide_type": "slide"
    }
   },
   "source": [
    "Objetivo: adquirir el concepto de clases modulares desde [Carlos Uzcategui](https://udeaeduco-my.sharepoint.com/:b:/r/personal/marco_canas_udea_edu_co/Documents/plan_trabajo/ref/Logica_Conjuntos_Carlos_Uzc.pdf?csf=1&web=1&e=rghLyw)"
   ]
  },
  {
   "cell_type": "markdown",
   "id": "0a906dee",
   "metadata": {
    "slideshow": {
     "slide_type": "slide"
    }
   },
   "source": [
    "Leamos línea por línea el siguiente script de Python para crear funciones codificadoras y funciones decodificadoras. "
   ]
  },
  {
   "cell_type": "markdown",
   "id": "1698dcf1",
   "metadata": {
    "slideshow": {
     "slide_type": "slide"
    }
   },
   "source": [
    "# Presaberes para la lectura de la función `create_shift_subtitucions()` "
   ]
  },
  {
   "cell_type": "markdown",
   "id": "8b1da507",
   "metadata": {
    "slideshow": {
     "slide_type": "slide"
    }
   },
   "source": [
    "* El módulo [string](https://docs.python.org/3/library/string.html) de Python"
   ]
  },
  {
   "cell_type": "code",
   "execution_count": 8,
   "id": "7c30d486",
   "metadata": {
    "slideshow": {
     "slide_type": "slide"
    }
   },
   "outputs": [
    {
     "data": {
      "text/plain": [
       "'abcdefghijklmnopqrstuvwxyz'"
      ]
     },
     "execution_count": 8,
     "metadata": {},
     "output_type": "execute_result"
    }
   ],
   "source": [
    "import string\n",
    "\n",
    "string.ascii_lowercase"
   ]
  },
  {
   "cell_type": "markdown",
   "id": "dce70f27",
   "metadata": {
    "slideshow": {
     "slide_type": "slide"
    }
   },
   "source": [
    "## [Video de apoyo al aprendizaje del la obtención del alfabeto](https://www.youtube.com/watch?v=F-P8MG_Lr4c)"
   ]
  },
  {
   "cell_type": "code",
   "execution_count": null,
   "id": "35e4d788",
   "metadata": {
    "slideshow": {
     "slide_type": "slide"
    }
   },
   "outputs": [],
   "source": [
    "import string\n",
    "\n",
    "def create_shift_substitutions(n):\n",
    "    encoding = {}\n",
    "    decoding = {}\n",
    "    alphabet_size = len(string.ascii_uppercase)\n",
    "    for i in range(alphabet_size):\n",
    "        letter = string.ascii_uppercase[i]\n",
    "        subst_letter = string.ascii_uppercase[(i+n)%alphabet_size]\n",
    "        encoding[letter] = subst_letter\n",
    "        decoding[subst_letter] = letter\n",
    "    return encoding, decoding"
   ]
  },
  {
   "cell_type": "code",
   "execution_count": null,
   "id": "8e3542ac",
   "metadata": {
    "slideshow": {
     "slide_type": "slide"
    }
   },
   "outputs": [],
   "source": [
    "create_shift_substitutions(-1)"
   ]
  },
  {
   "cell_type": "markdown",
   "id": "248d06f3",
   "metadata": {
    "slideshow": {
     "slide_type": "slide"
    }
   },
   "source": [
    "Observe that this function is parameterized on n, the shift parameter. "
   ]
  },
  {
   "cell_type": "markdown",
   "id": "c0b85d08",
   "metadata": {
    "slideshow": {
     "slide_type": "slide"
    }
   },
   "source": [
    "We don’t have any error checking in this function; we will check parameters elsewhere. "
   ]
  },
  {
   "cell_type": "markdown",
   "id": "e2c10bae",
   "metadata": {
    "slideshow": {
     "slide_type": "slide"
    }
   },
   "source": [
    "Note, though, that any integer value of n is valid because Python handles negative modulus in a reasonable way. "
   ]
  },
  {
   "cell_type": "markdown",
   "id": "6b0d4f82",
   "metadata": {
    "slideshow": {
     "slide_type": "slide"
    }
   },
   "source": [
    "Even the value 0 is okay: it just produces a mapping from each character to itself! Values larger than 26 also work fine because we apply a final modulus of alphabet_size before indexing into the alphabet."
   ]
  },
  {
   "cell_type": "markdown",
   "id": "660a4ebc",
   "metadata": {
    "slideshow": {
     "slide_type": "slide"
    }
   },
   "source": [
    "Now, for encoding and decoding, we simply substitute each letter in a message for \n",
    "one in the corresponding dictionary, shown in Listing 1-2."
   ]
  },
  {
   "cell_type": "markdown",
   "id": "1e93af5e",
   "metadata": {
    "slideshow": {
     "slide_type": "slide"
    }
   },
   "source": [
    "Observe que esta función está parametrizada en $n$, el parámetro de desplazamiento. "
   ]
  },
  {
   "cell_type": "markdown",
   "id": "b897003e",
   "metadata": {
    "slideshow": {
     "slide_type": "slide"
    }
   },
   "source": [
    "No tenemos ningún error al verificar esta función; comprobaremos los parámetros en otro lugar. "
   ]
  },
  {
   "cell_type": "markdown",
   "id": "ec836bd9",
   "metadata": {
    "slideshow": {
     "slide_type": "slide"
    }
   },
   "source": [
    "Tenga en cuenta, sin embargo, que cualquier valor entero de $n$ es válido porque Python maneja el módulo negativo de manera razonable. "
   ]
  },
  {
   "cell_type": "markdown",
   "id": "68f8bb05",
   "metadata": {
    "slideshow": {
     "slide_type": "slide"
    }
   },
   "source": [
    "Incluso el valor 0 está bien: ¡simplemente produce una asignación de cada carácter a sí mismo! Los valores mayores de 26 también funcionan bien porque aplicamos un módulo final de `alphabet_size` antes de indexar en el alfabeto.\n",
    "Ahora, para codificar y decodificar, simplemente sustituimos cada letra de un mensaje por una en el diccionario correspondiente, que se muestra en el Listado 1-2."
   ]
  },
  {
   "cell_type": "markdown",
   "id": "58549516",
   "metadata": {
    "slideshow": {
     "slide_type": "slide"
    }
   },
   "source": [
    "# Tipos de datos en Python"
   ]
  },
  {
   "cell_type": "markdown",
   "id": "12567ed9",
   "metadata": {
    "slideshow": {
     "slide_type": "slide"
    }
   },
   "source": [
    "## Primer tipo de datos "
   ]
  },
  {
   "cell_type": "code",
   "execution_count": 1,
   "id": "7b95f493",
   "metadata": {
    "slideshow": {
     "slide_type": "slide"
    }
   },
   "outputs": [],
   "source": [
    "nombre_de_un_estudiante = \"Sandy Villa\""
   ]
  },
  {
   "cell_type": "code",
   "execution_count": 7,
   "id": "44cf63f7",
   "metadata": {
    "slideshow": {
     "slide_type": "slide"
    }
   },
   "outputs": [
    {
     "data": {
      "text/plain": [
       "'Sandy Villa'"
      ]
     },
     "execution_count": 7,
     "metadata": {},
     "output_type": "execute_result"
    }
   ],
   "source": [
    "nombre_de_un_estudiante"
   ]
  },
  {
   "cell_type": "markdown",
   "id": "610a33e5",
   "metadata": {
    "slideshow": {
     "slide_type": "slide"
    }
   },
   "source": [
    "Los números naturales sirven para contar y ordenar y tambien indexar y y así acceder a la información. "
   ]
  },
  {
   "cell_type": "markdown",
   "id": "1fab3bda",
   "metadata": {
    "slideshow": {
     "slide_type": "slide"
    }
   },
   "source": [
    "#  Segundo tipo de datos "
   ]
  },
  {
   "cell_type": "markdown",
   "id": "a547bc96",
   "metadata": {
    "slideshow": {
     "slide_type": "slide"
    }
   },
   "source": [
    "Los tipo int o integer o enteros "
   ]
  },
  {
   "cell_type": "code",
   "execution_count": 8,
   "id": "0626abfe",
   "metadata": {
    "slideshow": {
     "slide_type": "slide"
    }
   },
   "outputs": [],
   "source": [
    "edad_de_marco = 48"
   ]
  },
  {
   "cell_type": "code",
   "execution_count": 9,
   "id": "74a9a997",
   "metadata": {
    "slideshow": {
     "slide_type": "slide"
    }
   },
   "outputs": [
    {
     "data": {
      "text/plain": [
       "int"
      ]
     },
     "execution_count": 9,
     "metadata": {},
     "output_type": "execute_result"
    }
   ],
   "source": [
    "type(edad_de_marco) "
   ]
  },
  {
   "cell_type": "markdown",
   "id": "0356440c",
   "metadata": {
    "slideshow": {
     "slide_type": "slide"
    }
   },
   "source": [
    "# Tercer tipo de datos "
   ]
  },
  {
   "cell_type": "markdown",
   "id": "1cf5c2f8",
   "metadata": {
    "slideshow": {
     "slide_type": "slide"
    }
   },
   "source": [
    "tipo float o de punto flotante"
   ]
  },
  {
   "cell_type": "code",
   "execution_count": 14,
   "id": "0445b656",
   "metadata": {
    "slideshow": {
     "slide_type": "slide"
    }
   },
   "outputs": [],
   "source": [
    "estatura_de_liliana = 1.60 "
   ]
  },
  {
   "cell_type": "code",
   "execution_count": 15,
   "id": "cfe834d7",
   "metadata": {
    "slideshow": {
     "slide_type": "slide"
    }
   },
   "outputs": [
    {
     "data": {
      "text/plain": [
       "float"
      ]
     },
     "execution_count": 15,
     "metadata": {},
     "output_type": "execute_result"
    }
   ],
   "source": [
    "type(estatura_de_liliana) "
   ]
  },
  {
   "cell_type": "code",
   "execution_count": 16,
   "id": "368d4980",
   "metadata": {
    "slideshow": {
     "slide_type": "slide"
    }
   },
   "outputs": [],
   "source": [
    "import numpy as np "
   ]
  },
  {
   "cell_type": "code",
   "execution_count": 35,
   "id": "b5014fa2",
   "metadata": {
    "slideshow": {
     "slide_type": "slide"
    }
   },
   "outputs": [
    {
     "data": {
      "text/plain": [
       "1.7320508075688772"
      ]
     },
     "execution_count": 35,
     "metadata": {},
     "output_type": "execute_result"
    }
   ],
   "source": [
    "np.sqrt(3)"
   ]
  },
  {
   "cell_type": "code",
   "execution_count": 19,
   "id": "5a164b55",
   "metadata": {
    "slideshow": {
     "slide_type": "slide"
    }
   },
   "outputs": [
    {
     "data": {
      "text/plain": [
       "'marco'"
      ]
     },
     "execution_count": 19,
     "metadata": {},
     "output_type": "execute_result"
    }
   ],
   "source": [
    "\"marco\""
   ]
  },
  {
   "cell_type": "markdown",
   "id": "bc9a5428",
   "metadata": {
    "slideshow": {
     "slide_type": "slide"
    }
   },
   "source": [
    "# Estructuras de datos "
   ]
  },
  {
   "cell_type": "markdown",
   "id": "5c133b48",
   "metadata": {
    "slideshow": {
     "slide_type": "slide"
    }
   },
   "source": [
    "# Listas"
   ]
  },
  {
   "cell_type": "code",
   "execution_count": 20,
   "id": "196603bf",
   "metadata": {
    "slideshow": {
     "slide_type": "slide"
    }
   },
   "outputs": [],
   "source": [
    "informacion_del_profesor = ['Marco Julio', 48, 1.65, 3012391137] "
   ]
  },
  {
   "cell_type": "code",
   "execution_count": 21,
   "id": "817466d1",
   "metadata": {
    "slideshow": {
     "slide_type": "slide"
    }
   },
   "outputs": [
    {
     "data": {
      "text/plain": [
       "'Marco Julio'"
      ]
     },
     "execution_count": 21,
     "metadata": {},
     "output_type": "execute_result"
    }
   ],
   "source": [
    "informacion_del_profesor[0]"
   ]
  },
  {
   "cell_type": "code",
   "execution_count": 24,
   "id": "ceea7b9a",
   "metadata": {
    "slideshow": {
     "slide_type": "slide"
    }
   },
   "outputs": [
    {
     "data": {
      "text/plain": [
       "3012391137"
      ]
     },
     "execution_count": 24,
     "metadata": {},
     "output_type": "execute_result"
    }
   ],
   "source": [
    "informacion_del_profesor[3]"
   ]
  },
  {
   "cell_type": "markdown",
   "id": "0e3be9a2",
   "metadata": {},
   "source": [
    "# Diccionarios "
   ]
  },
  {
   "cell_type": "code",
   "execution_count": 28,
   "id": "51658922",
   "metadata": {},
   "outputs": [],
   "source": [
    "informacion_del_prefesor_2 = {'nombre':'marco julio', 'edad':48, 'estatura':1.65, 'telefono':3012391137} "
   ]
  },
  {
   "cell_type": "code",
   "execution_count": 34,
   "id": "fa2f8281",
   "metadata": {},
   "outputs": [
    {
     "data": {
      "text/plain": [
       "3012391137"
      ]
     },
     "execution_count": 34,
     "metadata": {},
     "output_type": "execute_result"
    }
   ],
   "source": [
    "informacion_del_prefesor_2['telefono']"
   ]
  },
  {
   "cell_type": "code",
   "execution_count": null,
   "id": "b8a5fad6",
   "metadata": {},
   "outputs": [],
   "source": [
    "diccionario_codificador = {'A':'B', 'B':'C', }"
   ]
  },
  {
   "cell_type": "markdown",
   "id": "60c99ce5",
   "metadata": {},
   "source": [
    "## Cómo obtengo el alfabeto "
   ]
  },
  {
   "cell_type": "code",
   "execution_count": 40,
   "id": "36f1a7cc",
   "metadata": {
    "slideshow": {
     "slide_type": "slide"
    }
   },
   "outputs": [],
   "source": [
    "import string "
   ]
  },
  {
   "cell_type": "code",
   "execution_count": 41,
   "id": "094d8cb6",
   "metadata": {
    "slideshow": {
     "slide_type": "slide"
    }
   },
   "outputs": [
    {
     "data": {
      "text/plain": [
       "'abcdefghijklmnopqrstuvwxyz'"
      ]
     },
     "execution_count": 41,
     "metadata": {},
     "output_type": "execute_result"
    }
   ],
   "source": [
    "string.ascii_lowercase "
   ]
  },
  {
   "cell_type": "code",
   "execution_count": 42,
   "id": "4d679bb2",
   "metadata": {
    "slideshow": {
     "slide_type": "slide"
    }
   },
   "outputs": [],
   "source": [
    "alfabeto_en_minusculas = string.ascii_lowercase "
   ]
  },
  {
   "cell_type": "code",
   "execution_count": 47,
   "id": "87027117",
   "metadata": {
    "slideshow": {
     "slide_type": "slide"
    }
   },
   "outputs": [
    {
     "data": {
      "text/plain": [
       "'y'"
      ]
     },
     "execution_count": 47,
     "metadata": {},
     "output_type": "execute_result"
    }
   ],
   "source": [
    "alfabeto_en_minusculas[-]\n"
   ]
  },
  {
   "cell_type": "markdown",
   "id": "e59d6a1f",
   "metadata": {
    "slideshow": {
     "slide_type": "slide"
    }
   },
   "source": [
    "## Muestreme el alfabeto de uno en uno "
   ]
  },
  {
   "cell_type": "code",
   "execution_count": 53,
   "id": "1d4a487e",
   "metadata": {
    "scrolled": true,
    "slideshow": {
     "slide_type": "slide"
    }
   },
   "outputs": [
    {
     "name": "stdout",
     "output_type": "stream",
     "text": [
      "a\n",
      "b\n",
      "c\n",
      "d\n",
      "e\n",
      "f\n",
      "g\n",
      "h\n",
      "i\n",
      "j\n",
      "k\n",
      "l\n",
      "m\n",
      "n\n",
      "o\n",
      "p\n",
      "q\n",
      "r\n",
      "s\n",
      "t\n",
      "u\n",
      "v\n",
      "w\n",
      "x\n",
      "y\n",
      "z\n",
      "a\n",
      "b\n",
      "c\n",
      "d\n",
      "e\n",
      "f\n",
      "g\n",
      "h\n",
      "i\n",
      "j\n",
      "k\n",
      "l\n",
      "m\n",
      "n\n",
      "o\n",
      "p\n",
      "q\n",
      "r\n",
      "s\n",
      "t\n",
      "u\n",
      "v\n",
      "w\n",
      "x\n",
      "y\n",
      "z\n"
     ]
    }
   ],
   "source": [
    "for n in range(0,52):\n",
    "    print(alfabeto_en_minusculas[n%26])"
   ]
  },
  {
   "cell_type": "markdown",
   "id": "a29bc0a5",
   "metadata": {
    "slideshow": {
     "slide_type": "slide"
    }
   },
   "source": [
    "## Tareas de fijación de conceptos y adquisición de habilidades"
   ]
  },
  {
   "cell_type": "markdown",
   "id": "73596410",
   "metadata": {
    "slideshow": {
     "slide_type": "slide"
    }
   },
   "source": [
    "1. Escribe un mensaje y codificalo con una distancia de N = dada por usted.  "
   ]
  },
  {
   "cell_type": "markdown",
   "id": "a9839fd8",
   "metadata": {
    "slideshow": {
     "slide_type": "slide"
    }
   },
   "source": [
    "## Actividades de evaluación de aprendizajes y de adquisición de habilidades(Las preguntas, ejercicios y problemas tipo quiz y parcial)"
   ]
  },
  {
   "cell_type": "markdown",
   "id": "dec0851d",
   "metadata": {
    "slideshow": {
     "slide_type": "slide"
    }
   },
   "source": [
    "¡Que tipo de número es uno de representyación decimal infinita no periodica y de ejemplos.\n",
    "\n",
    "Respuesta: Es un número de tipo irracional y un ejemplo es: saiz de dos, pi. "
   ]
  },
  {
   "cell_type": "markdown",
   "id": "a82b1d3d",
   "metadata": {
    "slideshow": {
     "slide_type": "slide"
    }
   },
   "source": [
    "## Recuerde el trabajo final"
   ]
  },
  {
   "cell_type": "markdown",
   "id": "c9bd80bb",
   "metadata": {},
   "source": []
  },
  {
   "cell_type": "markdown",
   "id": "dff05de0",
   "metadata": {
    "slideshow": {
     "slide_type": "slide"
    }
   },
   "source": [
    "## Referentes"
   ]
  },
  {
   "cell_type": "markdown",
   "id": "5c9d679b",
   "metadata": {
    "slideshow": {
     "slide_type": "slide"
    }
   },
   "source": [
    "* Obando Zapata, G. D. J., & Múnera Córdoba, J. J. (2003). Las situaciones problema como estrategia para la conceptualización matemática.\n",
    "\n",
    "* WolframAlpha:  https://www.wolframalpha.com/input?i=sqrt%282%29&lang=es\n",
    "\n",
    "* Jhony Alexander Villa Ochoa: Computational Thinking in Mathematical Modeling Projects. A Case Study with Future Mathematics Teachers: https://jhonyvilla.wordpress.com/  "
   ]
  },
  {
   "cell_type": "code",
   "execution_count": null,
   "id": "e1bd7237",
   "metadata": {
    "slideshow": {
     "slide_type": "slide"
    }
   },
   "outputs": [],
   "source": []
  }
 ],
 "metadata": {
  "celltoolbar": "Slideshow",
  "kernelspec": {
   "display_name": "Python 3 (ipykernel)",
   "language": "python",
   "name": "python3"
  },
  "language_info": {
   "codemirror_mode": {
    "name": "ipython",
    "version": 3
   },
   "file_extension": ".py",
   "mimetype": "text/x-python",
   "name": "python",
   "nbconvert_exporter": "python",
   "pygments_lexer": "ipython3",
   "version": "3.9.13"
  }
 },
 "nbformat": 4,
 "nbformat_minor": 5
}
