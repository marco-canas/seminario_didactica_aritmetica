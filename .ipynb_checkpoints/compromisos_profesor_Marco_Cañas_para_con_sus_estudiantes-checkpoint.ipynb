{
 "cells": [
  {
   "cell_type": "markdown",
   "id": "0e67ac41",
   "metadata": {
    "slideshow": {
     "slide_type": "slide"
    }
   },
   "source": [
    "# Compromisos del profesor Marco Cañas para con sus estudiantes"
   ]
  },
  {
   "cell_type": "markdown",
   "id": "72bda135",
   "metadata": {},
   "source": [
    "* Hacer los elogios en público \n",
    "* Y lo que tenga que sentir de sus estudiantes, exponenselo de manera individual y solo individual y empezando por enunciar las cualidades, virtudes y capacidades de sus estudiantes. Empezando por los atributos o cualidades del estudiante con el que quiere dialogar. "
   ]
  },
  {
   "cell_type": "code",
   "execution_count": null,
   "id": "b25487e9",
   "metadata": {},
   "outputs": [],
   "source": []
  }
 ],
 "metadata": {
  "celltoolbar": "Slideshow",
  "kernelspec": {
   "display_name": "Python 3 (ipykernel)",
   "language": "python",
   "name": "python3"
  },
  "language_info": {
   "codemirror_mode": {
    "name": "ipython",
    "version": 3
   },
   "file_extension": ".py",
   "mimetype": "text/x-python",
   "name": "python",
   "nbconvert_exporter": "python",
   "pygments_lexer": "ipython3",
   "version": "3.9.13"
  }
 },
 "nbformat": 4,
 "nbformat_minor": 5
}
