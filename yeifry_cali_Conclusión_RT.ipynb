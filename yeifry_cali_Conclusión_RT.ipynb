{
  "nbformat": 4,
  "nbformat_minor": 0,
  "metadata": {
    "colab": {
      "provenance": []
    },
    "kernelspec": {
      "name": "python3",
      "display_name": "Python 3"
    },
    "language_info": {
      "name": "python"
    }
  },
  "cells": [
    {
      "cell_type": "markdown",
      "source": [
        "[¡Bienvenidos a la clase de razones trigonométricas en aula invertida!](https://colab.research.google.com/drive/1JtRAPSZHtiFIPFZ1jCpdBmOsnqfSabHd#scrollTo=4YIC3crkbMB7)"
      ],
      "metadata": {
        "id": "dZwhYN1IpAGl"
      }
    },
    {
      "cell_type": "markdown",
      "source": [
        "[Ejercicios prácticos](https://colab.research.google.com/drive/1EngilhzR-i9fUspEBFdB4MBTdMojUbjS#scrollTo=TuRJNGIVkXbR)"
      ],
      "metadata": {
        "id": "WdBHzVHsplHJ"
      }
    },
    {
      "cell_type": "markdown",
      "source": [
        "[Herramientas para los ejercicios prácticos de razones trigonométricas](https://colab.research.google.com/drive/1sJbheKotzaHmdIvlnAXbMV_8snEkZZ1x#scrollTo=yuFaEaG-lKuJ)"
      ],
      "metadata": {
        "id": "VkE8TW2TptzD"
      }
    },
    {
      "cell_type": "markdown",
      "source": [
        "# **Solución**"
      ],
      "metadata": {
        "id": "_VN75_Ret2NR"
      }
    },
    {
      "cell_type": "markdown",
      "source": [
        "a. La tangente del ángulo es igual al cociente entre el cateto opuesto y el cateto adyacente, por lo que tangente$(30°) = 1/√3$ y el cateto opuesto$=$cateto adyacente$*$tangente del ángulo, por lo que cateto opuesto $= 6/√3$ unidades.\n",
        "\n",
        "b. La hipotenusa es igual al cateto opuesto dividido por el seno del ángulo, por lo que la hipotenusa $= 8/ sin(45°) = 8/√2$ unidades. El cateto adyacente es igual al producto del cateto opuesto por la tangente del ángulo, por lo que el cateto adyacente es igual a $8* tan(45°) = 8$ unidades.\n",
        "\n",
        "c. El ángulo agudo entre la hipotenusa y el cateto adyacente es igual al arcotangente del cociente entre el cateto opuesto y el cateto adyacente, por lo que el ángulo es igual a arctan$(8/10) = 38.66°$\n",
        "\n",
        "d. La tangente del ángulo es igual al cociente entre el cateto opuesto y el cateto adyacente, el seno es igual al cociente entre el cateto opuesto y la hipotenusa, y el coseno es igual al cociente entre el cateto adyacente y la hipotenusa. Para un ángulo de $60°$, tangente $=√3$, seno$=1/2$, y coseno$=1/2$\n",
        "\n",
        "e. La distancia desde el punto en el terreno hasta la base del poste es igual a la tangente del ángulo de elevación multiplicado por la altura del poste, por lo que la distancia es igual a $15*$ tan$(60°) = 15√3$ pies.\n",
        "\n",
        "f. El coseno del ángulo es igual a la raíz cuadrada de 1 menos el cuadrado del seno del ángulo, por lo que el coseno$=√(1-0.6^2) = 0.8$\n",
        "\n",
        "g. La tangente del ángulo es igual al cociente entre el cateto opuesto y el cateto adyacente, por lo que la tangente$= 0.4/√(1-0.4^2) = 0.43$\n",
        "\n",
        "h. La altura del avión$=$tangente del ángulo de elevación$*$distancia desde el avión hasta el aeropuerto, por lo que altura$=10000*$ tan$(30°)= 5773.5$ pies."
      ],
      "metadata": {
        "id": "0bOoZ4Fft5_j"
      }
    },
    {
      "cell_type": "markdown",
      "source": [
        "# **¿Para qué sirve eso?**"
      ],
      "metadata": {
        "id": "qC029i48oyLN"
      }
    },
    {
      "cell_type": "markdown",
      "source": [
        "Las razones trigonométricas tienen muchas aplicaciones prácticas en el día a día. Por ejemplo, son utilizadas en la construcción de edificios, puentes y otras estructuras. Los arquitectos e ingenieros utilizan las razones trigonométricas para calcular las dimensiones de las estructuras y para determinar la posición y la altura de los objetos.\n",
        "\n",
        "Las razones trigonométricas también se utilizan en la navegación, tanto en el aire como en el mar. Los pilotos y los navegantes utilizan las razones trigonométricas para calcular la distancia y la dirección entre dos puntos, así como para determinar la posición de su vehículo en relación con la ubicación de un objeto de referencia.\n",
        "\n",
        "En física, las razones trigonométricas son utilizadas para describir y analizar el movimiento de los objetos en trayectorias curvas, así como para entender la propagación de ondas como las ondas sonoras y las ondas electromagnéticas.\n",
        "\n",
        "En la medicina, las razones trigonométricas se utilizan en la tomografía computarizada (TC) y la resonancia magnética (RM) para obtener imágenes detalladas del cuerpo humano.\n",
        "\n",
        "Además, las razones trigonométricas también se aplican en el campo de la música, la animación y los efectos especiales en las películas, la geografía, la astrofísica, entre otros. En resumen, las razones trigonométricas son una herramienta útil y relevante en numerosas áreas de la vida cotidiana y en muchas disciplinas académicas y profesionales."
      ],
      "metadata": {
        "id": "h65pU-ItpBRQ"
      }
    }
  ]
}