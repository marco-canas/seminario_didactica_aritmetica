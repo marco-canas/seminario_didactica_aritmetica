{
  "nbformat": 4,
  "nbformat_minor": 0,
  "metadata": {
    "colab": {
      "provenance": []
    },
    "kernelspec": {
      "name": "python3",
      "display_name": "Python 3"
    },
    "language_info": {
      "name": "python"
    }
  },
  "cells": [
    {
      "cell_type": "markdown",
      "source": [
        "[video complementario del cuaderno](https://reccloud.com/es/u/xq1fg69)"
      ],
      "metadata": {
        "id": "tVqBDmyKTpwP"
      }
    },
    {
      "cell_type": "markdown",
      "source": [
        "# **CLASE DE RESOLUCIÓN DE TRIANGULOS OBLICUANGULOS, UTILIZANDO EL MODELO DE ENSEÑANZA AULA INVERTIDA.**\n",
        "\n",
        "\n"
      ],
      "metadata": {
        "id": "4YIC3crkbMB7"
      }
    },
    {
      "cell_type": "markdown",
      "source": [
        "# **Hola, somos Angela Rodriguez y Leonel Dorado, estaremos trabajando sobre la resolución de triangulos utilizando el modelo  de enseñanza aula invertida.**\n",
        "\n",
        "\n"
      ],
      "metadata": {
        "id": "Koc2L-91dugK"
      }
    },
    {
      "cell_type": "markdown",
      "source": [
        "## El aula invertida propone un sistema diferente a la enseñanza tradicional. Es un método revolucionario porque da la vuelta al sistema educativo clásico. El Aula invertida o Flipped Classroom propone que los alumnos estudien y preparen los contenidos fuera de clase, mientras que en las aulas las tareas son más participativas.\n",
        "\n",
        "##En las clases presenciales los alumnos hacen los deberes, interactúan con debates participativos y usan ese tiempo para analizar ideas o elaborar trabajos en grupo. El profesor en el Aula invertida actúa como faro o guía, siendo un facilitador de las tareas. Además, las clases se apoyan en todo momento en las nuevas tecnologías, reflejando así el nuevo modelo del siglo XXI.\n",
        "\n",
        "\n",
        "\n",
        "\n",
        "\n",
        "## (https://www.youtube.com/watch?v=TTJwL7cmKG0)\n",
        "\n",
        "\n",
        "\n",
        "\n",
        "\n"
      ],
      "metadata": {
        "id": "qD-nzMCbbtz5"
      }
    },
    {
      "cell_type": "markdown",
      "source": [
        "# **VENTAJAS DEL MODELO DE ENSEÑANZA AULA INVERTIDA.**\n",
        "\n"
      ],
      "metadata": {
        "id": "XyQQgeu6XvK4"
      }
    },
    {
      "cell_type": "markdown",
      "source": [
        "# **Consolida los conocimientos**: una vez se han trabajado las materias tranquilamente fuera del aula, las clases son un refuerzo de lo ya aprendido por el alumno. En el aula se pueden resolver dudas, trabajar los temas de forma individual y explorar nuevas y diferentes puntos de vista de cada contenido.\n"
      ],
      "metadata": {
        "id": "bdBjPaZ7YkPN"
      }
    },
    {
      "cell_type": "markdown",
      "source": [
        "# **Mayor comprensión**: este método no busca la mera memorización de los contenidos. El Aula invertida pretende una asimilación de los temas perdurable en el tiempo, lo que llevaría a usar ese tipo de aprendizajes en la vida cotidiana."
      ],
      "metadata": {
        "id": "vHCr7XTsY9MW"
      }
    },
    {
      "cell_type": "markdown",
      "source": [
        "# **Trabajo en equipo**: El uso de debates, trabajos en grupo y otras actividades participativas mejoran la comunicación entre los alumnos y permiten un aprendizaje en grupo. Se desarrollan habilidades como la planificación, la organización o el intercambio de información y de ideas."
      ],
      "metadata": {
        "id": "ZNwv7K20ZGMj"
      }
    },
    {
      "cell_type": "markdown",
      "source": [
        "# **El alumno es el protagonista**: En el Aula invertida los alumnos se implican en las clases y participan en las tareas; pasan de sujetos pasivos a sujetos activos. Ya no son meros espectadores como en el sistema educativo tradicional."
      ],
      "metadata": {
        "id": "BDhRvAASZhcF"
      }
    },
    {
      "cell_type": "markdown",
      "source": [
        "# **OBJETIVO DE APRENDIZAJE.**\n",
        "# Que los estudiantes logren aprender a utilizar la ley de los  senos y la ley de los cosenos para resolver problemas sobre triangulos oblicuangulos de manera teorica y en situaciones problema."
      ],
      "metadata": {
        "id": "0bZYHcyWcQLj"
      }
    },
    {
      "cell_type": "markdown",
      "source": [
        "# **CONOCIMIENTOS PREVIOS EN LA RESOLUCION DE TRIANGULOS OBLICUANGULOS.** # \n",
        "\n",
        "# * que es un angulo.\n",
        "# * que es un cateto,una hipotenusa.\n",
        "# * que es un triangulo rectangulo.\n",
        "# * que es un triangulo oblicuangulo.\n",
        "# * tipos de triangulos oblicuangulos.\n",
        "# * diferenciaas entre triangulos rectangulos y oblicuangulos.\n",
        "# * las razones trigonometricas **seno y coseno**.\n",
        "# * resolver ecuaciones algebraicas.\n",
        "\n",
        "# * despejar terminos y variables  en una igualacion o en una ecuacion.\n",
        "\n",
        "\n",
        "\n",
        "\n"
      ],
      "metadata": {
        "id": "-_QZW1Zcfd8q"
      }
    },
    {
      "cell_type": "markdown",
      "source": [
        "# **COMO SE RESUELVEN LOS TRIANGULOS OBLICUANGULOS.** \n",
        "\n",
        "# Los triangulos oblicuangulos se resuelven utilizando la ley de los cosenos y la ley de los senos para hallar la medida de los lados y de sus angulos faltantes.\n",
        "\n"
      ],
      "metadata": {
        "id": "FnDXAMCREvjY"
      }
    },
    {
      "cell_type": "markdown",
      "source": [
        "# **LEY DE LOS SENOS.**\n",
        "# * La ley de los senos es la relacion entre los lados y angulos de triangulos no rectangulos( oblicuos). simplemente, establece que la relacion de la longitud de un lado de un triangulo al seno del angulo opuesto a ese lado es igual para todos los lados y angulos en un triangulo dado.\n",
        "# * Para usar la ley de los senos necesitamos conocer ya sea dos angulos y un lado opuesto a uno de los dos angulos ya conocidos previamente del triangulo( AAL o ALA) o dos lados y un angulo opuesto de uno de los lados ya previamente conocidos( LLA).\n",
        "\n",
        "\n",
        "$$\\LARGE{\\frac{a}{sinA}=\\frac{b}{sinB}=\\frac{c}{sinC}}$$\n",
        "\n",
        "\n",
        "# (https://www.youtube.com/watch?v=OVsS59y7IJ0)\n",
        "\n"
      ],
      "metadata": {
        "id": "E-lIsy6iFkC1"
      }
    },
    {
      "cell_type": "markdown",
      "source": [
        "# **LEY DE LOS  COSENOS.**\n",
        "\n",
        "\n",
        "# * La ley de los cosenos se utiliza para encontrar las partes faltantes de un triangulo obtusangulo o triangulo acutangulo, cuando se conocen  las medidas de dos de sus  lados y la medida del angulo que esta entre los dos lados conocidos( LAL) o las longitudes de los tres lados(LLL) son conocidos previamente.\n",
        "\n",
        "$${\\LARGE{a^2=b^2+c^2-2bc\\cos{A}}}$$\n",
        "\n",
        "$${\\LARGE{b^2=a^2+c^2-2ac\\cos{B}}}$$\n",
        "\n",
        "$${\\LARGE{c^2=a^2+b^2-2ab\\cos{C}}}$$\n",
        "\n",
        "# (https://www.youtube.com/watch?v=CR9-yJvir1A)\n",
        "\n",
        "\n",
        "# (https://www.youtube.com/watch?v=fVkBThbYVTY)\n"
      ],
      "metadata": {
        "id": "br6GWWIgM5qE"
      }
    },
    {
      "cell_type": "markdown",
      "source": [
        "# **APLICACION DE LA LEY DE LOS SENOS.**\n",
        "\n",
        "# * En un triangulo ABC: calcular la medida de los lados (a y c) y el angulo restante.\n",
        "\n",
        "\n",
        "# **b=15 cm.**\n",
        "\n",
        "\n",
        "$$\\LARGE{\\hat{B}=42°}$$\n",
        "\n",
        "\n",
        "$$\\LARGE{\\hat{C}=76°}$$\n",
        "# solucion:\n",
        "\n",
        "\n",
        "# (https://www.fisimat.com.mx/ley-de-senos/)\n",
        "\n",
        "\n",
        "\n"
      ],
      "metadata": {
        "id": "YKk5B8tDSek_"
      }
    },
    {
      "cell_type": "markdown",
      "source": [
        "# **APLICACIÓN DE LA LEY DE LOS COSENOS.**\n",
        "\n",
        "# Dado los lados de un triangulo no rectangulo ABC , con a=11, b=5\n",
        " $$\\LARGE{\\hat{C}=20°}$$\n",
        " # ¿ encontrar el lado c y los dos angulos faltantes?\n",
        "\n",
        " # solucion:\n",
        "\n",
        " # (https://www.varsitytutors.com/hotmath/hotmath_help/spanish/topics/law-of-cosines)\n",
        "\n",
        "\n",
        "\n"
      ],
      "metadata": {
        "id": "lDYm28L5ZO5F"
      }
    },
    {
      "cell_type": "markdown",
      "source": [
        "# **RESOLVER LOS SIGUIENTES EJERCICIOS USANDO LA LEY DE LOS SENOS**\n",
        "\n",
        "# (https://es.liveworksheets.com/worksheets/es/Matem%C3%A1ticas/Trigonometria/Ley_de_Senos_xm1895243bq)\n",
        "\n",
        "\n",
        "# (https://es.liveworksheets.com/xo1982562mc)\n",
        "\n",
        "\n",
        "# (https://www.neurochispas.com/wiki/ejemplos-de-ley-de-senos/)\n",
        "\n",
        "\n"
      ],
      "metadata": {
        "id": "NVZaoCtlvGNB"
      }
    },
    {
      "cell_type": "markdown",
      "source": [
        "# **RESOLVER LOS SIGUIENTES EJERCICIOS USANDO LA LEY DE LOS COSENOS.**\n",
        "\n",
        "# (https://es.liveworksheets.com/ii2637618bh)\n",
        "\n"
      ],
      "metadata": {
        "id": "pU9cojOmdC6-"
      }
    },
    {
      "cell_type": "markdown",
      "source": [
        "\n",
        "$$ a^n=\\underbrace{a \\times a \\times a \\times a \\times a \\times a \\times ...a}_{n- \\text{veces}} $$"
      ],
      "metadata": {
        "id": "LhqJ1_kisV08"
      }
    }
  ]
}