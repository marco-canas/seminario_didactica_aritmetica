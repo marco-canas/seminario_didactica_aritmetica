{
 "cells": [
  {
   "cell_type": "markdown",
   "id": "a46bf1a5",
   "metadata": {},
   "source": []
  },
  {
   "cell_type": "markdown",
   "id": "9f4218f4",
   "metadata": {},
   "source": [
    "# Entrevista:  Elementos de la práctica pedagógica y los inconvenientes en ella"
   ]
  },
  {
   "cell_type": "markdown",
   "id": "547962c4",
   "metadata": {},
   "source": [
    "Buenas tardes, hoy estamos con el profesor Marcos. El nos hablara sobre su proceso en la práctica pedagógica, también sobre algunos aspectos importantes de esta misma… Bienvenido profe.  \n"
   ]
  },
  {
   "cell_type": "markdown",
   "id": "31c6e0ce",
   "metadata": {},
   "source": [
    "\n",
    "1.\tCuéntenos un poco sobre su carrera como profesor de matemáticas."
   ]
  },
  {
   "cell_type": "markdown",
   "id": "6aaba5ff",
   "metadata": {},
   "source": []
  },
  {
   "attachments": {},
   "cell_type": "markdown",
   "id": "74d45211",
   "metadata": {},
   "source": [
    "2.\t¿Cómo ha sido el proceso para fortalecer su práctica pedagógica?\n"
   ]
  },
  {
   "cell_type": "markdown",
   "id": "f0cac66b",
   "metadata": {},
   "source": [
    "3.\t¿Para usted que es la rutina en la práctica pedagógica?\n"
   ]
  },
  {
   "cell_type": "markdown",
   "id": "ce92b58b",
   "metadata": {},
   "source": [
    "4.\t¿Qué estrategias utiliza para que su clase no caiga en la rutina?\n"
   ]
  },
  {
   "cell_type": "markdown",
   "id": "33fc757c",
   "metadata": {},
   "source": [
    "5.\tAhora hablaremos sobre algunos elementos de la práctica pedagógica.\n"
   ]
  },
  {
   "attachments": {},
   "cell_type": "markdown",
   "id": "5d8fc50d",
   "metadata": {},
   "source": [
    "## 6.\t¿Qué opina sobre el elemento modo o estilos en el saber?  \n",
    "\n",
    "El elemento del modo o los estilos en el saber son aspectos interesantes y relevantes para considerar en el aprendizaje y la adquisición de conocimientos. El modo o estilo de aprendizaje se refiere a las preferencias individuales que cada persona tiene al procesar y asimilar nueva información.\n",
    "\n",
    "Hay varios enfoques teóricos que intentan describir y categorizar los diferentes estilos de aprendizaje. Algunos modelos sugieren que las personas pueden ser visuales, auditivas o kinestésicas en su forma de aprender, lo que significa que prefieren información visual, auditiva o táctil/motora, respectivamente. Otros modelos amplían las categorías y consideran estilos más complejos, como el aprendizaje reflexivo, activo, teórico o pragmático.\n",
    "\n",
    "Es importante destacar que los estilos de aprendizaje no son absolutos ni determinantes. La mayoría de las personas tienden a tener preferencias dominantes, pero también pueden utilizar diferentes enfoques dependiendo del contexto y de la naturaleza de la tarea. Además, la evidencia científica sobre la efectividad de los estilos de aprendizaje como concepto riguroso y su impacto en los resultados del aprendizaje es mixta y controvertida.\n",
    "\n",
    "Aunque no existe un consenso definitivo sobre la importancia de los estilos de aprendizaje, reconocer las preferencias individuales puede ser útil para adaptar los métodos de enseñanza y crear entornos de aprendizaje más inclusivos. Los educadores pueden ofrecer una variedad de estrategias y recursos para abordar diferentes estilos de aprendizaje, lo que puede facilitar la comprensión y retención de la información por parte de los estudiantes.\n",
    "\n",
    "En última instancia, es importante equilibrar el reconocimiento de los estilos de aprendizaje individuales con la promoción de habilidades de aprendizaje más amplias, como la metacognición, la autorregulación y la adaptabilidad. Estas habilidades permiten a los estudiantes enfrentarse a una variedad de situaciones de aprendizaje y desarrollar la capacidad de aprender de manera efectiva en diferentes contextos, más allá de sus preferencias iniciales.\n"
   ]
  },
  {
   "cell_type": "markdown",
   "id": "688ca7a8",
   "metadata": {},
   "source": [
    "7.\t¿Cuál sería el mejor estilo para un aprendizaje en las matemáticas?\n"
   ]
  },
  {
   "cell_type": "markdown",
   "id": "5290647e",
   "metadata": {},
   "source": [
    "\n",
    "9.\t¿Qué concepción tiene usted sobre la formación de maestros de matemáticas?"
   ]
  },
  {
   "cell_type": "code",
   "execution_count": 3,
   "id": "7ec056dd",
   "metadata": {},
   "outputs": [
    {
     "data": {
      "text/plain": [
       "66.5"
      ]
     },
     "execution_count": 3,
     "metadata": {},
     "output_type": "execute_result"
    }
   ],
   "source": [
    "1064/16"
   ]
  },
  {
   "cell_type": "code",
   "execution_count": null,
   "id": "e2123f3f",
   "metadata": {},
   "outputs": [],
   "source": []
  }
 ],
 "metadata": {
  "kernelspec": {
   "display_name": "Python 3 (ipykernel)",
   "language": "python",
   "name": "python3"
  },
  "language_info": {
   "codemirror_mode": {
    "name": "ipython",
    "version": 3
   },
   "file_extension": ".py",
   "mimetype": "text/x-python",
   "name": "python",
   "nbconvert_exporter": "python",
   "pygments_lexer": "ipython3",
   "version": "3.9.13"
  }
 },
 "nbformat": 4,
 "nbformat_minor": 5
}
