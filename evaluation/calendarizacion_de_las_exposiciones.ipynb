{
 "cells": [
  {
   "cell_type": "markdown",
   "id": "5f7bc74b",
   "metadata": {
    "slideshow": {
     "slide_type": "slide"
    }
   },
   "source": [
    "<table align=\"left\">\n",
    "  <td>\n",
    "    <a href=\"https://colab.research.google.com/github/marco-canas/4_didactica_aritmetica/blob/main/evaluation/calendarizacion_de_las_exposiciones.ipynb\" target=\"_parent\"><img src=\"https://colab.research.google.com/assets/colab-badge.svg\" alt=\"Open In Colab\"/></a>\n",
    "  </td>\n",
    "</table>"
   ]
  },
  {
   "cell_type": "markdown",
   "id": "fb0f9699",
   "metadata": {
    "slideshow": {
     "slide_type": "slide"
    }
   },
   "source": []
  },
  {
   "cell_type": "markdown",
   "id": "cf5da2c4",
   "metadata": {},
   "source": [
    "# Calendarización de exposiciones"
   ]
  },
  {
   "cell_type": "markdown",
   "id": "330f325c",
   "metadata": {
    "slideshow": {
     "slide_type": "slide"
    }
   },
   "source": [
    "## Calendarización de la primera exposición flipped learning"
   ]
  },
  {
   "cell_type": "markdown",
   "id": "6ab684d9",
   "metadata": {
    "slideshow": {
     "slide_type": "slide"
    }
   },
   "source": [
    "La semana del 27 al 31 de marzo es de asesoría:\n",
    "\n",
    "\n",
    "- El martes 28 de marzo \n",
    "  * 4:00 - 4:30: media hora inicial general con todos los estudiantes.\n",
    "  * 4:30 - 5:00: Media hora para el grupo 1: Merlis Julieth y Fancisco Javier. \n",
    "  * 5:00 - 5:30: media hora para el grupo 2: Estefanía Caly y Yeifry Uribe.\n",
    "  \n",
    "- El jueves 30 de marzo \n",
    "  * 4:00 - 4:30: media hora para el grupo 3:.\n",
    "  * 4:30 - 5:00: media hora para el grupo 4: . \n",
    "  * 5:00 - 5:30 media hora para el grupo 5: .  "
   ]
  },
  {
   "cell_type": "markdown",
   "id": "afb2a157",
   "metadata": {
    "slideshow": {
     "slide_type": "slide"
    }
   },
   "source": [
    "Fechas de exposición del trabajo 1 sobre aprendizaje invertido \n",
    "\n",
    "* Para el grupo 1: 4 de abril (martes) \n",
    "* Para el grupo 2: 4 de abril (martes) \n",
    "* Para el grupo 3: 6 de abril (jueves) \n",
    "* Para el grupo 4: 6 de abril (jueves) \n",
    "* Para el grupo 5: 11 de abril (Martes) \n"
   ]
  },
  {
   "cell_type": "markdown",
   "id": "97546826",
   "metadata": {
    "slideshow": {
     "slide_type": "slide"
    }
   },
   "source": [
    "## Calendarización de la segunda exposición estilos de enseñanza"
   ]
  },
  {
   "cell_type": "markdown",
   "id": "28fadddc",
   "metadata": {
    "slideshow": {
     "slide_type": "slide"
    }
   },
   "source": [
    "## Calendarización de la tercera exposición estilos de aprendizaje"
   ]
  },
  {
   "cell_type": "code",
   "execution_count": null,
   "id": "7958d728",
   "metadata": {
    "slideshow": {
     "slide_type": "slide"
    }
   },
   "outputs": [],
   "source": []
  },
  {
   "cell_type": "markdown",
   "id": "04a33ab4",
   "metadata": {
    "slideshow": {
     "slide_type": "slide"
    }
   },
   "source": [
    "# Criterios de evaluación de las exposiciones o trabajos"
   ]
  },
  {
   "cell_type": "markdown",
   "id": "c8f160f7",
   "metadata": {
    "slideshow": {
     "slide_type": "slide"
    }
   },
   "source": [
    "1. El trabajo es por equipos y la calificación es individual"
   ]
  },
  {
   "cell_type": "code",
   "execution_count": null,
   "id": "3b10c407",
   "metadata": {},
   "outputs": [],
   "source": []
  }
 ],
 "metadata": {
  "celltoolbar": "Slideshow",
  "kernelspec": {
   "display_name": "Python 3 (ipykernel)",
   "language": "python",
   "name": "python3"
  },
  "language_info": {
   "codemirror_mode": {
    "name": "ipython",
    "version": 3
   },
   "file_extension": ".py",
   "mimetype": "text/x-python",
   "name": "python",
   "nbconvert_exporter": "python",
   "pygments_lexer": "ipython3",
   "version": "3.9.13"
  },
  "rise": {
   "enable_chalkboard": true,
   "theme": "sky",
   "transition": "zoom"
  }
 },
 "nbformat": 4,
 "nbformat_minor": 5
}
