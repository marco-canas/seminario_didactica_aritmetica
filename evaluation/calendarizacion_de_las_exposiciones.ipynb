{
 "cells": [
  {
   "cell_type": "markdown",
   "id": "14cc2540",
   "metadata": {
    "slideshow": {
     "slide_type": "slide"
    }
   },
   "source": [
    "<table align=\"left\">\n",
    "  <td>\n",
    "    <a href=\"https://colab.research.google.com/github/marco-canas/1_algebra/blob/main/classes/ciencia_datos/6_class_march_15_quiz_1/5_class_march_15.ipynb\" target=\"_parent\"><img src=\"https://colab.research.google.com/assets/colab-badge.svg\" alt=\"Open In Colab\"/></a>\n",
    "  </td>\n",
    "</table>"
   ]
  },
  {
   "cell_type": "markdown",
   "id": "20e87f67",
   "metadata": {
    "slideshow": {
     "slide_type": "slide"
    }
   },
   "source": []
  },
  {
   "cell_type": "markdown",
   "id": "444d3137",
   "metadata": {},
   "source": [
    "# Calendarización de exposiciones"
   ]
  },
  {
   "cell_type": "markdown",
   "id": "2426151a",
   "metadata": {},
   "source": [
    "## Calendarización de la primera exposición flipped learning"
   ]
  },
  {
   "cell_type": "markdown",
   "id": "7abaae60",
   "metadata": {},
   "source": [
    "## Calendarización de la segunda exposición estilos de enseñanza"
   ]
  },
  {
   "cell_type": "markdown",
   "id": "8c2ddb06",
   "metadata": {},
   "source": [
    "## Calendarización de la tercera exposición estilos de aprendizaje"
   ]
  },
  {
   "cell_type": "code",
   "execution_count": null,
   "id": "dabc548e",
   "metadata": {},
   "outputs": [],
   "source": []
  },
  {
   "cell_type": "markdown",
   "id": "156a2d7b",
   "metadata": {},
   "source": [
    "# Criterios de evaluación de las exposiciones o trabajos"
   ]
  },
  {
   "cell_type": "code",
   "execution_count": null,
   "id": "ca9f3b82",
   "metadata": {},
   "outputs": [],
   "source": []
  }
 ],
 "metadata": {
  "celltoolbar": "Slideshow",
  "kernelspec": {
   "display_name": "Python 3 (ipykernel)",
   "language": "python",
   "name": "python3"
  },
  "language_info": {
   "codemirror_mode": {
    "name": "ipython",
    "version": 3
   },
   "file_extension": ".py",
   "mimetype": "text/x-python",
   "name": "python",
   "nbconvert_exporter": "python",
   "pygments_lexer": "ipython3",
   "version": "3.9.13"
  }
 },
 "nbformat": 4,
 "nbformat_minor": 5
}
