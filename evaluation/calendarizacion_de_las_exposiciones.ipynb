{
 "cells": [
  {
   "cell_type": "markdown",
   "id": "c41e90a5",
   "metadata": {
    "slideshow": {
     "slide_type": "slide"
    }
   },
   "source": [
    "<table align=\"left\">\n",
    "  <td>\n",
    "    <a href=\"https://colab.research.google.com/github/marco-canas/4_didactica_aritmetica/blob/main/evaluation/calendarizacion_de_las_exposiciones.ipynb\" target=\"_parent\"><img src=\"https://colab.research.google.com/assets/colab-badge.svg\" alt=\"Open In Colab\"/></a>\n",
    "  </td>\n",
    "</table>"
   ]
  },
  {
   "cell_type": "markdown",
   "id": "ddabf2d8",
   "metadata": {
    "slideshow": {
     "slide_type": "slide"
    }
   },
   "source": []
  },
  {
   "cell_type": "markdown",
   "id": "8618c2a5",
   "metadata": {
    "slideshow": {
     "slide_type": "slide"
    }
   },
   "source": [
    "# Calendarización de exposiciones"
   ]
  },
  {
   "cell_type": "markdown",
   "id": "d6895e5e",
   "metadata": {
    "slideshow": {
     "slide_type": "slide"
    }
   },
   "source": [
    "## Calendarización de la primera exposición flipped learning"
   ]
  },
  {
   "cell_type": "markdown",
   "id": "11967b28",
   "metadata": {
    "slideshow": {
     "slide_type": "slide"
    }
   },
   "source": [
    "La semana del 27 al 31 de marzo es de asesoría:\n",
    "\n",
    "\n",
    "- El martes 28 de marzo \n",
    "  * 4:00 - 4:30: media hora inicial general con todos los estudiantes.\n",
    "  * 4:30 - 5:00: Media hora para el grupo 1: Merlis Julieth y Fancisco Javier. \n",
    "  * 5:00 - 5:30: media hora para el grupo 2: Estefanía Caly y Yeifry Uribe.\n",
    "  \n",
    "- El jueves 30 de marzo \n",
    "  * 4:00 - 4:30: media hora para el grupo 3:.\n",
    "  * 4:30 - 5:00: media hora para el grupo 4: . \n",
    "  * 5:00 - 5:30 media hora para el grupo 5: .  "
   ]
  },
  {
   "cell_type": "markdown",
   "id": "2299a805",
   "metadata": {
    "slideshow": {
     "slide_type": "slide"
    }
   },
   "source": [
    "Fechas de exposición del trabajo 1 sobre aprendizaje invertido \n",
    "\n",
    "* Para el grupo 1: 4 de abril (martes) \n",
    "* Para el grupo 2: 4 de abril (martes) \n",
    "* Para el grupo 3: 6 de abril (jueves) \n",
    "* Para el grupo 4: 6 de abril (jueves) \n",
    "* Para el grupo 5: 11 de abril (Martes) \n"
   ]
  },
  {
   "cell_type": "markdown",
   "id": "c240d838",
   "metadata": {
    "slideshow": {
     "slide_type": "slide"
    }
   },
   "source": [
    "## Calendarización de la segunda exposición estilos de enseñanza"
   ]
  },
  {
   "cell_type": "markdown",
   "id": "5a67e69c",
   "metadata": {
    "slideshow": {
     "slide_type": "slide"
    }
   },
   "source": [
    "## Calendarización de la tercera exposición estilos de aprendizaje"
   ]
  },
  {
   "cell_type": "code",
   "execution_count": null,
   "id": "17a7ad1e",
   "metadata": {
    "slideshow": {
     "slide_type": "slide"
    }
   },
   "outputs": [],
   "source": []
  },
  {
   "cell_type": "markdown",
   "id": "9ac1f354",
   "metadata": {
    "slideshow": {
     "slide_type": "slide"
    }
   },
   "source": [
    "# Criterios de evaluación de las exposiciones o trabajos"
   ]
  },
  {
   "cell_type": "markdown",
   "id": "e430ba84",
   "metadata": {
    "slideshow": {
     "slide_type": "slide"
    }
   },
   "source": [
    "1. El trabajo es por equipos y la calificación es individual"
   ]
  },
  {
   "cell_type": "code",
   "execution_count": null,
   "id": "4be32e5a",
   "metadata": {},
   "outputs": [],
   "source": []
  }
 ],
 "metadata": {
  "celltoolbar": "Slideshow",
  "kernelspec": {
   "display_name": "Python 3 (ipykernel)",
   "language": "python",
   "name": "python3"
  },
  "language_info": {
   "codemirror_mode": {
    "name": "ipython",
    "version": 3
   },
   "file_extension": ".py",
   "mimetype": "text/x-python",
   "name": "python",
   "nbconvert_exporter": "python",
   "pygments_lexer": "ipython3",
   "version": "3.9.13"
  },
  "rise": {
   "enable_chalkboard": true,
   "theme": "sky",
   "transition": "zoom"
  }
 },
 "nbformat": 4,
 "nbformat_minor": 5
}
