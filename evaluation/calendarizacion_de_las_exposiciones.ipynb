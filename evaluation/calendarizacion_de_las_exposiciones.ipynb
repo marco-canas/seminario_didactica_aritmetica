{
 "cells": [
  {
   "cell_type": "markdown",
   "id": "54e41a5c",
   "metadata": {
    "slideshow": {
     "slide_type": "slide"
    }
   },
   "source": [
    "<table align=\"left\">\n",
    "  <td>\n",
    "    <a href=\"https://colab.research.google.com/github/marco-canas/1_algebra/blob/main/classes/ciencia_datos/6_class_march_15_quiz_1/5_class_march_15.ipynb\" target=\"_parent\"><img src=\"https://colab.research.google.com/assets/colab-badge.svg\" alt=\"Open In Colab\"/></a>\n",
    "  </td>\n",
    "</table>"
   ]
  },
  {
   "cell_type": "markdown",
   "id": "b20dc813",
   "metadata": {
    "slideshow": {
     "slide_type": "slide"
    }
   },
   "source": []
  },
  {
   "cell_type": "markdown",
   "id": "e152ba66",
   "metadata": {},
   "source": [
    "# Calendarización de exposiciones"
   ]
  },
  {
   "cell_type": "markdown",
   "id": "f315ad78",
   "metadata": {
    "slideshow": {
     "slide_type": "slide"
    }
   },
   "source": [
    "## Calendarización de la primera exposición flipped learning"
   ]
  },
  {
   "cell_type": "markdown",
   "id": "1852b649",
   "metadata": {
    "slideshow": {
     "slide_type": "slide"
    }
   },
   "source": [
    "La semana del 27 al 31 de marzo es de asesoría:\n",
    "\n",
    "\n",
    "- El martes 28 de marzo \n",
    "  * 4:00 - 4:30: media hora inicial general con todos los estudiantes.\n",
    "  * 4:30 - 5:00: Media hora para el grupo 1: Merlis Julieth y Fancisco Javier. \n",
    "  * 5:00 - 5:30: media hora para el grupo 2: Estefanía Caly y Yeifry Uribe.\n",
    "  \n",
    "- El jueves 30 de marzo \n",
    "  * 4:00 - 4:30: media hora para el grupo 3:.\n",
    "  * 4:30 - 5:00: media hora para el grupo 4: . \n",
    "  * 5:00 - 5:30 media hora para el grupo 5: .  "
   ]
  },
  {
   "cell_type": "markdown",
   "id": "7058d15b",
   "metadata": {},
   "source": [
    "## Calendarización de la segunda exposición estilos de enseñanza"
   ]
  },
  {
   "cell_type": "markdown",
   "id": "7f8d57da",
   "metadata": {},
   "source": [
    "## Calendarización de la tercera exposición estilos de aprendizaje"
   ]
  },
  {
   "cell_type": "code",
   "execution_count": null,
   "id": "5f25e309",
   "metadata": {},
   "outputs": [],
   "source": []
  },
  {
   "cell_type": "markdown",
   "id": "d3210ae4",
   "metadata": {},
   "source": [
    "# Criterios de evaluación de las exposiciones o trabajos"
   ]
  },
  {
   "cell_type": "code",
   "execution_count": null,
   "id": "ee998898",
   "metadata": {},
   "outputs": [],
   "source": []
  }
 ],
 "metadata": {
  "celltoolbar": "Slideshow",
  "kernelspec": {
   "display_name": "Python 3 (ipykernel)",
   "language": "python",
   "name": "python3"
  },
  "language_info": {
   "codemirror_mode": {
    "name": "ipython",
    "version": 3
   },
   "file_extension": ".py",
   "mimetype": "text/x-python",
   "name": "python",
   "nbconvert_exporter": "python",
   "pygments_lexer": "ipython3",
   "version": "3.9.13"
  }
 },
 "nbformat": 4,
 "nbformat_minor": 5
}
