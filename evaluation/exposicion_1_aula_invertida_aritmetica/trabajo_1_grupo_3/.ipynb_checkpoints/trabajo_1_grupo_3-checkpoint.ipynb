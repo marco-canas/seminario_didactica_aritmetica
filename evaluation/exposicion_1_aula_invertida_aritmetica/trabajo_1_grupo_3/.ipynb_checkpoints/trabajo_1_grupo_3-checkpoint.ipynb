{
 "cells": [
  {
   "cell_type": "markdown",
   "id": "8141c049",
   "metadata": {
    "slideshow": {
     "slide_type": "slide"
    }
   },
   "source": [
    "<table align=\"left\">\n",
    "  <td>\n",
    "    <a href=\"https://colab.research.google.com/github/marco-canas/4_didactica_aritmetica/blob/main/classes/5_class_feb_23_jueves_estilos_ense%C3%B1anza/5_class_feb_23.ipynb\" target=\"_parent\"><img src=\"https://colab.research.google.com/assets/colab-badge.svg\" alt=\"Open In Colab\"/></a>\n",
    "  </td>\n",
    "</table>"
   ]
  },
  {
   "cell_type": "markdown",
   "id": "ebf92d70",
   "metadata": {
    "slideshow": {
     "slide_type": "slide"
    }
   },
   "source": [
    "## [Video de apoyo]()"
   ]
  },
  {
   "cell_type": "markdown",
   "id": "b987484b",
   "metadata": {
    "slideshow": {
     "slide_type": "slide"
    }
   },
   "source": [
    "Criterios de deiseño\n",
    "\n",
    "* El uso de la TIC's\n",
    "* motivar el estudiantes. "
   ]
  },
  {
   "cell_type": "markdown",
   "id": "279e3caa",
   "metadata": {
    "slideshow": {
     "slide_type": "slide"
    }
   },
   "source": [
    "# Trabajo 1 Grupo 3  \n",
    "\n",
    "Equipo 3: Manuel y Fred\n",
    "\n",
    "Contenido matemático a desarrollar sea: Potenciación y radicación\n",
    "\n",
    "Trabajo 1: Pedagogía invertida\n",
    "\n",
    "Trabajo 2: Estilo de enseñanza: Experto. \n",
    "\n",
    "Trabajo 3: Estilo de aprendizaje: Competitivo. "
   ]
  },
  {
   "cell_type": "markdown",
   "id": "f34d76f8",
   "metadata": {
    "slideshow": {
     "slide_type": "slide"
    }
   },
   "source": [
    "1. [Aula invertida]()\n",
    "2. [estilos de enseñanza]()\n",
    "3. [estilos de aprendizaje]()"
   ]
  },
  {
   "cell_type": "markdown",
   "id": "54139e22",
   "metadata": {
    "slideshow": {
     "slide_type": "slide"
    }
   },
   "source": [
    "## Problema de aprendizaje "
   ]
  },
  {
   "cell_type": "markdown",
   "id": "fd832048",
   "metadata": {
    "slideshow": {
     "slide_type": "slide"
    }
   },
   "source": [
    "$$ (a+b)^{2} = a^{2} + b^{2} $$\n",
    "\n",
    "Saber leer la expresión. \n",
    "\n",
    "El cuadrado de la suma serás que es igual a la suma de los cuadrados.\n",
    "\n",
    "El estudiante, en general quiere que la potenciación distribuya para sumas. \n",
    "\n",
    "\n",
    "¿Será que el exponente distribuye para cada uno de los sumandos?\n",
    "\n"
   ]
  },
  {
   "cell_type": "markdown",
   "id": "ea9152ca",
   "metadata": {
    "slideshow": {
     "slide_type": "slide"
    }
   },
   "source": [
    "¿Cómo le muestro al estudiante que la igualdad anterior en general no siempre se da?"
   ]
  },
  {
   "cell_type": "markdown",
   "id": "04189416",
   "metadata": {
    "slideshow": {
     "slide_type": "slide"
    }
   },
   "source": [
    "* Con un contraejemplo\n",
    "\n",
    "a = 1 y b = 2\n",
    "\n",
    "$$ (a+b)^{2} = 9 $$\n",
    "\n",
    "$$ a^{2} + b^{2} = 5 $$\n",
    "\n",
    "por tanto, en este caso \n",
    "\n",
    "$$ (a+b)^{2} \\neq a^{2} + b^{2} $$"
   ]
  },
  {
   "cell_type": "markdown",
   "id": "e0a5bd87",
   "metadata": {},
   "source": [
    "# Otra manera de mostrarle al estudiante que la igualdad $$ (a+b)^{2} = a^{2} + b^{2} $$ no es cierta"
   ]
  },
  {
   "cell_type": "markdown",
   "id": "2da35fd4",
   "metadata": {},
   "source": [
    "## Con symbolab"
   ]
  },
  {
   "cell_type": "markdown",
   "id": "0ef7fa6d",
   "metadata": {},
   "source": [
    "https://es.symbolab.com/solver/step-by-step/%5Cleft(a%2Bb%5Cright)%5E%7B2%20%7D?or=input\n",
    "\n",
    "\n",
    "Entonces, el cuadrado de la suma da un trinomio, no un binomio. "
   ]
  },
  {
   "cell_type": "code",
   "execution_count": null,
   "id": "555a3d38",
   "metadata": {},
   "outputs": [],
   "source": []
  },
  {
   "cell_type": "code",
   "execution_count": null,
   "id": "ac650181",
   "metadata": {},
   "outputs": [],
   "source": []
  },
  {
   "cell_type": "markdown",
   "id": "cbd6c0ec",
   "metadata": {
    "slideshow": {
     "slide_type": "slide"
    }
   },
   "source": [
    "## [Evaluación de la clase del profesor Marco Cañas](https://forms.office.com/Pages/ResponsePage.aspx?id=IefhmYRxjkmK_7KtTlPBwkanXIs1i1FEujpsZgO6dXpUREJPV1kxUk1JV1ozTFJIQVNIQjY5WEY3US4u)"
   ]
  },
  {
   "cell_type": "markdown",
   "id": "49a2c8fd",
   "metadata": {
    "slideshow": {
     "slide_type": "slide"
    }
   },
   "source": [
    "## Referentes  \n",
    "\n",
    "* [Paulo Emilio Oviedo](https://ciencia.lasalle.edu.co/cgi/viewcontent.cgi?article=1064&context=ap#:~:text=Los%20estilos%20de%20ense%C3%B1anza%20han%20sido%20conceptualizados%20en,Concepci%C3%B3n%20que%20ha%20sido%20fundamentada%20desde%20diversos%20autores.). Estilos de enseñanza y estilos de aprendizaje: implicaciones para la educación por ciclosla educación por ciclos"
   ]
  },
  {
   "cell_type": "code",
   "execution_count": null,
   "id": "074a41b2",
   "metadata": {},
   "outputs": [],
   "source": []
  }
 ],
 "metadata": {
  "celltoolbar": "Slideshow",
  "kernelspec": {
   "display_name": "Python 3 (ipykernel)",
   "language": "python",
   "name": "python3"
  },
  "language_info": {
   "codemirror_mode": {
    "name": "ipython",
    "version": 3
   },
   "file_extension": ".py",
   "mimetype": "text/x-python",
   "name": "python",
   "nbconvert_exporter": "python",
   "pygments_lexer": "ipython3",
   "version": "3.9.13"
  },
  "rise": {
   "enable_chalkboard": true,
   "theme": "sky",
   "transition": "zoom"
  }
 },
 "nbformat": 4,
 "nbformat_minor": 5
}
