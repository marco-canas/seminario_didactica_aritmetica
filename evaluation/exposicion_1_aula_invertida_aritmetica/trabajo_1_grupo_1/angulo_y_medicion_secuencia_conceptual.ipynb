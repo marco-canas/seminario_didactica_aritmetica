{
 "cells": [
  {
   "cell_type": "markdown",
   "id": "65696619",
   "metadata": {},
   "source": []
  },
  {
   "cell_type": "markdown",
   "id": "d11640d0",
   "metadata": {},
   "source": []
  },
  {
   "cell_type": "markdown",
   "id": "1a7bb306",
   "metadata": {},
   "source": [
    "# Ángulo y su medición. Secuencia conceptual"
   ]
  },
  {
   "cell_type": "markdown",
   "id": "cc7b03fe",
   "metadata": {},
   "source": []
  },
  {
   "cell_type": "code",
   "execution_count": null,
   "id": "0c6358aa",
   "metadata": {},
   "outputs": [],
   "source": []
  },
  {
   "cell_type": "code",
   "execution_count": null,
   "id": "7d6d03e3",
   "metadata": {},
   "outputs": [],
   "source": []
  },
  {
   "cell_type": "code",
   "execution_count": null,
   "id": "ae565d20",
   "metadata": {},
   "outputs": [],
   "source": []
  }
 ],
 "metadata": {
  "kernelspec": {
   "display_name": "Python 3 (ipykernel)",
   "language": "python",
   "name": "python3"
  },
  "language_info": {
   "codemirror_mode": {
    "name": "ipython",
    "version": 3
   },
   "file_extension": ".py",
   "mimetype": "text/x-python",
   "name": "python",
   "nbconvert_exporter": "python",
   "pygments_lexer": "ipython3",
   "version": "3.9.13"
  }
 },
 "nbformat": 4,
 "nbformat_minor": 5
}
