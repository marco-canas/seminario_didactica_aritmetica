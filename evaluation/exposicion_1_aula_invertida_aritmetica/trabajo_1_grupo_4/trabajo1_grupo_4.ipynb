{
 "cells": [
  {
   "cell_type": "markdown",
   "id": "296a72d1",
   "metadata": {
    "slideshow": {
     "slide_type": "slide"
    }
   },
   "source": [
    "<table align=\"left\">\n",
    "  <td>\n",
    "    <a href=\"https://colab.research.google.com/github/marco-canas/4_didactica_aritmetica/blob/main/classes/5_class_feb_23_jueves_estilos_ense%C3%B1anza/5_class_feb_23.ipynb\" target=\"_parent\"><img src=\"https://colab.research.google.com/assets/colab-badge.svg\" alt=\"Open In Colab\"/></a>\n",
    "  </td>\n",
    "</table>"
   ]
  },
  {
   "cell_type": "markdown",
   "id": "0ab2eea5",
   "metadata": {
    "slideshow": {
     "slide_type": "slide"
    }
   },
   "source": [
    "## [Video de apoyo]()"
   ]
  },
  {
   "cell_type": "markdown",
   "id": "c37ecd3c",
   "metadata": {
    "slideshow": {
     "slide_type": "slide"
    }
   },
   "source": [
    "# Trabajo 1 Grupo 4\n",
    "\n",
    "Contenido matematico transversal a sus tres trabajos es: **productos notables**\n",
    "\n",
    "Equipo 4: Angela y Leonel.   \n",
    "\n",
    "Primer trabajo: Aula invertida  \n",
    "\n",
    "Trabajo 2: Estilo de enseñanza: [Personal](https://udeaeduco-my.sharepoint.com/:b:/g/personal/marco_canas_udea_edu_co/EagoH3hpbShEub1IqCmJRegBJr0fWJw48dvWgUpDnXx5Kw?e=1VCOja). \n",
    "\n",
    "\n",
    "Trabajo 3: [Estilo de aprendizaje](https://udeaeduco-my.sharepoint.com/:b:/g/personal/marco_canas_udea_edu_co/EagoH3hpbShEub1IqCmJRegBJr0fWJw48dvWgUpDnXx5Kw?e=1VCOja): Dependiente. "
   ]
  },
  {
   "cell_type": "markdown",
   "id": "51623c86",
   "metadata": {
    "slideshow": {
     "slide_type": "slide"
    }
   },
   "source": [
    "# Objetivos de aprendizaje  \n",
    "\n",
    "* Conozca todos los productos notables o especiales\n",
    "\n",
    "* al ver una expresión algebraica, el estudiante pueda identificar que producto notable represente. "
   ]
  },
  {
   "cell_type": "code",
   "execution_count": null,
   "id": "979e1320",
   "metadata": {
    "slideshow": {
     "slide_type": "slide"
    }
   },
   "outputs": [],
   "source": []
  },
  {
   "cell_type": "markdown",
   "id": "147b4653",
   "metadata": {
    "slideshow": {
     "slide_type": "slide"
    }
   },
   "source": [
    "# Para el diseño de la clase tenga en cuenta algunos problemas de aprendizaje"
   ]
  },
  {
   "cell_type": "markdown",
   "id": "6fa3808e",
   "metadata": {
    "slideshow": {
     "slide_type": "slide"
    }
   },
   "source": [
    "$$ (a+b)^{2} = a^{2} + b^{2} $$\n",
    "\n",
    "este es un problema de aprendizaje. Muy Muy recurrente. \n",
    "\n",
    "* El estudiante piensa que la potenciación distribuye para sumas. Lo que que ocurre en el producto y la división. \n"
   ]
  },
  {
   "cell_type": "markdown",
   "id": "79ea1e45",
   "metadata": {
    "slideshow": {
     "slide_type": "slide"
    }
   },
   "source": [
    "## Estategia para resolver el problema de aprendizaje\n",
    "\n",
    "Utilizar la representación geométrica de los objetos algebraicos.\n",
    "\n",
    "Utilizó Teams y GeoGebra. \n"
   ]
  },
  {
   "cell_type": "markdown",
   "id": "1061f95a",
   "metadata": {
    "slideshow": {
     "slide_type": "slide"
    }
   },
   "source": [
    "$$ (a+b)^{2} = a^{2}  + 2ab + b^{2}$$"
   ]
  },
  {
   "cell_type": "code",
   "execution_count": null,
   "id": "c58cabc5",
   "metadata": {
    "slideshow": {
     "slide_type": "slide"
    }
   },
   "outputs": [],
   "source": []
  },
  {
   "cell_type": "markdown",
   "id": "b16d8884",
   "metadata": {
    "slideshow": {
     "slide_type": "slide"
    }
   },
   "source": [
    "## Referentes  \n",
    "\n",
    "* [Paulo Emilio Oviedo](https://ciencia.lasalle.edu.co/cgi/viewcontent.cgi?article=1064&context=ap#:~:text=Los%20estilos%20de%20ense%C3%B1anza%20han%20sido%20conceptualizados%20en,Concepci%C3%B3n%20que%20ha%20sido%20fundamentada%20desde%20diversos%20autores.). Estilos de enseñanza y estilos de aprendizaje: implicaciones para la educación por ciclosla educación por ciclos\n",
    "\n",
    "* Aurelio Baldor 1935. "
   ]
  },
  {
   "cell_type": "markdown",
   "id": "9716086d",
   "metadata": {},
   "source": [
    "## [Evaluación de la clase del profesor Marco Cañas](https://forms.office.com/Pages/ResponsePage.aspx?id=IefhmYRxjkmK_7KtTlPBwkanXIs1i1FEujpsZgO6dXpUREJPV1kxUk1JV1ozTFJIQVNIQjY5WEY3US4u)"
   ]
  },
  {
   "cell_type": "code",
   "execution_count": null,
   "id": "e697b3c9",
   "metadata": {},
   "outputs": [],
   "source": []
  }
 ],
 "metadata": {
  "celltoolbar": "Slideshow",
  "kernelspec": {
   "display_name": "Python 3 (ipykernel)",
   "language": "python",
   "name": "python3"
  },
  "language_info": {
   "codemirror_mode": {
    "name": "ipython",
    "version": 3
   },
   "file_extension": ".py",
   "mimetype": "text/x-python",
   "name": "python",
   "nbconvert_exporter": "python",
   "pygments_lexer": "ipython3",
   "version": "3.9.13"
  }
 },
 "nbformat": 4,
 "nbformat_minor": 5
}
