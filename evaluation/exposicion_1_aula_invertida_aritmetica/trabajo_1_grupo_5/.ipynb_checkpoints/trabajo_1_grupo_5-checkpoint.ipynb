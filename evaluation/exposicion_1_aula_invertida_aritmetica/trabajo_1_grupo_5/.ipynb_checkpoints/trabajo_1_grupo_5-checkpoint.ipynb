{
 "cells": [
  {
   "cell_type": "markdown",
   "id": "8daa8054",
   "metadata": {
    "slideshow": {
     "slide_type": "slide"
    }
   },
   "source": [
    "<table align=\"left\">\n",
    "  <td>\n",
    "    <a href=\"https://colab.research.google.com/github/marco-canas/4_didactica_aritmetica/blob/main/classes/5_class_feb_23_jueves_estilos_ense%C3%B1anza/5_class_feb_23.ipynb\" target=\"_parent\"><img src=\"https://colab.research.google.com/assets/colab-badge.svg\" alt=\"Open In Colab\"/></a>\n",
    "  </td>\n",
    "</table>"
   ]
  },
  {
   "cell_type": "markdown",
   "id": "29c1ee05",
   "metadata": {
    "slideshow": {
     "slide_type": "slide"
    }
   },
   "source": [
    "## [Video de apoyo]()"
   ]
  },
  {
   "cell_type": "markdown",
   "id": "069dc3cd",
   "metadata": {
    "slideshow": {
     "slide_type": "slide"
    }
   },
   "source": [
    "# Trabajo 1 Grupo 5\n",
    "\n",
    "Equipo 5: Diego y Angelica\n",
    "\n",
    "Contenido matemático transversal a todos los trabajos es: **Simplificación de expresiones racionales**.\n",
    "\n",
    "Trabajo 1: Aula invertida: \n",
    "\n",
    "Trabajo 2: Estilo de enseñanza: **Autoridad formal**\n",
    "\n",
    "Trabajo 3: Estilo de aprendizaje: **Colaborativo**"
   ]
  },
  {
   "cell_type": "markdown",
   "id": "7ab08be0",
   "metadata": {
    "slideshow": {
     "slide_type": "slide"
    }
   },
   "source": [
    "##  Ejemplo de problema de aprendizaje  \n",
    "\n",
    "$$ \\frac{2+8}{2 + 4} = \\frac{8}{4}  = 2 $$\n",
    "\n",
    "Los sumandos repetidos no se cancelan. Los que se cancelan son los factores. \n"
   ]
  },
  {
   "cell_type": "markdown",
   "id": "94555eda",
   "metadata": {
    "slideshow": {
     "slide_type": "slide"
    }
   },
   "source": [
    "# Pero no hay problema si el razonamiento es el siguiente\n",
    "\n",
    "$$ \\frac{2 (8)}{2 ( 4)} = \\frac{8}{4}  = 2 $$\n",
    "\n",
    "hay que mostrarle al estudiante que da lo mismo cuando cancelamos y cuando no. "
   ]
  },
  {
   "cell_type": "code",
   "execution_count": null,
   "id": "e5b90750",
   "metadata": {},
   "outputs": [],
   "source": []
  },
  {
   "cell_type": "markdown",
   "id": "5dd4f3a7",
   "metadata": {},
   "source": [
    "## Referentes  \n",
    "\n",
    "* [Paulo Emilio Oviedo](https://ciencia.lasalle.edu.co/cgi/viewcontent.cgi?article=1064&context=ap#:~:text=Los%20estilos%20de%20ense%C3%B1anza%20han%20sido%20conceptualizados%20en,Concepci%C3%B3n%20que%20ha%20sido%20fundamentada%20desde%20diversos%20autores.). Estilos de enseñanza y estilos de aprendizaje: implicaciones para la educación por ciclosla educación por ciclos"
   ]
  },
  {
   "cell_type": "markdown",
   "id": "e1044764",
   "metadata": {
    "slideshow": {
     "slide_type": "slide"
    }
   },
   "source": [
    "## [Evaluación de la clase del profesor Marco Cañas](https://forms.office.com/Pages/ResponsePage.aspx?id=IefhmYRxjkmK_7KtTlPBwkanXIs1i1FEujpsZgO6dXpUREJPV1kxUk1JV1ozTFJIQVNIQjY5WEY3US4u)"
   ]
  },
  {
   "cell_type": "code",
   "execution_count": null,
   "id": "518de081",
   "metadata": {},
   "outputs": [],
   "source": []
  }
 ],
 "metadata": {
  "celltoolbar": "Slideshow",
  "kernelspec": {
   "display_name": "Python 3 (ipykernel)",
   "language": "python",
   "name": "python3"
  },
  "language_info": {
   "codemirror_mode": {
    "name": "ipython",
    "version": 3
   },
   "file_extension": ".py",
   "mimetype": "text/x-python",
   "name": "python",
   "nbconvert_exporter": "python",
   "pygments_lexer": "ipython3",
   "version": "3.9.13"
  }
 },
 "nbformat": 4,
 "nbformat_minor": 5
}
