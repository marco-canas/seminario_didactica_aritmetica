{
 "cells": [
  {
   "cell_type": "markdown",
   "id": "9ac0203f",
   "metadata": {},
   "source": []
  },
  {
   "cell_type": "markdown",
   "id": "03c93dea",
   "metadata": {},
   "source": [
    "## [Video de presentación del diseño de la clase]()"
   ]
  },
  {
   "cell_type": "markdown",
   "id": "d5ab4266",
   "metadata": {},
   "source": [
    "## Trabajo 1 del Grupo 2 : Aula invertida\n",
    "Contenido: **Razones trigonométricas:** \n",
    "\n",
    "\n",
    "\n",
    "Estudiantes: \n",
    "\n",
    "* Estefania Cali, y \n",
    "* Yeify"
   ]
  },
  {
   "cell_type": "code",
   "execution_count": null,
   "id": "92a3a3f0",
   "metadata": {},
   "outputs": [],
   "source": []
  },
  {
   "cell_type": "code",
   "execution_count": null,
   "id": "5bf2ac26",
   "metadata": {},
   "outputs": [],
   "source": []
  },
  {
   "cell_type": "code",
   "execution_count": null,
   "id": "9fc6d0c6",
   "metadata": {},
   "outputs": [],
   "source": []
  }
 ],
 "metadata": {
  "kernelspec": {
   "display_name": "Python 3 (ipykernel)",
   "language": "python",
   "name": "python3"
  },
  "language_info": {
   "codemirror_mode": {
    "name": "ipython",
    "version": 3
   },
   "file_extension": ".py",
   "mimetype": "text/x-python",
   "name": "python",
   "nbconvert_exporter": "python",
   "pygments_lexer": "ipython3",
   "version": "3.9.13"
  }
 },
 "nbformat": 4,
 "nbformat_minor": 5
}
