{
 "cells": [
  {
   "cell_type": "markdown",
   "id": "ea04702c",
   "metadata": {
    "slideshow": {
     "slide_type": "slide"
    }
   },
   "source": [
    "<table align=\"left\">\n",
    "  <td>\n",
    "    <a href=\"https://colab.research.google.com/github/marco-canas/4_didactica_aritmetica/blob/main/classes/5_class_feb_23_jueves_estilos_ense%C3%B1anza/5_class_feb_23.ipynb\" target=\"_parent\"><img src=\"https://colab.research.google.com/assets/colab-badge.svg\" alt=\"Open In Colab\"/></a>\n",
    "  </td>\n",
    "</table>"
   ]
  },
  {
   "cell_type": "markdown",
   "id": "eec271d7",
   "metadata": {
    "slideshow": {
     "slide_type": "slide"
    }
   },
   "source": [
    "## [Video de presentación del diseño de la clase]()"
   ]
  },
  {
   "cell_type": "markdown",
   "id": "fe193b35",
   "metadata": {
    "slideshow": {
     "slide_type": "slide"
    }
   },
   "source": [
    "## Trabajo 1 del Grupo 2 : Aula invertida\n",
    "Contenido: **Razones trigonométricas:** \n",
    "\n",
    "\n",
    "\n",
    "Estudiantes: \n",
    "\n",
    "* Estefania Cali, y \n",
    "* Yeify Uribe \n",
    "\n",
    "Estilo de aprendizaje: **elusivo**\n",
    "\n",
    "No manifiestan entusiasmo en clase. No participan y se mantienen aislados. Son apáticos y desinteresados en las actividades es-\n",
    "colares. No les gusta estar mucho tiempo en el aula."
   ]
  },
  {
   "cell_type": "code",
   "execution_count": null,
   "id": "2aeec4d7",
   "metadata": {
    "slideshow": {
     "slide_type": "slide"
    }
   },
   "outputs": [],
   "source": []
  },
  {
   "cell_type": "markdown",
   "id": "5083024e",
   "metadata": {},
   "source": [
    "## Referentes  \n",
    "\n",
    "* [Paulo Emilio Oviedo](https://ciencia.lasalle.edu.co/cgi/viewcontent.cgi?article=1064&context=ap#:~:text=Los%20estilos%20de%20ense%C3%B1anza%20han%20sido%20conceptualizados%20en,Concepci%C3%B3n%20que%20ha%20sido%20fundamentada%20desde%20diversos%20autores.). Estilos de enseñanza y estilos de aprendizaje: implicaciones para la educación por ciclosla educación por ciclos"
   ]
  },
  {
   "cell_type": "markdown",
   "id": "2f1a26d5",
   "metadata": {},
   "source": [
    "## [Evaluación de la clase del profesor Marco Cañas](https://forms.office.com/Pages/ResponsePage.aspx?id=IefhmYRxjkmK_7KtTlPBwkanXIs1i1FEujpsZgO6dXpUREJPV1kxUk1JV1ozTFJIQVNIQjY5WEY3US4u)"
   ]
  },
  {
   "cell_type": "markdown",
   "id": "71ff542d",
   "metadata": {},
   "source": []
  }
 ],
 "metadata": {
  "celltoolbar": "Slideshow",
  "kernelspec": {
   "display_name": "Python 3 (ipykernel)",
   "language": "python",
   "name": "python3"
  },
  "language_info": {
   "codemirror_mode": {
    "name": "ipython",
    "version": 3
   },
   "file_extension": ".py",
   "mimetype": "text/x-python",
   "name": "python",
   "nbconvert_exporter": "python",
   "pygments_lexer": "ipython3",
   "version": "3.9.13"
  }
 },
 "nbformat": 4,
 "nbformat_minor": 5
}
