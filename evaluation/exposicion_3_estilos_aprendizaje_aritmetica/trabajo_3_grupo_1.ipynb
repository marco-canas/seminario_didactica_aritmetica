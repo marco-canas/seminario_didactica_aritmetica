{
 "cells": [
  {
   "cell_type": "markdown",
   "id": "98fc825a",
   "metadata": {
    "slideshow": {
     "slide_type": "slide"
    }
   },
   "source": [
    "<table align=\"left\">\n",
    "  <td>\n",
    "    <a href=\"https://colab.research.google.com/github/marco-canas/4_didactica_aritmetica/blob/main/evaluation/exposicion_3_estilos_aprendizaje_aritmetica/trabajo_3_grupo_1.ipynb\" target=\"_parent\"><img src=\"https://colab.research.google.com/assets/colab-badge.svg\" alt=\"Open In Colab\"/></a>\n",
    "  </td>\n",
    "</table>"
   ]
  },
  {
   "cell_type": "markdown",
   "id": "c7b84cd9",
   "metadata": {
    "slideshow": {
     "slide_type": "slide"
    }
   },
   "source": [
    "## [Video de apoyo a la lectura interactiva y experimental de este cuaderno ]()"
   ]
  },
  {
   "cell_type": "markdown",
   "id": "5ef64ace",
   "metadata": {},
   "source": [
    "Estudiantes a cargo: \n",
    "Grupo 1: \n",
    "* Merlis: \n",
    "* Fancisco Javier: \n",
    "\n",
    "Estilo de parendizaje asignado: Participativo. \n",
    "\n",
    "El contenido a desarrollar es el de Factorización de polinomios cuadráticos o de grado 2. "
   ]
  },
  {
   "cell_type": "markdown",
   "id": "5097a7ed",
   "metadata": {
    "slideshow": {
     "slide_type": "slide"
    }
   },
   "source": [
    "Modelo [Aula invertida](https://www3.gobiernodecanarias.org/medusa/ecoescuela/pedagotic/files/2018/11/flipped-classroom.pdf)"
   ]
  },
  {
   "cell_type": "markdown",
   "id": "faa5e406",
   "metadata": {
    "slideshow": {
     "slide_type": "slide"
    }
   },
   "source": [
    "# Los estilos de aprendizaje "
   ]
  },
  {
   "cell_type": "markdown",
   "id": "bf8d2616",
   "metadata": {
    "slideshow": {
     "slide_type": "slide"
    }
   },
   "source": [
    "Las teorías sobre estilos de aprendizaje han tomado un fuerte auge en los últimos treinta años. "
   ]
  },
  {
   "cell_type": "markdown",
   "id": "35273bd5",
   "metadata": {
    "slideshow": {
     "slide_type": "slide"
    }
   },
   "source": [
    "En realidad, existen diversas propuestas para clasificar los distintos estilos de aprendizaje de las personas, atendiendo \n",
    "a múltiples criterios y objetivos. "
   ]
  },
  {
   "cell_type": "markdown",
   "id": "bf86b67e",
   "metadata": {
    "slideshow": {
     "slide_type": "slide"
    }
   },
   "source": [
    "A continuación se presentan algunos de los principales autores que han estudiado este tema."
   ]
  },
  {
   "cell_type": "markdown",
   "id": "22ff59b0",
   "metadata": {
    "slideshow": {
     "slide_type": "slide"
    }
   },
   "source": [
    " \n",
    "Silva (1994) y James y Gardner (1995) plantean el estilo de aprendizaje como un proceso cognitivo, donde cada individuo percibe (absorbe) y procesa (retiene) información de manera particular. "
   ]
  },
  {
   "cell_type": "markdown",
   "id": "2f5611fc",
   "metadata": {
    "slideshow": {
     "slide_type": "slide"
    }
   },
   "source": [
    "En este sentido, Lozano (2006), basado en el modelo de estilos de aprendizaje de Dunn y Dunn (1999), afirma que:\n",
    "El estilo de aprendizaje es un conjunto biológico y del desarrollo de características personales que hacen que ambientes, métodos y recursos instruccionales idénticos sean eficaces para algunos estudiantes e ineficaces para otros."
   ]
  },
  {
   "cell_type": "markdown",
   "id": "4ea344e7",
   "metadata": {
    "slideshow": {
     "slide_type": "slide"
    }
   },
   "source": [
    "La mayoría de la gente tiene ciertas preferencias de estilos de aprendizaje, pero estas preferencias difieren de manera significativa. "
   ]
  },
  {
   "cell_type": "markdown",
   "id": "61ada569",
   "metadata": {
    "slideshow": {
     "slide_type": "slide"
    }
   },
   "source": [
    " \n",
    "Los profesores pueden aprender a usar los estilos de aprendizaje como una base sólida en la preparación de sus programas académicos. "
   ]
  },
  {
   "cell_type": "markdown",
   "id": "12e5dc7e",
   "metadata": {
    "slideshow": {
     "slide_type": "slide"
    }
   },
   "source": [
    "Cuanto menor sea el éxito académico en una persona, mayor es la importancia de acomodar sus preferencias de estilos de aprendizaje a experiencias de aprendizaje adecuadas."
   ]
  },
  {
   "cell_type": "markdown",
   "id": "b2361b44",
   "metadata": {
    "slideshow": {
     "slide_type": "slide"
    }
   },
   "source": [
    "Otro de los modelos de estilos de aprendizaje que ha llamado especialmente la atención en los últimos años fue el propuesto por Grasha (1996). "
   ]
  },
  {
   "cell_type": "markdown",
   "id": "ca085d98",
   "metadata": {
    "slideshow": {
     "slide_type": "slide"
    }
   },
   "source": [
    "Este modelo se basa en la observación de los patrones de conducta relacionados con las preferencias de los alumnos a \n",
    "la hora de interactuar con sus compañeros y con sus profesores en el aula.  "
   ]
  },
  {
   "cell_type": "markdown",
   "id": "4e0f8e3c",
   "metadata": {
    "slideshow": {
     "slide_type": "slide"
    }
   },
   "source": [
    "Grasha y Riechmann (1975) propusieron seis estilos de aprendizaje, basados en tres dimensiones de carácter bipolar, a saber: las actitudes del estudiante hacia el aprendizaje (participativo versus elusivo), las perspectivas sobre los compañeros y los maestros (competitivo versus colaborativo) y las reacciones a los procedimientos didácticos dentro del aula (dependiente versus independiente). "
   ]
  },
  {
   "cell_type": "markdown",
   "id": "365d5c8d",
   "metadata": {
    "slideshow": {
     "slide_type": "slide"
    }
   },
   "source": [
    "Según los autores, a pesar de que estos estilos sean bipolares en cada dimensión, no significa ello que no puedan complementarse, ya que solo representan extremos, entre los cuales se pueden conformar distintos tipos de perfiles."
   ]
  },
  {
   "cell_type": "markdown",
   "id": "64aa1d53",
   "metadata": {
    "slideshow": {
     "slide_type": "slide"
    }
   },
   "source": [
    "Según Grasha (1996) las preferencias en el aula pueden cambiar de acuerdo con las exigencias didácticas que imponga, promueva o establezca un profesor."
   ]
  },
  {
   "cell_type": "markdown",
   "id": "d17a46a8",
   "metadata": {
    "slideshow": {
     "slide_type": "slide"
    }
   },
   "source": [
    "El siguiente cuadro ilustra algunas características de los estilos propuestos por Grasha y Riechmann:"
   ]
  },
  {
   "cell_type": "markdown",
   "id": "ad437f4a",
   "metadata": {
    "slideshow": {
     "slide_type": "slide"
    }
   },
   "source": [
    "<img src = 'https://github.com/marco-canas/4_didactica_aritmetica/blob/main/evaluation/exposicion_3_estilos_aprendizaje_aritmetica/estilos_aprendizaje.png?raw=true'>"
   ]
  },
  {
   "cell_type": "markdown",
   "id": "fb9c19bc",
   "metadata": {
    "slideshow": {
     "slide_type": "slide"
    }
   },
   "source": [
    "# Trabajo 3 Grupo 1  \n",
    "\n",
    "Factorización de **trinomios cuadrados**. "
   ]
  },
  {
   "cell_type": "markdown",
   "id": "aefdf299",
   "metadata": {
    "slideshow": {
     "slide_type": "slide"
    }
   },
   "source": [
    "## Objetivo de esta propuesta de clase\n",
    "\n",
    "* Promover un aprendizaje participativo, colaborativo e independiente en los estudiantes. \n",
    "* aprenda a factorizar trinomios cuadrados $ax^{2} + bx + c$\n"
   ]
  },
  {
   "cell_type": "markdown",
   "id": "9591351d",
   "metadata": {
    "slideshow": {
     "slide_type": "slide"
    }
   },
   "source": [
    "## Exploración de presaberes\n",
    "\n",
    "0. Qué es factorizar u de algún ejemplo: es descomponer en **factores**, \n",
    "\n",
    "$$ 20 = 5 \\cdot \\left(  2^{2} \\right) $$\n",
    "\n",
    "que diferencia hay entre factor y sumando\n",
    "¿cuál es la diferencia entre factorizar y efectuar un producto?  \n",
    "\n",
    "1. Factorización de trinomios cuadrados perfectos: $x^{2} + 2xy + y^{2}$.\n",
    "2. Factorización de un trinomio cuadrático cuando es de la forma $x^{2} + bx + c$\n",
    "3. Factorización de trinomios cuadráticos de la forma  $ax^{2} + bx + c$.\n",
    "1. Factorización por completación del trinomio cuadrado perfecto\n",
    "5. Factorización de trinomios cuadrados con la fórmula del bachiller"
   ]
  },
  {
   "cell_type": "markdown",
   "id": "18d8347b",
   "metadata": {
    "slideshow": {
     "slide_type": "slide"
    }
   },
   "source": [
    "<img src = 'https://github.com/marco-canas/4_didactica_aritmetica/blob/main/evaluation/exposicion_3_estilos_aprendizaje_aritmetica/metodo_aspa.jpeg?raw=true'>\n",
    "\n",
    "imagen del método aspa. "
   ]
  },
  {
   "cell_type": "markdown",
   "id": "8d3457a3",
   "metadata": {
    "slideshow": {
     "slide_type": "slide"
    }
   },
   "source": [
    "# Factorización utilizando la fórmula del bachiller"
   ]
  },
  {
   "cell_type": "markdown",
   "id": "772e91be",
   "metadata": {
    "slideshow": {
     "slide_type": "slide"
    }
   },
   "source": [
    "Supongamos que tenemos una ecuación cuadrática $ax^{2} + bx + c = 0$, donde $a \\neq 0$, entonces su solución es: \n",
    "\n",
    "\n",
    "$$ x = \\frac{-b \\pm \\sqrt{b^{2} - 4ac}}{2a} $$"
   ]
  },
  {
   "cell_type": "markdown",
   "id": "98fa25cb",
   "metadata": {
    "slideshow": {
     "slide_type": "slide"
    }
   },
   "source": [
    "## Empecemos con el teorema del residuo"
   ]
  },
  {
   "cell_type": "code",
   "execution_count": null,
   "id": "fc2fe765",
   "metadata": {
    "slideshow": {
     "slide_type": "slide"
    }
   },
   "outputs": [],
   "source": []
  },
  {
   "cell_type": "markdown",
   "id": "6d301a10",
   "metadata": {
    "slideshow": {
     "slide_type": "slide"
    }
   },
   "source": [
    "# Continuemos con el teorema del factor"
   ]
  },
  {
   "cell_type": "code",
   "execution_count": null,
   "id": "5a2f99c4",
   "metadata": {
    "slideshow": {
     "slide_type": "slide"
    }
   },
   "outputs": [],
   "source": []
  },
  {
   "cell_type": "markdown",
   "id": "d4c417bd",
   "metadata": {
    "slideshow": {
     "slide_type": "slide"
    }
   },
   "source": [
    "## Terminemos con el teorema fundamental del álgebra"
   ]
  },
  {
   "cell_type": "markdown",
   "id": "d9f748f8",
   "metadata": {},
   "source": [
    "# Teorema fundamental del álgebra\n",
    "\n",
    "\n",
    "El teorema fundamental del álgebra establece que todo polinomio de grado mayor que cero tiene una raíz.1​ El dominio de la variable es el conjunto de los números complejos, que es una extensión de los números reales.\n",
    "\n",
    "Aunque este enunciado, en principio, parece ser una declaración débil, implica que todo polinomio de grado n de una variable con grado mayor que cero con coeficientes complejos tiene, contando las multiplicidades, exactamente n raíces complejas. La equivalencia de estos dos enunciados se realiza mediante la división polinómica sucesiva por factores lineales.\n",
    "\n",
    "Hay muchas demostraciones de esta importante proposición, que requieren bastantes conocimientos matemáticos para formalizarlas. "
   ]
  },
  {
   "cell_type": "code",
   "execution_count": null,
   "id": "d35eb488",
   "metadata": {
    "slideshow": {
     "slide_type": "slide"
    }
   },
   "outputs": [],
   "source": []
  },
  {
   "cell_type": "markdown",
   "id": "50287e12",
   "metadata": {
    "slideshow": {
     "slide_type": "slide"
    }
   },
   "source": [
    "## Actividades para trabajo por fuera de clase"
   ]
  },
  {
   "cell_type": "markdown",
   "id": "cb5ea12e",
   "metadata": {
    "slideshow": {
     "slide_type": "slide"
    }
   },
   "source": [
    "* Descargar cmaptool y practicar en la construcción de mapas conceptules. "
   ]
  },
  {
   "cell_type": "markdown",
   "id": "48504b9f",
   "metadata": {
    "slideshow": {
     "slide_type": "slide"
    }
   },
   "source": [
    "## Actividades de clase\n",
    "\n",
    "1. Hacer un mapa conceptual que explique porqué una fórmula para resolver una ecuación cuadrática sirve para factorizar trinomios cuadráticos. "
   ]
  },
  {
   "cell_type": "markdown",
   "id": "e8d0994a",
   "metadata": {
    "slideshow": {
     "slide_type": "slide"
    }
   },
   "source": [
    "### Problema\n",
    "\n",
    "Factorice la siguiente forma cuadrática\n",
    "\n",
    "$$ x^{2} - 3x  + 2 $$\n"
   ]
  },
  {
   "cell_type": "markdown",
   "id": "37579239",
   "metadata": {
    "slideshow": {
     "slide_type": "slide"
    }
   },
   "source": [
    "## Solución "
   ]
  },
  {
   "cell_type": "code",
   "execution_count": 1,
   "id": "85c12e96",
   "metadata": {
    "slideshow": {
     "slide_type": "slide"
    }
   },
   "outputs": [],
   "source": [
    "def f(x):\n",
    "    return x**2-3*x + 2"
   ]
  },
  {
   "cell_type": "markdown",
   "id": "cb7e05fe",
   "metadata": {
    "slideshow": {
     "slide_type": "slide"
    }
   },
   "source": [
    "## Evaluación de funciones "
   ]
  },
  {
   "cell_type": "code",
   "execution_count": 4,
   "id": "a7855d9e",
   "metadata": {
    "slideshow": {
     "slide_type": "slide"
    }
   },
   "outputs": [
    {
     "data": {
      "text/plain": [
       "0"
      ]
     },
     "execution_count": 4,
     "metadata": {},
     "output_type": "execute_result"
    }
   ],
   "source": [
    "f(2)"
   ]
  },
  {
   "cell_type": "markdown",
   "id": "71e084ce",
   "metadata": {
    "slideshow": {
     "slide_type": "slide"
    }
   },
   "source": [
    "* entonces $1$ y $2$ son ceros de de la función $f$. \n",
    "* Geométricamente son los puntos del eje horizontral donde la gráfica de la función cuadrática corta o toca al eje $x$.  "
   ]
  },
  {
   "cell_type": "code",
   "execution_count": 15,
   "id": "84fa6955",
   "metadata": {
    "scrolled": true,
    "slideshow": {
     "slide_type": "slide"
    }
   },
   "outputs": [
    {
     "data": {
      "image/png": "[encoded data removed]",
      "text/plain": [
       "<Figure size 640x480 with 1 Axes>"
      ]
     },
     "metadata": {},
     "output_type": "display_data"
    }
   ],
   "source": [
    "import numpy as np \n",
    "\n",
    "import matplotlib.pyplot as plt \n",
    "\n",
    "dominio = [0,3]\n",
    "epsilon = 0.1\n",
    "\n",
    "X = np.arange(dominio[0],dominio[1]+epsilon, epsilon)\n",
    "\n",
    "F = f(X)\n",
    "\n",
    "plt.plot(X,F, 'b-')\n",
    "\n",
    "plt.plot([dominio[0],dominio[1]], [0,0], 'g-', alpha = 0.4)\n",
    "\n",
    "plt.grid(alpha = 0.4)\n",
    "\n",
    "plt.savefig('ceros_funcion_cuadratica.jpg')\n",
    "\n",
    "plt.show()\n"
   ]
  },
  {
   "cell_type": "code",
   "execution_count": null,
   "id": "f4e0d5eb",
   "metadata": {
    "slideshow": {
     "slide_type": "slide"
    }
   },
   "outputs": [],
   "source": []
  },
  {
   "cell_type": "code",
   "execution_count": null,
   "id": "d450492e",
   "metadata": {
    "slideshow": {
     "slide_type": "slide"
    }
   },
   "outputs": [],
   "source": []
  },
  {
   "cell_type": "markdown",
   "id": "d14e6d2c",
   "metadata": {
    "slideshow": {
     "slide_type": "slide"
    }
   },
   "source": [
    "## Referentes   \n",
    "\n",
    "* Estilos de enseñanza y estilos de aprendizaje: implicaciones para la educación por ciclos. Paulo Emilio Oviedo Universidad de La Salle, poviedo@unisalle.edu.co "
   ]
  },
  {
   "cell_type": "markdown",
   "id": "7455250d",
   "metadata": {
    "slideshow": {
     "slide_type": "slide"
    }
   },
   "source": [
    "## [vínculo para envio de video y cuaderno de diseño de clase](https://forms.office.com/Pages/ResponsePage.aspx?id=IefhmYRxjkmK_7KtTlPBwkanXIs1i1FEujpsZgO6dXpUOUI0SjhCOEc3NFE2VlhaVlQ5V0UyVk9ERC4u)"
   ]
  },
  {
   "cell_type": "markdown",
   "id": "7d8d068f",
   "metadata": {
    "slideshow": {
     "slide_type": "slide"
    }
   },
   "source": [
    "## [Vínculo para evaluar al profesor Marco]()"
   ]
  },
  {
   "cell_type": "markdown",
   "id": "28936670",
   "metadata": {
    "slideshow": {
     "slide_type": "slide"
    }
   },
   "source": [
    "## [Continue su formación y lectura con el siguiente cuaderno a través de este vínculo]()"
   ]
  },
  {
   "cell_type": "code",
   "execution_count": null,
   "id": "12c09c1f",
   "metadata": {},
   "outputs": [],
   "source": []
  }
 ],
 "metadata": {
  "celltoolbar": "Slideshow",
  "kernelspec": {
   "display_name": "Python 3 (ipykernel)",
   "language": "python",
   "name": "python3"
  },
  "language_info": {
   "codemirror_mode": {
    "name": "ipython",
    "version": 3
   },
   "file_extension": ".py",
   "mimetype": "text/x-python",
   "name": "python",
   "nbconvert_exporter": "python",
   "pygments_lexer": "ipython3",
   "version": "3.9.13"
  }
 },
 "nbformat": 4,
 "nbformat_minor": 5
}
