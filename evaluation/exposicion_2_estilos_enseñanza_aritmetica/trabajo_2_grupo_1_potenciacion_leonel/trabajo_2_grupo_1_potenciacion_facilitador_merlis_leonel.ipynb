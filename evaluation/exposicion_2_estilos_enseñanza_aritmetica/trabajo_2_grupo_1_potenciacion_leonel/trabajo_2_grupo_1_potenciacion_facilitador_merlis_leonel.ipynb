{
 "cells": [
  {
   "cell_type": "markdown",
   "id": "19df0340",
   "metadata": {
    "slideshow": {
     "slide_type": "slide"
    }
   },
   "source": [
    "<table align=\"left\">\n",
    "  <td>\n",
    "    <a href=\"https://colab.research.google.com/github/marco-canas/didactica_ciencia_datos/blob/main/propuesta/unidad_didac/1_statistic/1_Basic_Descriptive_Statistics/2_medidas_variabilidad/2_varianza.ipynb\" target=\"_parent\"><img src=\"https://colab.research.google.com/assets/colab-badge.svg\" alt=\"Open In Colab\"/></a>\n",
    "  </td>\n",
    "</table>"
   ]
  },
  {
   "cell_type": "markdown",
   "id": "d22714ad",
   "metadata": {
    "slideshow": {
     "slide_type": "slide"
    }
   },
   "source": [
    "## [Video de apoyo a la lectura interactiva y experimental de este cuaderno](https://www.youtube.com/watch?v=rYF9iujgJP0)"
   ]
  },
  {
   "cell_type": "markdown",
   "id": "fe505692",
   "metadata": {
    "slideshow": {
     "slide_type": "slide"
    }
   },
   "source": [
    "Estudiantes a cargo: \n",
    "Grupo 1: \n",
    "* Merlis: \n",
    "* leonel: \n",
    "\n",
    "Estilo de enseñanza para tema potenciación y radicación: **Facilitador**"
   ]
  },
  {
   "cell_type": "markdown",
   "id": "eeb4e061",
   "metadata": {
    "slideshow": {
     "slide_type": "slide"
    }
   },
   "source": [
    "## Definición de facilitador según Grasha\n",
    "\n",
    "Es aquel que guía a los estudiantes hacia el aprendizaje mediante cuestionamientos alternativos y toma de decisiones. \n",
    "Destaca el desarrollo de los estudiantes con miras a la independencia, la iniciativa y la responsabilidad. Gusta del \n",
    "trabajo por medio de proyectos o problemas que permiten a los estudiantes aprender por su cuenta y en los que la \n",
    "función del profesor es solo de asesoría."
   ]
  },
  {
   "cell_type": "markdown",
   "id": "a88b797b",
   "metadata": {
    "slideshow": {
     "slide_type": "slide"
    }
   },
   "source": [
    "# Trabajo 2 Grupo 1. Potenciación desde el estilo de enseñanza 1 "
   ]
  },
  {
   "cell_type": "markdown",
   "id": "be39349f",
   "metadata": {
    "slideshow": {
     "slide_type": "slide"
    }
   },
   "source": [
    "## [estilos de enseñanza](https://udeaeduco-my.sharepoint.com/:b:/g/personal/marco_canas_udea_edu_co/EagoH3hpbShEub1IqCmJRegBJr0fWJw48dvWgUpDnXx5Kw?e=lBKEEC)"
   ]
  },
  {
   "cell_type": "markdown",
   "id": "cc79446c",
   "metadata": {
    "slideshow": {
     "slide_type": "slide"
    }
   },
   "source": [
    "Estilos de enseñanza y estilos de aprendizaje: implicaciones para la educación por ciclos   \n",
    "\n",
    "Paulo Emilio Oviedo   \n",
    "Universidad de La Salle, poviedo@unisalle.edu.co    "
   ]
  },
  {
   "cell_type": "markdown",
   "id": "3ad33edb",
   "metadata": {
    "slideshow": {
     "slide_type": "slide"
    }
   },
   "source": [
    "En este artículo se presentan los resultados de una investigación adelantada durante el 2009 en la ciudad de Bogotá con 90 profesores y 1136 estudiantes de los grados 10 y 11 de siete instituciones educativas del Distrito Capital."
   ]
  },
  {
   "cell_type": "markdown",
   "id": "79467fb8",
   "metadata": {
    "slideshow": {
     "slide_type": "slide"
    }
   },
   "source": [
    "La investigación tuvo como objetivo examinar la relación entre los estilos de enseñanza de los profesores y los estilos de aprendizaje de los estudiantes y sus implicaciones en la educación por ciclos. "
   ]
  },
  {
   "cell_type": "markdown",
   "id": "46021fdd",
   "metadata": {
    "slideshow": {
     "slide_type": "slide"
    }
   },
   "source": [
    "La investigación tuvo como referente conceptual los estudios sobre los estilos de enseñanza y los estilos de aprendizaje propuestos por autores como Grasha (1996), Witkin et ál. (1977), Ausubel et ál. (1976), entre otros. "
   ]
  },
  {
   "cell_type": "markdown",
   "id": "bf304179",
   "metadata": {
    "slideshow": {
     "slide_type": "slide"
    }
   },
   "source": [
    "En la investigación se empleó un diseño de tipo seccional, en el que los estilos de enseñanza y los estilos de aprendizaje se evaluaron a través de la aplicación de instrumentos —cuestionarios de Grasha-Riechmann (1975)—. "
   ]
  },
  {
   "cell_type": "markdown",
   "id": "691bd8e6",
   "metadata": {
    "slideshow": {
     "slide_type": "slide"
    }
   },
   "source": [
    "Los resultados obtenidos en cada institución se analizan mediante operaciones matemáticas que se promedian y comparan para hallar los estilos predominantes de enseñanza de los profesores y los estilos de aprendizaje de los estudiantes y sus implicaciones en la educación por ciclos.  "
   ]
  },
  {
   "cell_type": "markdown",
   "id": "6db2f492",
   "metadata": {
    "slideshow": {
     "slide_type": "slide"
    }
   },
   "source": [
    "Las exigencias que caracterizan el ejercicio del profesor han generado en muchos países la preocupación por el desarrollo profesional de este. "
   ]
  },
  {
   "cell_type": "markdown",
   "id": "55f88728",
   "metadata": {
    "slideshow": {
     "slide_type": "slide"
    }
   },
   "source": [
    "Las tareas de la docencia requieren su preparación, como un factor clave para el fomento de la calidad de la educación. "
   ]
  },
  {
   "cell_type": "markdown",
   "id": "d485d0cb",
   "metadata": {
    "slideshow": {
     "slide_type": "slide"
    }
   },
   "source": [
    "Un análisis de las perspectivas desde las cuales se ha abordado la práctica pedagógica permite apreciar, en muchos casos, la ausencia de una reflexión sobre los estilos de enseñanza y los estilos de aprendizaje, de una toma de conciencia de lo que se hace como profesor y lo que hace el estudiante, ya que dicha reflexión es postergada ante la necesidad de resolver situaciones cotidianas. "
   ]
  },
  {
   "cell_type": "markdown",
   "id": "f1e683e8",
   "metadata": {
    "slideshow": {
     "slide_type": "slide"
    }
   },
   "source": [
    "Con frecuencia, los profesores consideran que es urgente hacer cosas, actuar con un sentido técnico o desarrollar actividades innovadoras, sin detenerse a pensar en por qué actúan así y cómo influyen sus decisiones en los resultados que obtienen.  "
   ]
  },
  {
   "cell_type": "markdown",
   "id": "ab0481b9",
   "metadata": {
    "slideshow": {
     "slide_type": "slide"
    }
   },
   "source": [
    "Esto implica considerar la importancia del compromiso de la Universidad de La Salle como formadora de formadores y en la producción de conocimiento sobre los procesos cognitivos, metodológicos y actitudinales que se desarrollan en las aulas, asumidos por los estilos de enseñanza de los profesores y los estilos de aprendizaje de los estudiantes, con la idea de responder de manera más pertinente al reto de formar profesores para una sociedad del conocimiento."
   ]
  },
  {
   "cell_type": "markdown",
   "id": "b8aad528",
   "metadata": {
    "slideshow": {
     "slide_type": "slide"
    }
   },
   "source": [
    "Desde los anteriores presupuestos, se han desarrollado las primeras etapas de la investigación, que tratan de determinar las implicaciones que tiene la visibilización, reflexión y toma de conciencia sobre los estilos de enseñanza de los profesores y los estilos de aprendizaje de los estudiantes en la educación por ciclos."
   ]
  },
  {
   "cell_type": "markdown",
   "id": "e17b4fa4",
   "metadata": {
    "slideshow": {
     "slide_type": "slide"
    }
   },
   "source": [
    "La intencionalidad de las primeras fases de la investigación ha sido elegir los colegios y generar un proceso reflexivo sobre los estilos de enseñanza, los estilos de aprendizaje y la educación por ciclos."
   ]
  },
  {
   "cell_type": "markdown",
   "id": "8b6acef8",
   "metadata": {
    "slideshow": {
     "slide_type": "slide"
    }
   },
   "source": [
    "En la Universidad de La Salle, el Grupo de Investigación en Resolución de Problemas, Evaluación y Dificultades de Aprendizaje (Prevadia) ha desarrollado conceptos con los cuales se abordan los análisis y las reflexiones iniciales en los que profundiza el proyecto:   \n",
    "\n",
    "estilos de enseñanza, estilos de aprendizaje y educación por ciclos. "
   ]
  },
  {
   "cell_type": "markdown",
   "id": "35fc6b24",
   "metadata": {
    "slideshow": {
     "slide_type": "slide"
    }
   },
   "source": [
    "Los estilos de enseñanza\n",
    "Los estilos de enseñanza han sido conceptualizados \n",
    "en la investigación como las formas particulares de \n",
    "interactuar en el aula que emplean los docentes y que \n",
    "reflejan, implícita o explícitamente, las concepciones \n",
    "que ellos poseen acerca del conocimiento, la enseñanza, \n",
    "el aprendizaje, la evaluación, el estudiante y el docente \n",
    "mismo. Concepción que ha sido fundamentada desde \n",
    "diversos autores.\n",
    "Lozano (2006) hace referencia a los estilos (cogni\u0002tivos, de personalidad, de aprendizaje, de enseñanza \n",
    "e intelectuales). Varios autores hacen alusión a dispo\u0002siciones (Pask, 1986), preferencias o gustos (Sternberg, \n",
    "1997; Hirsh y Kummerow, 1990; Dunn y Dunn, 1978), \n",
    "tendencias o inclinaciones (Kagan, 1965), patrones con\u0002ductuales que pueden o no ser observables, estrategias \n",
    "de aprendizaje (Riding y Rayner, 1998; Guild y Garger, \n",
    "1985) y habilidades y fortalezas (Gardner, 1983).\n",
    "Camargo y Hederich (2007: 33) señalan que las \n",
    "investigaciones sobre los estilos de enseñanza se han \n",
    "adelantado desde dos líneas con propósitos y desarrollos \n",
    "teóricos diferentes: una psicológica y otra pedagógica. \n",
    "Desde la primera, “el estilo de enseñanza tiene un origen \n",
    "vinculado con la psicología diferencial y concibe los estilos \n",
    "de enseñanza como una manifestación más del concepto \n",
    "general estilo cognitivo”. A partir de esta perspectiva, \n",
    "“el estilo de enseñanza se adopta para referirse al estilo \n",
    "cognitivo, de aprendizaje y de pensamiento del profesor \n",
    "durante su actividad docente” (Li-Fang, 2004)."
   ]
  },
  {
   "cell_type": "markdown",
   "id": "1cecbc8a",
   "metadata": {
    "slideshow": {
     "slide_type": "slide"
    }
   },
   "source": [
    "Desde la segunda, la tradición pedagógica, el tema de los estilos de enseñanza se enmarca en el “contexto de las necesidades de cualificación docente en busca de una enseñanza cada vez más efectiva, para algunos, o una enseñanza cada vez más reflexiva y consciente, para otros” (p. 34). "
   ]
  },
  {
   "cell_type": "markdown",
   "id": "5f7ddb79",
   "metadata": {
    "slideshow": {
     "slide_type": "slide"
    }
   },
   "source": [
    "Brostrom (1979) propone una clasificación de los profesores basada en cuatro estilos, a saber: a) doctor, que moldea comportamientos mediante refuerzo; b) experto, que hace énfasis en el conocimiento que debe adquirirse; c) entrenador, que pone su atención en la aplicación práctica del conocimiento; y d) humanista, que valora el autodescubrimiento en contextos acogedores y flexibles (Camargo y Hederich, 2007: 35)."
   ]
  },
  {
   "cell_type": "markdown",
   "id": "6e9a72e8",
   "metadata": {
    "slideshow": {
     "slide_type": "slide"
    }
   },
   "source": [
    "Otra propuesta relacionada con los estilos de enseñanza es la llevada a cabo por Grasha (1996), quien a partir de la idea de que los estilos de enseñanza son solo una parte de la ecuación en la actividad educativa dentro del aula, propuso un modelo integrado de estilos de enseñanza y estilos de aprendizaje. "
   ]
  },
  {
   "cell_type": "markdown",
   "id": "b79824dd",
   "metadata": {
    "slideshow": {
     "slide_type": "slide"
    }
   },
   "source": [
    "Según este autor, se pueden definir cinco estilos de enseñanza específicos: el de experto, el de autoridad formal, el \n",
    "de modelo personal, el facilitador y el delegador. "
   ]
  },
  {
   "cell_type": "markdown",
   "id": "62187b01",
   "metadata": {
    "slideshow": {
     "slide_type": "slide"
    }
   },
   "source": [
    "El siguiente cuadro ilustra las características de cada uno de los estilos propuestos por Grasha. "
   ]
  },
  {
   "cell_type": "markdown",
   "id": "bd7b98cd",
   "metadata": {
    "slideshow": {
     "slide_type": "slide"
    }
   },
   "source": [
    "<img src = 'https://github.com/marco-canas/4_didactica_aritmetica/blob/main/evaluation/exposicion_2_estilos_ense%C3%B1anza_aritmetica/estilos_ense%C3%B1anza.png?raw=true'>"
   ]
  },
  {
   "cell_type": "markdown",
   "id": "8b13e2ac",
   "metadata": {
    "slideshow": {
     "slide_type": "slide"
    }
   },
   "source": [
    "# Potenciación. Una reflexión desde la aritmética"
   ]
  },
  {
   "cell_type": "markdown",
   "id": "a3b0c690",
   "metadata": {},
   "source": [
    "# Objetivo de aprendizaje\n",
    "\n",
    "Redactar un objetivo sencillo que no necesite más de tres líneas y sea muy claro para el estudiante"
   ]
  },
  {
   "cell_type": "markdown",
   "id": "0367b112",
   "metadata": {
    "slideshow": {
     "slide_type": "slide"
    }
   },
   "source": [
    "# Secuencia de contenido"
   ]
  },
  {
   "cell_type": "markdown",
   "id": "6b1a04f3",
   "metadata": {
    "slideshow": {
     "slide_type": "slide"
    }
   },
   "source": [
    "### Definición\n",
    "\n",
    "$$ a^{n}, \\quad \\quad  a > 0, a \\neq 1, n \\in Z^{+} \\cup \\{0\\}$$"
   ]
  },
  {
   "cell_type": "markdown",
   "id": "aa545fde",
   "metadata": {
    "slideshow": {
     "slide_type": "slide"
    }
   },
   "source": [
    "## Ejemplos de potencias"
   ]
  },
  {
   "cell_type": "markdown",
   "id": "53764de4",
   "metadata": {
    "slideshow": {
     "slide_type": "slide"
    }
   },
   "source": [
    "## Ejercicios propuestos para los estudiantes \n",
    "\n"
   ]
  },
  {
   "cell_type": "markdown",
   "id": "a35a16dd",
   "metadata": {
    "slideshow": {
     "slide_type": "slide"
    }
   },
   "source": [
    "# Construir con los estudiantes las propiedades de la potenciación de exponente no negativo\n",
    "\n",
    "1. Producto de potencia de igualk base\n",
    "2. División de potencias de igual base\n",
    "3. La potencia de una potencia\n",
    "4. Distributividad del exponente para productos. "
   ]
  },
  {
   "cell_type": "markdown",
   "id": "40128823",
   "metadata": {},
   "source": [
    "## Reflexionar sobre elgunos problemas de aprendizaje alrededor de este tipo de potencia. "
   ]
  },
  {
   "cell_type": "markdown",
   "id": "7e3be1cb",
   "metadata": {
    "slideshow": {
     "slide_type": "slide"
    }
   },
   "source": [
    "Simplifique la expresión. Suponga que las letras representan números reales.\n",
    "$$ \\sqrt[4]{x^{4}} $$"
   ]
  },
  {
   "cell_type": "markdown",
   "id": "3173249d",
   "metadata": {
    "slideshow": {
     "slide_type": "slide"
    }
   },
   "source": [
    "Este problema de simplificación se parece al problema de simplificar \n",
    "\n",
    "$$ \\sqrt{x^{2}} $$\n",
    "\n",
    "considerando que $x$ es un número real. \n"
   ]
  },
  {
   "cell_type": "markdown",
   "id": "152bab0e",
   "metadata": {
    "slideshow": {
     "slide_type": "slide"
    }
   },
   "source": [
    "Recordemos $x^{2} = x \\cdot x$. Lo que quiere decir que la potenciación de exponente entero positivo significa multiplicación repetida. "
   ]
  },
  {
   "cell_type": "markdown",
   "id": "c9051156",
   "metadata": {
    "slideshow": {
     "slide_type": "slide"
    }
   },
   "source": [
    "La utilidad de la potenciación de entero positivo es la de resumir las expreseiones de muchos factores repetidos. "
   ]
  },
  {
   "cell_type": "markdown",
   "id": "6cde1978",
   "metadata": {
    "slideshow": {
     "slide_type": "slide"
    }
   },
   "source": [
    "Luego, elevar al cuadrado y en general a cualquier potencia par nos dará un resultado positivo a cero. \n",
    "\n",
    "$$ x^{2n} \\geq 0 $$"
   ]
  },
  {
   "cell_type": "markdown",
   "id": "bb1f3a5d",
   "metadata": {
    "slideshow": {
     "slide_type": "slide"
    }
   },
   "source": [
    "## Definición de raiz cuadrada como operador funcional "
   ]
  },
  {
   "cell_type": "markdown",
   "id": "bde31677",
   "metadata": {
    "slideshow": {
     "slide_type": "slide"
    }
   },
   "source": [
    "Sea $x \\in \\mathbb{R}^{+} \\cup \\{0\\}$, entonces \n",
    "\n",
    "$$\\sqrt{x} := y \\geq 0$$\n",
    "\n",
    "tal que $y^{2} = x$"
   ]
  },
  {
   "cell_type": "markdown",
   "id": "0cd9b427",
   "metadata": {
    "slideshow": {
     "slide_type": "slide"
    }
   },
   "source": [
    "De donde se infiere que \n",
    "\n",
    "$$\\sqrt{x^{2}} = |x|$$\n"
   ]
  },
  {
   "cell_type": "markdown",
   "id": "bc5ad466",
   "metadata": {
    "slideshow": {
     "slide_type": "slide"
    }
   },
   "source": [
    "$$ \\sqrt[4]{x^{4}}  = |x|$$"
   ]
  },
  {
   "cell_type": "markdown",
   "id": "53ad3fd1",
   "metadata": {
    "slideshow": {
     "slide_type": "slide"
    }
   },
   "source": [
    "# La potenciación de exponente racional "
   ]
  },
  {
   "cell_type": "markdown",
   "id": "61c2954b",
   "metadata": {
    "slideshow": {
     "slide_type": "slide"
    }
   },
   "source": [
    "$$ x^{1/2} = \\sqrt[2]{x^{1}} $$\n",
    "\n",
    "la potenciación de exponente racional significa radicación"
   ]
  },
  {
   "cell_type": "markdown",
   "id": "8a205686",
   "metadata": {
    "slideshow": {
     "slide_type": "slide"
    }
   },
   "source": [
    "\\begin{align*}\n",
    "\\sqrt[4]{x^{4}} & = (x^{4})^{1/4} \\\\\n",
    "                & = |x|^{1}\n",
    "\\end{align*}"
   ]
  },
  {
   "cell_type": "code",
   "execution_count": 10,
   "id": "2acd2574",
   "metadata": {
    "slideshow": {
     "slide_type": "slide"
    }
   },
   "outputs": [],
   "source": [
    "from sympy import *"
   ]
  },
  {
   "cell_type": "code",
   "execution_count": 11,
   "id": "b17ea963",
   "metadata": {
    "slideshow": {
     "slide_type": "slide"
    }
   },
   "outputs": [],
   "source": [
    "x = var('x', real = True)"
   ]
  },
  {
   "cell_type": "code",
   "execution_count": 12,
   "id": "9f92a6db",
   "metadata": {
    "slideshow": {
     "slide_type": "slide"
    }
   },
   "outputs": [
    {
     "data": {
      "text/latex": [
       "$\\displaystyle \\left|{x}\\right|^{1.0}$"
      ],
      "text/plain": [
       "Abs(x)**1.0"
      ]
     },
     "execution_count": 12,
     "metadata": {},
     "output_type": "execute_result"
    }
   ],
   "source": [
    "(x**4)**(1/4)"
   ]
  },
  {
   "cell_type": "code",
   "execution_count": 9,
   "id": "5e1f0e9d",
   "metadata": {
    "slideshow": {
     "slide_type": "slide"
    }
   },
   "outputs": [
    {
     "ename": "AttributeError",
     "evalue": "'float' object has no attribute 'evalf'",
     "output_type": "error",
     "traceback": [
      "\u001b[1;31m---------------------------------------------------------------------------\u001b[0m",
      "\u001b[1;31mAttributeError\u001b[0m                            Traceback (most recent call last)",
      "\u001b[1;32m~\\AppData\\Local\\Temp\\ipykernel_14528\\1504931153.py\u001b[0m in \u001b[0;36m<module>\u001b[1;34m\u001b[0m\n\u001b[1;32m----> 1\u001b[1;33m \u001b[1;33m(\u001b[0m\u001b[0mx\u001b[0m\u001b[1;33m**\u001b[0m\u001b[1;36m4\u001b[0m\u001b[1;33m)\u001b[0m\u001b[1;33m**\u001b[0m\u001b[1;33m(\u001b[0m\u001b[1;36m1\u001b[0m\u001b[1;33m/\u001b[0m\u001b[1;36m4\u001b[0m\u001b[1;33m)\u001b[0m\u001b[1;33m.\u001b[0m\u001b[0mevalf\u001b[0m\u001b[1;33m(\u001b[0m\u001b[1;33m)\u001b[0m\u001b[1;33m\u001b[0m\u001b[1;33m\u001b[0m\u001b[0m\n\u001b[0m",
      "\u001b[1;31mAttributeError\u001b[0m: 'float' object has no attribute 'evalf'"
     ]
    }
   ],
   "source": [
    "(x**4)**(1/4)"
   ]
  },
  {
   "cell_type": "markdown",
   "id": "82feacd9",
   "metadata": {
    "slideshow": {
     "slide_type": "slide"
    }
   },
   "source": [
    "## Representación gráfica de la raiz del cuadrado de un número real x"
   ]
  },
  {
   "cell_type": "code",
   "execution_count": 16,
   "id": "283e90d3",
   "metadata": {
    "slideshow": {
     "slide_type": "slide"
    }
   },
   "outputs": [
    {
     "data": {
      "image/png": "[encoded data removed]",
      "text/plain": [
       "<Figure size 640x480 with 1 Axes>"
      ]
     },
     "metadata": {},
     "output_type": "display_data"
    }
   ],
   "source": [
    "import numpy as np \n",
    "import matplotlib.pyplot as plt\n",
    "\n",
    "x = np.arange(-4, 5)\n",
    "\n",
    "plt.plot(x, (x**2)**(1/2))\n",
    "\n",
    "plt.title('la raiz del cuadrado de un número real x')\n",
    "\n",
    "plt.grid(alpha = 0.4) \n",
    "\n",
    "plt.savefig('la_raiz_del_cuadrado.jpg')\n",
    "\n",
    "plt.show()\n"
   ]
  },
  {
   "cell_type": "markdown",
   "id": "a32df6eb",
   "metadata": {
    "slideshow": {
     "slide_type": "slide"
    }
   },
   "source": [
    "## Conclusiones de la experimentación gráfica con matplotlib"
   ]
  },
  {
   "cell_type": "markdown",
   "id": "c0aa65de",
   "metadata": {
    "slideshow": {
     "slide_type": "slide"
    }
   },
   "source": [
    "* Efectivamente la raiz del cuadado de un número real es su valor obsoluto. "
   ]
  },
  {
   "cell_type": "markdown",
   "id": "b5671431",
   "metadata": {
    "slideshow": {
     "slide_type": "slide"
    }
   },
   "source": [
    "## Realice un video y un cuaderno en donde enseñe a eidtar líneas markdown y a utilizar sympy para simplificar expresiones algebraicas asociadas a la potenciación y a la radicación. "
   ]
  },
  {
   "cell_type": "markdown",
   "id": "1647092c",
   "metadata": {
    "slideshow": {
     "slide_type": "slide"
    }
   },
   "source": [
    "Simplifique \n",
    "\n",
    "\n",
    "$$ \\sqrt[5]{x^{10}} $$"
   ]
  },
  {
   "cell_type": "markdown",
   "id": "d421a2b7",
   "metadata": {
    "slideshow": {
     "slide_type": "slide"
    }
   },
   "source": [
    "## [Envie su tarea resuelta a través de este vínculo de Microsoft form]()"
   ]
  },
  {
   "cell_type": "markdown",
   "id": "57afa83d",
   "metadata": {
    "slideshow": {
     "slide_type": "slide"
    }
   },
   "source": [
    "## Referentes  \n",
    "\n",
    "* [Estilos de enseñanza](https://udeaeduco-my.sharepoint.com/:b:/g/personal/marco_canas_udea_edu_co/EagoH3hpbShEub1IqCmJRegBJr0fWJw48dvWgUpDnXx5Kw?e=lBKEEC) Paulo Emilio Oviedo  \n",
    "\n",
    "* Declaración de variables simbólicas en Sympy: https://mauriciotejada.com/programacionjulia/%C3%A1lgebra-simb%C3%B3lica.html"
   ]
  },
  {
   "cell_type": "markdown",
   "id": "b567750b",
   "metadata": {
    "slideshow": {
     "slide_type": "slide"
    }
   },
   "source": [
    "# Para mi ha sido un descubrimiento"
   ]
  },
  {
   "cell_type": "markdown",
   "id": "537b3ba4",
   "metadata": {
    "slideshow": {
     "slide_type": "slide"
    }
   },
   "source": [
    "$$ \\sqrt{x^{2}} = |x| $$"
   ]
  },
  {
   "cell_type": "code",
   "execution_count": 24,
   "id": "64f5f5bc",
   "metadata": {
    "slideshow": {
     "slide_type": "slide"
    }
   },
   "outputs": [
    {
     "data": {
      "image/png": "[encoded data removed]",
      "text/plain": [
       "<Figure size 640x480 with 1 Axes>"
      ]
     },
     "metadata": {},
     "output_type": "display_data"
    }
   ],
   "source": [
    "import matplotlib.pyplot as plt\n",
    "\n",
    "import numpy as np \n",
    "\n",
    "x = np.arange(-5,6)\n",
    "\n",
    "plt.plot(x, (x**2)**(1/2))\n",
    "\n",
    "plt.grid() \n",
    "\n",
    "plt.savefig('uve.jpg')\n",
    "\n",
    "plt.show() \n"
   ]
  },
  {
   "cell_type": "markdown",
   "id": "c7590546",
   "metadata": {
    "slideshow": {
     "slide_type": "slide"
    }
   },
   "source": [
    "Para mi es una descubrimiento sencillo en ver que efectivamente, la raiz del cuadado de un número real es su valor absoluto. "
   ]
  },
  {
   "cell_type": "code",
   "execution_count": 19,
   "id": "5ae28d65",
   "metadata": {
    "slideshow": {
     "slide_type": "slide"
    }
   },
   "outputs": [],
   "source": [
    "from sympy import * "
   ]
  },
  {
   "cell_type": "code",
   "execution_count": 22,
   "id": "378e4d11",
   "metadata": {
    "slideshow": {
     "slide_type": "slide"
    }
   },
   "outputs": [],
   "source": [
    "x = var('x', real = True)"
   ]
  },
  {
   "cell_type": "code",
   "execution_count": 23,
   "id": "c4fb61a8",
   "metadata": {},
   "outputs": [
    {
     "data": {
      "text/latex": [
       "$\\displaystyle \\left|{x}\\right|^{1.0}$"
      ],
      "text/plain": [
       "Abs(x)**1.0"
      ]
     },
     "execution_count": 23,
     "metadata": {},
     "output_type": "execute_result"
    }
   ],
   "source": [
    "(x**2)**(1/2)"
   ]
  },
  {
   "cell_type": "code",
   "execution_count": null,
   "id": "73fd59e2",
   "metadata": {},
   "outputs": [],
   "source": []
  }
 ],
 "metadata": {
  "celltoolbar": "Slideshow",
  "kernelspec": {
   "display_name": "Python 3 (ipykernel)",
   "language": "python",
   "name": "python3"
  },
  "language_info": {
   "codemirror_mode": {
    "name": "ipython",
    "version": 3
   },
   "file_extension": ".py",
   "mimetype": "text/x-python",
   "name": "python",
   "nbconvert_exporter": "python",
   "pygments_lexer": "ipython3",
   "version": "3.9.13"
  },
  "rise": {
   "enable_chalkboard": true,
   "theme": "sky"
  }
 },
 "nbformat": 4,
 "nbformat_minor": 5
}
