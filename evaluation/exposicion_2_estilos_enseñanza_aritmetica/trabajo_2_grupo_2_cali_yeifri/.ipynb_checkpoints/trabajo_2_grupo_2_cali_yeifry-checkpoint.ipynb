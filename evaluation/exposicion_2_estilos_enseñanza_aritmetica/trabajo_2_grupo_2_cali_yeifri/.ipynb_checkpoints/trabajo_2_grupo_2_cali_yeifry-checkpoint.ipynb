{
 "cells": [
  {
   "cell_type": "markdown",
   "id": "21b20896",
   "metadata": {},
   "source": []
  },
  {
   "cell_type": "markdown",
   "id": "d0d16de8",
   "metadata": {},
   "source": []
  },
  {
   "cell_type": "markdown",
   "id": "e2c87526",
   "metadata": {},
   "source": [
    "# Trabajo 2 Grupo 2 \n",
    "\n",
    "* Cali\n",
    "\n",
    "* Yeifry\n",
    "\n",
    "**Contenido es**: Funciones trigonométricas y sus represetaciones y aplicación. \n",
    "\n",
    "**Estilo de enseñanza**: Delegador: Es aquel docente que le da libertad al alumno para ser lo más autónomo posible. Motiva a los estudiantes a trabajar en proyectos de manera independiente o en pequeños equipos. Funge solamente como consultor del proyecto."
   ]
  },
  {
   "cell_type": "code",
   "execution_count": null,
   "id": "5ada2fed",
   "metadata": {},
   "outputs": [],
   "source": []
  },
  {
   "cell_type": "code",
   "execution_count": null,
   "id": "9db2717c",
   "metadata": {},
   "outputs": [],
   "source": []
  }
 ],
 "metadata": {
  "kernelspec": {
   "display_name": "Python 3 (ipykernel)",
   "language": "python",
   "name": "python3"
  },
  "language_info": {
   "codemirror_mode": {
    "name": "ipython",
    "version": 3
   },
   "file_extension": ".py",
   "mimetype": "text/x-python",
   "name": "python",
   "nbconvert_exporter": "python",
   "pygments_lexer": "ipython3",
   "version": "3.9.13"
  }
 },
 "nbformat": 4,
 "nbformat_minor": 5
}
