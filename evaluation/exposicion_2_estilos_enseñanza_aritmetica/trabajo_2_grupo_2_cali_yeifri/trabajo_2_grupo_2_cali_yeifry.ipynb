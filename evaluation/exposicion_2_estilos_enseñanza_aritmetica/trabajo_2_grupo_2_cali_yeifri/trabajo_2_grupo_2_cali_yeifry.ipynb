{
 "cells": [
  {
   "cell_type": "markdown",
   "id": "31766ccb",
   "metadata": {},
   "source": [
    "<table align=\"left\">\n",
    "  <td>\n",
    "    <a href=\"https://colab.research.google.com/github/marco-canas/4_didactica_aritmetica/blob/main/classes/5_class_feb_23_jueves_estilos_ense%C3%B1anza/5_class_feb_23.ipynb\" target=\"_parent\"><img src=\"https://colab.research.google.com/assets/colab-badge.svg\" alt=\"Open In Colab\"/></a>\n",
    "  </td>\n",
    "</table>"
   ]
  },
  {
   "cell_type": "markdown",
   "id": "945d1784",
   "metadata": {},
   "source": [
    "## [Video de apoyo]()"
   ]
  },
  {
   "cell_type": "markdown",
   "id": "843c83f9",
   "metadata": {},
   "source": [
    "# Trabajo 2 Grupo 2 \n",
    "\n",
    "* Cali\n",
    "\n",
    "* Yeifry\n",
    "\n",
    "**Contenido es**: Funciones trigonométricas y sus represetaciones y aplicación. \n",
    "\n",
    "**Estilo de enseñanza**: Delegador: Es aquel docente que le da libertad al alumno para ser lo más autónomo posible. Motiva a los estudiantes a trabajar en proyectos de manera independiente o en pequeños equipos. Funge solamente como consultor del proyecto."
   ]
  },
  {
   "cell_type": "code",
   "execution_count": null,
   "id": "a5c0dbdc",
   "metadata": {},
   "outputs": [],
   "source": []
  },
  {
   "cell_type": "markdown",
   "id": "6591c295",
   "metadata": {},
   "source": [
    "## Entregables\n",
    "\n",
    "\n",
    "1. Video \n",
    "\n",
    "2. Diseño escrito de la clase en **uno** de los siguientes:\n",
    "\n",
    "   * un manuscrito escaneado\n",
    "   * Un cuaderno Jupyter\n",
    "   * Presentación power point\n",
    "   * Archivo word\n",
    "   * Un archivo excel. \n",
    "   * En hojas de block. "
   ]
  },
  {
   "cell_type": "code",
   "execution_count": null,
   "id": "bacedbc3",
   "metadata": {},
   "outputs": [],
   "source": []
  }
 ],
 "metadata": {
  "kernelspec": {
   "display_name": "Python 3 (ipykernel)",
   "language": "python",
   "name": "python3"
  },
  "language_info": {
   "codemirror_mode": {
    "name": "ipython",
    "version": 3
   },
   "file_extension": ".py",
   "mimetype": "text/x-python",
   "name": "python",
   "nbconvert_exporter": "python",
   "pygments_lexer": "ipython3",
   "version": "3.9.13"
  }
 },
 "nbformat": 4,
 "nbformat_minor": 5
}
