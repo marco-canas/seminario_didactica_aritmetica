{
 "cells": [
  {
   "cell_type": "markdown",
   "id": "87f50e75",
   "metadata": {
    "slideshow": {
     "slide_type": "slide"
    }
   },
   "source": [
    "<table align=\"left\">\n",
    "  <td>\n",
    "    <a href=\"https://colab.research.google.com/github/marco-canas/4_didactica_aritmetica/blob/main/evaluation/calendarizacion_de_las_exposiciones.ipynb\" target=\"_parent\"><img src=\"https://colab.research.google.com/assets/colab-badge.svg\" alt=\"Open In Colab\"/></a>\n",
    "  </td>\n",
    "</table>"
   ]
  },
  {
   "cell_type": "markdown",
   "id": "794e79fd",
   "metadata": {
    "slideshow": {
     "slide_type": "slide"
    }
   },
   "source": []
  },
  {
   "cell_type": "markdown",
   "id": "297b1655",
   "metadata": {},
   "source": [
    "# Calendarización de exposiciones"
   ]
  },
  {
   "cell_type": "markdown",
   "id": "342af6f2",
   "metadata": {
    "slideshow": {
     "slide_type": "slide"
    }
   },
   "source": [
    "## Calendarización de la primera exposición flipped learning"
   ]
  },
  {
   "cell_type": "markdown",
   "id": "8acb5b2f",
   "metadata": {
    "slideshow": {
     "slide_type": "slide"
    }
   },
   "source": [
    "La semana del 27 al 31 de marzo es de asesoría:\n",
    "\n",
    "\n",
    "- El martes 28 de marzo \n",
    "  * 4:00 - 4:30: media hora inicial general con todos los estudiantes.\n",
    "  * 4:30 - 5:00: Media hora para el grupo 1: Merlis Julieth y Fancisco Javier. \n",
    "  * 5:00 - 5:30: media hora para el grupo 2: Estefanía Caly y Yeifry Uribe.\n",
    "  \n",
    "- El jueves 30 de marzo \n",
    "  * 4:00 - 4:30: media hora para el grupo 3:.\n",
    "  * 4:30 - 5:00: media hora para el grupo 4: . \n",
    "  * 5:00 - 5:30 media hora para el grupo 5: .  "
   ]
  },
  {
   "cell_type": "markdown",
   "id": "8a3ddf0d",
   "metadata": {
    "slideshow": {
     "slide_type": "slide"
    }
   },
   "source": [
    "Fechas de exposición del trabajo 1 sobre aprendizaje invertido \n",
    "\n",
    "* Para el grupo 1: 4 de abril (martes) \n",
    "* Para el grupo 2: 4 de abril (martes) \n",
    "* Para el grupo 3: 6 de abril (jueves) \n",
    "* Para el grupo 4: 6 de abril (jueves) \n",
    "* Para el grupo 5: 11 de abril (Martes) \n"
   ]
  },
  {
   "cell_type": "markdown",
   "id": "ba0985c1",
   "metadata": {
    "slideshow": {
     "slide_type": "slide"
    }
   },
   "source": [
    "## Calendarización de la segunda exposición estilos de enseñanza"
   ]
  },
  {
   "cell_type": "markdown",
   "id": "f086ec5f",
   "metadata": {
    "slideshow": {
     "slide_type": "slide"
    }
   },
   "source": [
    "## Calendarización de la tercera exposición estilos de aprendizaje"
   ]
  },
  {
   "cell_type": "code",
   "execution_count": null,
   "id": "585c6496",
   "metadata": {
    "slideshow": {
     "slide_type": "slide"
    }
   },
   "outputs": [],
   "source": []
  },
  {
   "cell_type": "markdown",
   "id": "469e46fa",
   "metadata": {
    "slideshow": {
     "slide_type": "slide"
    }
   },
   "source": [
    "# Criterios de evaluación de las exposiciones o trabajos"
   ]
  },
  {
   "cell_type": "markdown",
   "id": "752b5282",
   "metadata": {
    "slideshow": {
     "slide_type": "slide"
    }
   },
   "source": [
    "1. El trabajo es por equipos y la calificación es individual"
   ]
  },
  {
   "cell_type": "code",
   "execution_count": null,
   "id": "7488c63d",
   "metadata": {},
   "outputs": [],
   "source": []
  }
 ],
 "metadata": {
  "celltoolbar": "Slideshow",
  "kernelspec": {
   "display_name": "Python 3 (ipykernel)",
   "language": "python",
   "name": "python3"
  },
  "language_info": {
   "codemirror_mode": {
    "name": "ipython",
    "version": 3
   },
   "file_extension": ".py",
   "mimetype": "text/x-python",
   "name": "python",
   "nbconvert_exporter": "python",
   "pygments_lexer": "ipython3",
   "version": "3.9.13"
  }
 },
 "nbformat": 4,
 "nbformat_minor": 5
}
